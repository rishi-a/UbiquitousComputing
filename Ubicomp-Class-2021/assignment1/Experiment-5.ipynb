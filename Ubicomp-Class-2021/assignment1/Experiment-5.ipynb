{
 "cells": [
  {
   "cell_type": "code",
   "execution_count": 1,
   "metadata": {},
   "outputs": [],
   "source": [
    "# Import the primary data analysis libraries\n",
    "import matplotlib.pyplot as plt\n",
    "import numpy as np \n",
    "import scipy as sp\n",
    "import math\n",
    "from scipy import signal\n",
    "import pandas as pd\n",
    "import os\n",
    "import latexify\n",
    "log_path = 'data/'"
   ]
  },
  {
   "cell_type": "code",
   "execution_count": 2,
   "metadata": {},
   "outputs": [],
   "source": [
    "#helper function\n",
    "def thresholding_algo_type1(y, lag, threshold, influence):\n",
    "    signals = np.zeros(len(y))\n",
    "    filteredY = np.array(y)\n",
    "    avgFilter = [0]*len(y)\n",
    "    stdFilter = [0]*len(y)\n",
    "    avgFilter[lag - 1] = np.mean(y[0:lag])\n",
    "    stdFilter[lag - 1] = np.std(y[0:lag])\n",
    "    for i in range(lag, len(y)):\n",
    "        if abs(y[i] - avgFilter[i-1]) > threshold * stdFilter [i-1]:\n",
    "            if y[i] > avgFilter[i-1]:\n",
    "                signals[i] = 1\n",
    "            else:\n",
    "                signals[i] = -1\n",
    "\n",
    "            filteredY[i] = influence * y[i] + (1 - influence) * filteredY[i-1]\n",
    "            avgFilter[i] = np.mean(filteredY[(i-lag+1):i+1])\n",
    "            stdFilter[i] = np.std(filteredY[(i-lag+1):i+1])\n",
    "        else:\n",
    "            signals[i] = 0\n",
    "            filteredY[i] = y[i]\n",
    "            avgFilter[i] = np.mean(filteredY[(i-lag+1):i+1])\n",
    "            stdFilter[i] = np.std(filteredY[(i-lag+1):i+1])\n",
    "\n",
    "    return dict(signals = np.asarray(signals),\n",
    "                avgFilter = np.asarray(avgFilter),\n",
    "                stdFilter = np.asarray(stdFilter))\n",
    "\n",
    "#type is based on median instead of mean for the running average of the signal\n",
    "def thresholding_algo_type2(y, lag, threshold, influence):\n",
    "    signals = np.zeros(len(y))\n",
    "    filteredY = np.array(y)\n",
    "    avgFilter = [0]*len(y)\n",
    "    stdFilter = [0]*len(y)\n",
    "    avgFilter[lag - 1] = np.median(y[0:lag])\n",
    "    stdFilter[lag - 1] = np.std(y[0:lag])\n",
    "    for i in range(lag, len(y)):\n",
    "        if abs(y[i] - avgFilter[i-1]) > threshold * stdFilter [i-1]:\n",
    "            if y[i] > avgFilter[i-1]:\n",
    "                signals[i] = 1\n",
    "            else:\n",
    "                signals[i] = -1\n",
    "\n",
    "            filteredY[i] = influence * y[i] + (1 - influence) * filteredY[i-1]\n",
    "            avgFilter[i] = np.median(filteredY[(i-lag+1):i+1])\n",
    "            stdFilter[i] = np.std(filteredY[(i-lag+1):i+1])\n",
    "        else:\n",
    "            signals[i] = 0\n",
    "            filteredY[i] = y[i]\n",
    "            avgFilter[i] = np.median(filteredY[(i-lag+1):i+1])\n",
    "            stdFilter[i] = np.std(filteredY[(i-lag+1):i+1])\n",
    "\n",
    "    return dict(signals = np.asarray(signals),\n",
    "                avgFilter = np.asarray(avgFilter),\n",
    "                stdFilter = np.asarray(stdFilter))\n",
    "\n",
    "\n",
    "#type is based on median and median absolute deviation > np.median(np.absolute(x - np.median(x)))\n",
    "def thresholding_algo_type3(y, lag, threshold, influence):\n",
    "    signals = np.zeros(len(y))\n",
    "    filteredY = np.array(y)\n",
    "    avgFilter = [0]*len(y)\n",
    "    stdFilter = [0]*len(y)\n",
    "    avgFilter[lag - 1] = np.mean(y[0:lag])\n",
    "    stdFilter[lag - 1] = np.median(np.absolute(y[0:lag] - np.median(y[0:lag])))\n",
    "    for i in range(lag, len(y)):\n",
    "        if abs(y[i] - avgFilter[i-1]) > threshold * stdFilter [i-1]:\n",
    "            if y[i] > avgFilter[i-1]:\n",
    "                signals[i] = 1\n",
    "            else:\n",
    "                signals[i] = -1\n",
    "\n",
    "            filteredY[i] = influence * y[i] + (1 - influence) * filteredY[i-1]\n",
    "            avgFilter[i] = np.mean(filteredY[(i-lag+1):i+1])\n",
    "            stdFilter[i] = np.median(np.absolute(filteredY[(i-lag+1):i+1] - np.median(filteredY[(i-lag+1):i+1])))\n",
    "\n",
    "        else:\n",
    "            signals[i] = 0\n",
    "            filteredY[i] = y[i]\n",
    "            avgFilter[i] = np.mean(filteredY[(i-lag+1):i+1])\n",
    "            stdFilter[i] = np.median(np.absolute(filteredY[(i-lag+1):i+1] - np.median(filteredY[(i-lag+1):i+1])))\n",
    "\n",
    "    return dict(signals = np.asarray(signals),\n",
    "                avgFilter = np.asarray(avgFilter),\n",
    "                stdFilter = np.asarray(stdFilter))"
   ]
  },
  {
   "cell_type": "code",
   "execution_count": 3,
   "metadata": {},
   "outputs": [
    {
     "name": "stdout",
     "output_type": "stream",
     "text": [
      "data/Hip/10Steps_L2_20210825_184100.csv\n",
      "data/Hip/15Steps_L2_20210825_184003.csv\n",
      "data/Hip/20Steps_L2_20210825_184146.csv\n",
      "data/Pocket/Orientation1/10Steps_20210825_183129.csv\n",
      "data/Pocket/Orientation1/12Steps_20210825_183207.csv\n",
      "data/Pocket/Orientation1/15Steps_20210821_132340.csv\n",
      "data/Pocket/Orientation1/15Steps_20210821_132752.csv\n",
      "data/Pocket/Orientation1/15Steps_20210821_132926.csv\n",
      "data/Pocket/Orientation1/20Steps_20210825_182900.csv\n",
      "data/Pocket/Orientation1/25Steps_20210825_183002.csv\n",
      "data/Pocket/Orientation1/30Steps_20210825_182748.csv\n",
      "data/Hand/10Steps_L3_20210825_184434.csv\n",
      "data/Hand/21Steps_L3_20210825_184240.csv\n",
      "data/Hand/25Steps_L3_20210825_184329.csv\n"
     ]
    }
   ],
   "source": [
    "#print all available files\n",
    "dirs = ['Hip/', 'Pocket/Orientation1/', 'Hand/']\n",
    "for folder in dirs:\n",
    "    for filename in os.listdir(log_path+folder):\n",
    "        print(log_path+folder+filename)"
   ]
  },
  {
   "cell_type": "markdown",
   "metadata": {},
   "source": [
    "## Experiment 5\n",
    "Perform an ablation study on different feature sets "
   ]
  },
  {
   "cell_type": "markdown",
   "metadata": {},
   "source": [
    "### Modified Peak Detection Algorithm Type 1\n",
    "Note that the `threshold` was empirically chosen for different position of the body. The low frequency noise gets eliminated by taking the average of 10 data points of the signal"
   ]
  },
  {
   "cell_type": "code",
   "execution_count": 10,
   "metadata": {},
   "outputs": [
    {
     "name": "stdout",
     "output_type": "stream",
     "text": [
      "\n",
      "Location = Hip\n",
      "Mean Percentage Error = 5.00%\n",
      "\n",
      "Location = Pocket/Orientation1\n",
      "Mean Percentage Error = 1.89%\n",
      "\n",
      "Location = Hand\n",
      "Mean Percentage Error = 2.67%\n"
     ]
    },
    {
     "name": "stderr",
     "output_type": "stream",
     "text": [
      "C:\\ProgramData\\Anaconda3\\lib\\_collections_abc.py:841: MatplotlibDeprecationWarning: Support for setting the 'text.latex.preamble' or 'pgf.preamble' rcParam to a list of strings is deprecated since 3.3 and will be removed two minor releases later; set it to a single string instead.\n",
      "  self[key] = other[key]\n",
      "C:\\ProgramData\\Anaconda3\\lib\\site-packages\\ipykernel_launcher.py:53: UserWarning: FixedFormatter should only be used together with FixedLocator\n"
     ]
    },
    {
     "data": {
      "image/png": "[encoded data removed]",
      "text/plain": [
       "<Figure size 244.08x150.85 with 1 Axes>"
      ]
     },
     "metadata": {},
     "output_type": "display_data"
    }
   ],
   "source": [
    "mpe=0;\n",
    "\n",
    "#lists to generate bar plot\n",
    "positions = []\n",
    "mperrors = []\n",
    "\n",
    "\n",
    "#use optimal values detected above\n",
    "for folder in dirs:\n",
    "    difference = 0 #this variable will be used to track the Mean Absolute Error.\n",
    "    mpe = 0 #this variable will track the mean percentage error\n",
    "    print(\"\\nLocation = {}\".format(folder[:-1]))\n",
    "    positions.append(folder[:-1])\n",
    "    for filename in os.listdir(log_path+folder):\n",
    "        #fig, ax  = plt.subplots(2,1)\n",
    "        #each file contains the step count in the first two characters\n",
    "        groundTruth = int(filename[:2])\n",
    "        df1 = pd.read_csv(log_path+folder+filename).dropna()\n",
    "        df1['Timestamp'] = pd.to_datetime(df1.Timestamp, format='%d-%b-%Y %H:%M:%S.%f')\n",
    "        df1.index = df1.Timestamp;\n",
    "        acc1_mag = np.sqrt(df1.X**2+df1.Y**2+df1.Z)\n",
    "        # Run algo with settings from above\n",
    "        \n",
    "        if folder[:-1] == 'Pocket/Orientation1':\n",
    "            result = thresholding_algo_type1(acc1_mag, lag=10, threshold=6, influence=0.8)\n",
    "        elif folder[:-1] == 'Hip':\n",
    "            result = thresholding_algo_type1(acc1_mag, lag=10, threshold=6, influence=0.4)\n",
    "        elif folder[:-1] == 'Hand':\n",
    "            result = thresholding_algo_type1(acc1_mag, lag=10, threshold=5, influence=0.4)\n",
    "\n",
    "        #ax[0].plot(np.arange(1, len(acc1_mag)+1), acc1_mag)\n",
    "        #ax[0].set_xlabel(\"Data Points\")\n",
    "        #ax[0].set_ylabel(\"Magnitude of\\nacceleration\")\n",
    "        #ax[0].plot(np.arange(1, len(acc1_mag)+1),result[\"avgFilter\"], color=\"cyan\", lw=2)\n",
    "        #ax[0].plot(np.arange(1, len(acc1_mag)+1),result[\"avgFilter\"] + threshold * result[\"stdFilter\"], color=\"green\", lw=2)\n",
    "        #ax[0].plot(np.arange(1, len(acc1_mag)+1),result[\"avgFilter\"] - threshold * result[\"stdFilter\"], color=\"green\", lw=2)\n",
    "        #ax[1].plot(np.arange(1, len(acc1_mag)+1), result[\"signals\"], color=\"red\", lw=2)\n",
    "        #ax[1].set_xlabel(\"Data Points\")\n",
    "        #x[1].set_ylabel(\"Magnitude of\\nacceleration\")\n",
    "        #print(\"\\nSteps Detected = {}\".format(len([i for i in result[\"signals\"] if i == 1.0])))\n",
    "        #print(\"Ground Truth = {}\".format(groundTruth))\n",
    "        mpe+=((groundTruth-len([i for i in result[\"signals\"] if i == 1.0]))/groundTruth)\n",
    "\n",
    "    mpe = abs((mpe/len((os.listdir(log_path)))*100));\n",
    "    print(\"Mean Percentage Error = {:.2f}%\".format(mpe))\n",
    "    mperrors.append(mpe)\n",
    "latexify.latexify(columns=1)\n",
    "fig, ax = plt.subplots(1,1);\n",
    "ax.bar(positions, mperrors, width = 0.8)\n",
    "ax.set_xlabel(\"Positions\")\n",
    "ax.set_ylabel(\"Mean Percentage Error\")\n",
    "ax.set_ylim([0,10])\n",
    "ax.set_xticklabels(['Hip', 'Front Pocket', 'Hand'], rotation = 45)\n",
    "ax.set_title('All Features')\n",
    "latexify.format_axes(ax)\n",
    "fig.tight_layout()\n",
    "#plt.savefig(\"ablation-all-result.pdf\", bbox_inches='tight')"
   ]
  },
  {
   "cell_type": "markdown",
   "metadata": {},
   "source": [
    "### Modified Peak Detection Algorithm Type 2 (Unity Influence)\n",
    "In type 2, we will put the `influence` parameter of the sigal to unity. It means that we are assuming the signal to be non-stationary amdwe also assume that the signal will have structural breaks"
   ]
  },
  {
   "cell_type": "code",
   "execution_count": 11,
   "metadata": {},
   "outputs": [
    {
     "name": "stdout",
     "output_type": "stream",
     "text": [
      "\n",
      "Location = Hip\n",
      "Mean Percentage Error = 27.78%\n",
      "\n",
      "Location = Pocket/Orientation1\n",
      "Mean Percentage Error = 31.78%\n",
      "\n",
      "Location = Hand\n",
      "Mean Percentage Error = 46.13%\n"
     ]
    },
    {
     "name": "stderr",
     "output_type": "stream",
     "text": [
      "C:\\ProgramData\\Anaconda3\\lib\\_collections_abc.py:841: MatplotlibDeprecationWarning: Support for setting the 'text.latex.preamble' or 'pgf.preamble' rcParam to a list of strings is deprecated since 3.3 and will be removed two minor releases later; set it to a single string instead.\n",
      "  self[key] = other[key]\n",
      "C:\\ProgramData\\Anaconda3\\lib\\site-packages\\ipykernel_launcher.py:53: UserWarning: FixedFormatter should only be used together with FixedLocator\n"
     ]
    },
    {
     "data": {
      "image/png": "[encoded data removed]",
      "text/plain": [
       "<Figure size 244.08x150.85 with 1 Axes>"
      ]
     },
     "metadata": {},
     "output_type": "display_data"
    }
   ],
   "source": [
    "mpe=0;\n",
    "\n",
    "#lists to generate bar plot\n",
    "positions = []\n",
    "mperrors = []\n",
    "\n",
    "\n",
    "#use optimal values detected above\n",
    "for folder in dirs:\n",
    "    difference = 0 #this variable will be used to track the Mean Absolute Error.\n",
    "    mpe = 0 #this variable will track the mean percentage error\n",
    "    print(\"\\nLocation = {}\".format(folder[:-1]))\n",
    "    positions.append(folder[:-1])\n",
    "    for filename in os.listdir(log_path+folder):\n",
    "        #fig, ax  = plt.subplots(2,1)\n",
    "        #each file contains the step count in the first two characters\n",
    "        groundTruth = int(filename[:2])\n",
    "        df1 = pd.read_csv(log_path+folder+filename).dropna()\n",
    "        df1['Timestamp'] = pd.to_datetime(df1.Timestamp, format='%d-%b-%Y %H:%M:%S.%f')\n",
    "        df1.index = df1.Timestamp;\n",
    "        acc1_mag = np.sqrt(df1.X**2+df1.Y**2+df1.Z)\n",
    "        # Run algo with settings from above\n",
    "        \n",
    "        if folder[:-1] == 'Pocket/Orientation1':\n",
    "            result = thresholding_algo_type1(acc1_mag, lag=10, threshold=6, influence=1)\n",
    "        elif folder[:-1] == 'Hip':\n",
    "            result = thresholding_algo_type1(acc1_mag, lag=10, threshold=6, influence=1)\n",
    "        elif folder[:-1] == 'Hand':\n",
    "            result = thresholding_algo_type1(acc1_mag, lag=10, threshold=5, influence=1)\n",
    "\n",
    "        #ax[0].plot(np.arange(1, len(acc1_mag)+1), acc1_mag)\n",
    "        #ax[0].set_xlabel(\"Data Points\")\n",
    "        #ax[0].set_ylabel(\"Magnitude of\\nacceleration\")\n",
    "        #ax[0].plot(np.arange(1, len(acc1_mag)+1),result[\"avgFilter\"], color=\"cyan\", lw=2)\n",
    "        #ax[0].plot(np.arange(1, len(acc1_mag)+1),result[\"avgFilter\"] + threshold * result[\"stdFilter\"], color=\"green\", lw=2)\n",
    "        #ax[0].plot(np.arange(1, len(acc1_mag)+1),result[\"avgFilter\"] - threshold * result[\"stdFilter\"], color=\"green\", lw=2)\n",
    "        #ax[1].plot(np.arange(1, len(acc1_mag)+1), result[\"signals\"], color=\"red\", lw=2)\n",
    "        #ax[1].set_xlabel(\"Data Points\")\n",
    "        #x[1].set_ylabel(\"Magnitude of\\nacceleration\")\n",
    "        #print(\"\\nSteps Detected = {}\".format(len([i for i in result[\"signals\"] if i == 1.0])))\n",
    "        #print(\"Ground Truth = {}\".format(groundTruth))\n",
    "        mpe+=((groundTruth-len([i for i in result[\"signals\"] if i == 1.0]))/groundTruth)\n",
    "\n",
    "    mpe = abs((mpe/len((os.listdir(log_path)))*100));\n",
    "    print(\"Mean Percentage Error = {:.2f}%\".format(mpe))\n",
    "    mperrors.append(mpe)\n",
    "latexify.latexify(columns=1)\n",
    "fig, ax = plt.subplots(1,1);\n",
    "ax.bar(positions, mperrors, align='edge',width = 0.8)\n",
    "ax.set_xlabel(\"Positions\")\n",
    "ax.set_ylabel(\"Mean Percentage Error\")\n",
    "ax.set_ylim([0,100])\n",
    "ax.set_xticklabels(['Hip', 'Front Pocket', 'Hand'], rotation = 45)\n",
    "ax.set_title('Feature with Unity Influence')\n",
    "latexify.format_axes(ax)\n",
    "fig.tight_layout()\n",
    "plt.savefig(\"ablation-unity-result.pdf\", bbox_inches='tight')"
   ]
  },
  {
   "cell_type": "markdown",
   "metadata": {},
   "source": [
    "### Modified Peak Detection Algorithm Type 2 (Median instead of mean)\n"
   ]
  },
  {
   "cell_type": "code",
   "execution_count": 8,
   "metadata": {},
   "outputs": [
    {
     "name": "stdout",
     "output_type": "stream",
     "text": [
      "\n",
      "Location = Hip\n",
      "Mean Percentage Error = 4.44%\n",
      "\n",
      "Location = Pocket/Orientation1\n",
      "Mean Percentage Error = 22.67%\n",
      "\n",
      "Location = Hand\n",
      "Mean Percentage Error = 16.41%\n"
     ]
    },
    {
     "name": "stderr",
     "output_type": "stream",
     "text": [
      "C:\\ProgramData\\Anaconda3\\lib\\_collections_abc.py:841: MatplotlibDeprecationWarning: Support for setting the 'text.latex.preamble' or 'pgf.preamble' rcParam to a list of strings is deprecated since 3.3 and will be removed two minor releases later; set it to a single string instead.\n",
      "  self[key] = other[key]\n",
      "C:\\ProgramData\\Anaconda3\\lib\\site-packages\\ipykernel_launcher.py:53: UserWarning: FixedFormatter should only be used together with FixedLocator\n"
     ]
    },
    {
     "data": {
      "image/png": "[encoded data removed]",
      "text/plain": [
       "<Figure size 244.08x150.85 with 1 Axes>"
      ]
     },
     "metadata": {},
     "output_type": "display_data"
    }
   ],
   "source": [
    "mpe=0;\n",
    "\n",
    "#lists to generate bar plot\n",
    "positions = []\n",
    "mperrors = []\n",
    "\n",
    "\n",
    "#use optimal values detected above\n",
    "for folder in dirs:\n",
    "    difference = 0 #this variable will be used to track the Mean Absolute Error.\n",
    "    mpe = 0 #this variable will track the mean percentage error\n",
    "    print(\"\\nLocation = {}\".format(folder[:-1]))\n",
    "    positions.append(folder[:-1])\n",
    "    for filename in os.listdir(log_path+folder):\n",
    "        #fig, ax  = plt.subplots(2,1)\n",
    "        #each file contains the step count in the first two characters\n",
    "        groundTruth = int(filename[:2])\n",
    "        df1 = pd.read_csv(log_path+folder+filename).dropna()\n",
    "        df1['Timestamp'] = pd.to_datetime(df1.Timestamp, format='%d-%b-%Y %H:%M:%S.%f')\n",
    "        df1.index = df1.Timestamp;\n",
    "        acc1_mag = np.sqrt(df1.X**2+df1.Y**2+df1.Z)\n",
    "        # Run algo with settings from above\n",
    "        \n",
    "        if folder[:-1] == 'Pocket/Orientation1':\n",
    "            result = thresholding_algo_type2(acc1_mag, lag=10, threshold=6, influence=0.8)\n",
    "        elif folder[:-1] == 'Hip':\n",
    "            result = thresholding_algo_type2(acc1_mag, lag=10, threshold=6, influence=0.4)\n",
    "        elif folder[:-1] == 'Hand':\n",
    "            result = thresholding_algo_type2(acc1_mag, lag=10, threshold=5, influence=0.4)\n",
    "\n",
    "        #ax[0].plot(np.arange(1, len(acc1_mag)+1), acc1_mag)\n",
    "        #ax[0].set_xlabel(\"Data Points\")\n",
    "        #ax[0].set_ylabel(\"Magnitude of\\nacceleration\")\n",
    "        #ax[0].plot(np.arange(1, len(acc1_mag)+1),result[\"avgFilter\"], color=\"cyan\", lw=2)\n",
    "        #ax[0].plot(np.arange(1, len(acc1_mag)+1),result[\"avgFilter\"] + threshold * result[\"stdFilter\"], color=\"green\", lw=2)\n",
    "        #ax[0].plot(np.arange(1, len(acc1_mag)+1),result[\"avgFilter\"] - threshold * result[\"stdFilter\"], color=\"green\", lw=2)\n",
    "        #ax[1].plot(np.arange(1, len(acc1_mag)+1), result[\"signals\"], color=\"red\", lw=2)\n",
    "        #ax[1].set_xlabel(\"Data Points\")\n",
    "        #x[1].set_ylabel(\"Magnitude of\\nacceleration\")\n",
    "        #print(\"\\nSteps Detected = {}\".format(len([i for i in result[\"signals\"] if i == 1.0])))\n",
    "        #print(\"Ground Truth = {}\".format(groundTruth))\n",
    "        mpe+=((groundTruth-len([i for i in result[\"signals\"] if i == 1.0]))/groundTruth)\n",
    "\n",
    "    mpe = abs((mpe/len((os.listdir(log_path)))*100));\n",
    "    print(\"Mean Percentage Error = {:.2f}%\".format(mpe))\n",
    "    mperrors.append(mpe)\n",
    "latexify.latexify(columns=1)\n",
    "fig, ax = plt.subplots(1,1);\n",
    "ax.bar(positions, mperrors, align='edge',width = 0.8)\n",
    "ax.set_xlabel(\"Positions\")\n",
    "ax.set_ylabel(\"Mean Percentage Error\")\n",
    "ax.set_ylim([0,100])\n",
    "ax.set_xticklabels(['Hip', 'Front Pocket', 'Hand'], rotation = 45)\n",
    "ax.set_title('Median as a filtering criteria in\\n the adaptive peak detection algorithm')\n",
    "latexify.format_axes(ax)\n",
    "fig.tight_layout()\n",
    "plt.savefig(\"ablation-median-result.pdf\", bbox_inches='tight')"
   ]
  },
  {
   "cell_type": "markdown",
   "metadata": {},
   "source": [
    "### Modified Peak Detection Algorithm Type 2 (Median Absolute Deviation)"
   ]
  },
  {
   "cell_type": "code",
   "execution_count": 7,
   "metadata": {},
   "outputs": [
    {
     "name": "stdout",
     "output_type": "stream",
     "text": [
      "\n",
      "Location = Hip\n",
      "Mean Percentage Error = 812.22%\n",
      "\n",
      "Location = Pocket/Orientation1\n",
      "Mean Percentage Error = 1810.33%\n",
      "\n",
      "Location = Hand\n",
      "Mean Percentage Error = 533.65%\n"
     ]
    },
    {
     "name": "stderr",
     "output_type": "stream",
     "text": [
      "C:\\ProgramData\\Anaconda3\\lib\\_collections_abc.py:841: MatplotlibDeprecationWarning: Support for setting the 'text.latex.preamble' or 'pgf.preamble' rcParam to a list of strings is deprecated since 3.3 and will be removed two minor releases later; set it to a single string instead.\n",
      "  self[key] = other[key]\n",
      "C:\\ProgramData\\Anaconda3\\lib\\site-packages\\ipykernel_launcher.py:53: UserWarning: FixedFormatter should only be used together with FixedLocator\n"
     ]
    },
    {
     "data": {
      "image/png": "[encoded data removed]",
      "text/plain": [
       "<Figure size 244.08x150.85 with 1 Axes>"
      ]
     },
     "metadata": {},
     "output_type": "display_data"
    }
   ],
   "source": [
    "mpe=0;\n",
    "\n",
    "#lists to generate bar plot\n",
    "positions = []\n",
    "mperrors = []\n",
    "\n",
    "\n",
    "#use optimal values detected above\n",
    "for folder in dirs:\n",
    "    difference = 0 #this variable will be used to track the Mean Absolute Error.\n",
    "    mpe = 0 #this variable will track the mean percentage error\n",
    "    print(\"\\nLocation = {}\".format(folder[:-1]))\n",
    "    positions.append(folder[:-1])\n",
    "    for filename in os.listdir(log_path+folder):\n",
    "        #fig, ax  = plt.subplots(2,1)\n",
    "        #each file contains the step count in the first two characters\n",
    "        groundTruth = int(filename[:2])\n",
    "        df1 = pd.read_csv(log_path+folder+filename).dropna()\n",
    "        df1['Timestamp'] = pd.to_datetime(df1.Timestamp, format='%d-%b-%Y %H:%M:%S.%f')\n",
    "        df1.index = df1.Timestamp;\n",
    "        acc1_mag = np.sqrt(df1.X**2+df1.Y**2+df1.Z)\n",
    "        # Run algo with settings from above\n",
    "        \n",
    "        if folder[:-1] == 'Pocket/Orientation1':\n",
    "            result = thresholding_algo_type3(acc1_mag, lag=10, threshold=6, influence=0.8)\n",
    "        elif folder[:-1] == 'Hip':\n",
    "            result = thresholding_algo_type3(acc1_mag, lag=10, threshold=6, influence=0.4)\n",
    "        elif folder[:-1] == 'Hand':\n",
    "            result = thresholding_algo_type3(acc1_mag, lag=10, threshold=5, influence=0.4)\n",
    "\n",
    "        #ax[0].plot(np.arange(1, len(acc1_mag)+1), acc1_mag)\n",
    "        #ax[0].set_xlabel(\"Data Points\")\n",
    "        #ax[0].set_ylabel(\"Magnitude of\\nacceleration\")\n",
    "        #ax[0].plot(np.arange(1, len(acc1_mag)+1),result[\"avgFilter\"], color=\"cyan\", lw=2)\n",
    "        #ax[0].plot(np.arange(1, len(acc1_mag)+1),result[\"avgFilter\"] + threshold * result[\"stdFilter\"], color=\"green\", lw=2)\n",
    "        #ax[0].plot(np.arange(1, len(acc1_mag)+1),result[\"avgFilter\"] - threshold * result[\"stdFilter\"], color=\"green\", lw=2)\n",
    "        #ax[1].plot(np.arange(1, len(acc1_mag)+1), result[\"signals\"], color=\"red\", lw=2)\n",
    "        #ax[1].set_xlabel(\"Data Points\")\n",
    "        #x[1].set_ylabel(\"Magnitude of\\nacceleration\")\n",
    "        #print(\"\\nSteps Detected = {}\".format(len([i for i in result[\"signals\"] if i == 1.0])))\n",
    "        #print(\"Ground Truth = {}\".format(groundTruth))\n",
    "        mpe+=((groundTruth-len([i for i in result[\"signals\"] if i == 1.0]))/groundTruth)\n",
    "\n",
    "    mpe = abs((mpe/len((os.listdir(log_path)))*100));\n",
    "    print(\"Mean Percentage Error = {:.2f}%\".format(mpe))\n",
    "    mperrors.append(mpe)\n",
    "latexify.latexify(columns=1)\n",
    "fig, ax = plt.subplots(1,1);\n",
    "ax.bar(positions, mperrors, align='edge',width = 0.8)\n",
    "ax.set_xlabel(\"Positions\")\n",
    "ax.set_ylabel(\"Mean Percentage Error\")\n",
    "ax.set_ylim([0,100])\n",
    "ax.set_xticklabels(['Hip', 'Front Pocket', 'Hand'], rotation = 45)\n",
    "ax.set_title('All Features')\n",
    "latexify.format_axes(ax)\n",
    "fig.tight_layout()\n",
    "#plt.savefig(\"ablation-median-result.pdf\", bbox_inches='tight')"
   ]
  },
  {
   "cell_type": "code",
   "execution_count": null,
   "metadata": {},
   "outputs": [],
   "source": []
  }
 ],
 "metadata": {
  "hide_input": false,
  "kernelspec": {
   "display_name": "Python 3",
   "language": "python",
   "name": "python3"
  },
  "language_info": {
   "codemirror_mode": {
    "name": "ipython",
    "version": 3
   },
   "file_extension": ".py",
   "mimetype": "text/x-python",
   "name": "python",
   "nbconvert_exporter": "python",
   "pygments_lexer": "ipython3",
   "version": "3.6.5"
  }
 },
 "nbformat": 4,
 "nbformat_minor": 2
}
