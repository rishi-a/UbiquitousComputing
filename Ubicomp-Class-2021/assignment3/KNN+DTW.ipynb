{
 "cells": [
  {
   "cell_type": "code",
   "execution_count": 1,
   "metadata": {},
   "outputs": [],
   "source": [
    "import numpy as np\n",
    "from scipy.spatial import distance\n",
    "from sklearn.model_selection import train_test_split\n",
    "from sklearn.neighbors import KNeighborsClassifier\n",
    "from sklearn.model_selection import GridSearchCV\n",
    "from sklearn.metrics import classification_report\n",
    "\n",
    "#helper function required later\n",
    "#custom metric\n",
    "def DTW(a, b):   \n",
    "    an = a.size\n",
    "    bn = b.size\n",
    "    pointwise_distance = distance.cdist(a.reshape(-1,1),b.reshape(-1,1))\n",
    "    cumdist = np.matrix(np.ones((an+1,bn+1)) * np.inf)\n",
    "    cumdist[0,0] = 0\n",
    "\n",
    "    for ai in range(an):\n",
    "        for bi in range(bn):\n",
    "            minimum_cost = np.min([cumdist[ai, bi+1],\n",
    "                                   cumdist[ai+1, bi],\n",
    "                                   cumdist[ai, bi]])\n",
    "            cumdist[ai+1, bi+1] = pointwise_distance[ai,bi] + minimum_cost\n",
    "\n",
    "    return cumdist[an, bn]"
   ]
  },
  {
   "cell_type": "markdown",
   "metadata": {},
   "source": [
    "### Code to Retrive Raw Acceleromter Data"
   ]
  },
  {
   "cell_type": "code",
   "execution_count": 2,
   "metadata": {},
   "outputs": [
    {
     "name": "stdout",
     "output_type": "stream",
     "text": [
      "Shape of reduced data =  (3000, 384)\n",
      "[Label: Count] of reduced data\n"
     ]
    },
    {
     "data": {
      "text/plain": [
       "{1: 500, 2: 500, 3: 500, 4: 500, 5: 500, 6: 500}"
      ]
     },
     "execution_count": 2,
     "metadata": {},
     "output_type": "execute_result"
    }
   ],
   "source": [
    "# Import the RAW HAR dataset\n",
    "x_train_raw_x = []\n",
    "x_train_raw_y = []\n",
    "x_train_raw_z = []\n",
    "y_train_raw = []\n",
    "x_test_raw_x = []\n",
    "x_test_raw_y = []\n",
    "x_test_raw_z = []\n",
    "y_test_raw = []\n",
    "\n",
    "x_train_file_raw_x = open('data/UCI-HAR-Dataset/train/Inertial Signals/total_acc_x_train.txt', 'r')\n",
    "x_train_file_raw_y = open('data/UCI-HAR-Dataset/train/Inertial Signals/total_acc_y_train.txt', 'r')\n",
    "x_train_file_raw_z = open('data/UCI-HAR-Dataset/train/Inertial Signals/total_acc_z_train.txt', 'r')\n",
    "\n",
    "y_train_file_raw = open('data/UCI-HAR-Dataset/train/y_train.txt', 'r')\n",
    "\n",
    "x_test_file_raw_x = open('data/UCI-HAR-Dataset/test/Inertial Signals/total_acc_x_test.txt', 'r')\n",
    "x_test_file_raw_y = open('data/UCI-HAR-Dataset/test/Inertial Signals/total_acc_y_test.txt', 'r')\n",
    "x_test_file_raw_z= open('data/UCI-HAR-Dataset/test/Inertial Signals/total_acc_z_test.txt', 'r')\n",
    "\n",
    "y_test_file_raw = open('data/UCI-HAR-Dataset/test/y_test.txt', 'r')\n",
    "\n",
    "\n",
    "for x in x_train_file_raw_x:\n",
    "    x_train_raw_x.append([float(ts) for ts in x.split()])\n",
    "for x in x_train_file_raw_y:\n",
    "    x_train_raw_y.append([float(ts) for ts in x.split()])\n",
    "for x in x_train_file_raw_z:\n",
    "    x_train_raw_z.append([float(ts) for ts in x.split()])\n",
    "    \n",
    "    \n",
    "for y in y_train_file_raw:\n",
    "    y_train_raw.append(int(y.rstrip('\\n')))\n",
    "    \n",
    "for x in x_test_file_raw_x:\n",
    "    x_test_raw_x.append([float(ts) for ts in x.split()])\n",
    "for x in x_test_file_raw_y:\n",
    "    x_test_raw_y.append([float(ts) for ts in x.split()])\n",
    "for x in x_test_file_raw_z:\n",
    "    x_test_raw_z.append([float(ts) for ts in x.split()])\n",
    "    \n",
    "    \n",
    "for y in y_test_file_raw:\n",
    "    y_test_raw.append(int(y.rstrip('\\n')))\n",
    "\n",
    "    \n",
    "x_train_raw = np.hstack([np.array(x_train_raw_x),np.array(x_train_raw_y),np.array(x_train_raw_z)])\n",
    "x_test_raw = np.hstack([np.array(x_test_raw_x), np.array(x_test_raw_y), np.array(x_test_raw_z)])\n",
    "y_train_raw = np.array(y_train_raw)\n",
    "y_test_raw = np.array(y_test_raw)\n",
    "\n",
    "#lets have the full data \n",
    "x_full_raw = np.append(x_train_raw, x_test_raw, axis=0)\n",
    "y_full_raw = np.append(y_train_raw, y_test_raw, axis=0)\n",
    "\n",
    "\n",
    "#reduce dataset so that we have a balanced class dataset\n",
    "x_subset_raw = []\n",
    "y_subset_raw = []\n",
    "di = {1:0,2:0,3:0,4:0,5:0,6:0}\n",
    "for i, item in enumerate(x_full_raw):\n",
    "    if di[y_full_raw[i]] < 500:\n",
    "        x_subset_raw.append(item)\n",
    "        y_subset_raw.append(y_full_raw[i])\n",
    "        di[y_full_raw[i]]+=1;\n",
    "#convert to numpy type\n",
    "x_subset_raw = np.array(x_subset_raw)\n",
    "y_subset_raw = np.array(y_subset_raw)\n",
    "print(\"Shape of reduced data = \", x_subset_raw.shape)\n",
    "unique, counts = np.unique(y_subset_raw, return_counts=True)\n",
    "print(\"[Label: Count] of reduced data\") \n",
    "dict(zip(unique, counts))\n"
   ]
  },
  {
   "cell_type": "code",
   "execution_count": 4,
   "metadata": {},
   "outputs": [
    {
     "name": "stdout",
     "output_type": "stream",
     "text": [
      "[Label: Count] of reduced data\n"
     ]
    },
    {
     "data": {
      "text/plain": [
       "{1: 1722, 2: 1544, 3: 1406, 4: 1777, 5: 1906, 6: 1944}"
      ]
     },
     "execution_count": 4,
     "metadata": {},
     "output_type": "execute_result"
    }
   ],
   "source": [
    "unique, counts = np.unique(y_full_raw, return_counts=True)\n",
    "print(\"[Label: Count] of reduced data\") \n",
    "dict(zip(unique, counts))"
   ]
  },
  {
   "cell_type": "markdown",
   "metadata": {},
   "source": [
    "## Learn ML Model On Time Series Data"
   ]
  },
  {
   "cell_type": "code",
   "execution_count": null,
   "metadata": {},
   "outputs": [
    {
     "name": "stdout",
     "output_type": "stream",
     "text": [
      "Fitting 3 folds for each of 1 candidates, totalling 3 fits\n"
     ]
    }
   ],
   "source": [
    "X_train, X_test, y_train, y_test = train_test_split(x_subset_raw, y_subset_raw, test_size=0.33, random_state=42)\n",
    "#train\n",
    "parameters = {'n_neighbors':[1]}\n",
    "clf = GridSearchCV(KNeighborsClassifier(metric=DTW), parameters, cv=3, verbose=1, n_jobs=-1)\n",
    "clf.fit(X_train, y_train)\n",
    "\n",
    "\n",
    "\n",
    "#evaluate\n",
    "y_pred = clf.predict(X_test)\n",
    "print(classification_report(y_test, y_pred))"
   ]
  },
  {
   "cell_type": "markdown",
   "metadata": {},
   "source": [
    "### Code To Retrieve Curated Features"
   ]
  },
  {
   "cell_type": "code",
   "execution_count": 3,
   "metadata": {},
   "outputs": [
    {
     "name": "stdout",
     "output_type": "stream",
     "text": [
      "Dimension of input =  (10299, 561)\n",
      "Dimension of output =  (10299,)\n",
      "Shape of reduced data =  (3000, 561)\n",
      "[Label: Count] of reduced data\n"
     ]
    },
    {
     "data": {
      "text/plain": [
       "{1: 500, 2: 500, 3: 500, 4: 500, 5: 500, 6: 500}"
      ]
     },
     "execution_count": 3,
     "metadata": {},
     "output_type": "execute_result"
    }
   ],
   "source": [
    "# Import the HAR dataset\n",
    "x_train_file = open('data/UCI-HAR-Dataset/train/X_train.txt', 'r')\n",
    "y_train_file = open('data/UCI-HAR-Dataset/train/y_train.txt', 'r')\n",
    "\n",
    "x_test_file = open('data/UCI-HAR-Dataset/test/X_test.txt', 'r')\n",
    "y_test_file = open('data/UCI-HAR-Dataset/test/y_test.txt', 'r')\n",
    "\n",
    "# Create empty lists\n",
    "x_train = []\n",
    "y_train = []\n",
    "x_test = []\n",
    "y_test = []\n",
    "\n",
    "# Mapping table for classes\n",
    "labels = {1:'WALKING', 2:'WALKING UPSTAIRS', 3:'WALKING DOWNSTAIRS',\n",
    "          4:'SITTING', 5:'STANDING', 6:'LAYING'}\n",
    "\n",
    "# Loop through datasets\n",
    "for x in x_train_file:\n",
    "    x_train.append([float(ts) for ts in x.split()])\n",
    "    \n",
    "for y in y_train_file:\n",
    "    y_train.append(int(y.rstrip('\\n')))\n",
    "    \n",
    "for x in x_test_file:\n",
    "    x_test.append([float(ts) for ts in x.split()])\n",
    "    \n",
    "for y in y_test_file:\n",
    "    y_test.append(int(y.rstrip('\\n')))\n",
    "    \n",
    "# Convert to numpy for efficiency\n",
    "x_train = np.array(x_train)\n",
    "y_train = np.array(y_train)\n",
    "x_test = np.array(x_test)\n",
    "y_test = np.array(y_test)\n",
    "\n",
    "#lets have the full data for CV\n",
    "x_full = np.append(x_train, x_test, axis=0)\n",
    "y_full = np.append(y_train, y_test, axis=0)\n",
    "print(\"Dimension of input = \",x_full.shape)\n",
    "print(\"Dimension of output = \",y_full.shape)\n",
    "x_subset = []\n",
    "y_subset = []\n",
    "di = {1:0,2:0,3:0,4:0,5:0,6:0}\n",
    "for i, item in enumerate(x_full):\n",
    "    if di[y_full[i]] < 500:\n",
    "        x_subset.append(item)\n",
    "        y_subset.append(y_full[i])\n",
    "        di[y_full[i]]+=1;\n",
    "#convert to numpy type\n",
    "x_subset = np.array(x_subset)\n",
    "y_subset = np.array(y_subset)\n",
    "print(\"Shape of reduced data = \", x_subset.shape)\n",
    "unique, counts = np.unique(y_subset, return_counts=True)\n",
    "print(\"[Label: Count] of reduced data\") \n",
    "dict(zip(unique, counts))"
   ]
  },
  {
   "cell_type": "code",
   "execution_count": null,
   "metadata": {},
   "outputs": [
    {
     "name": "stdout",
     "output_type": "stream",
     "text": [
      "Fitting 3 folds for each of 1 candidates, totalling 3 fits\n"
     ]
    }
   ],
   "source": [
    "X_train, X_test, y_train, y_test = train_test_split(x_subset, y_subset, test_size=0.33, random_state=42)\n",
    "#train\n",
    "parameters = {'n_neighbors':[1]}\n",
    "clf = GridSearchCV(KNeighborsClassifier(metric=DTW), parameters, cv=3, verbose=1, n_jobs=-1)\n",
    "clf.fit(X_train, y_train)\n",
    "\n",
    "\n",
    "\n",
    "#evaluate\n",
    "y_pred = clf.predict(X_test)\n",
    "print(classification_report(y_test, y_pred))"
   ]
  },
  {
   "cell_type": "code",
   "execution_count": null,
   "metadata": {},
   "outputs": [],
   "source": []
  }
 ],
 "metadata": {
  "hide_input": false,
  "kernelspec": {
   "display_name": "Python 3",
   "language": "python",
   "name": "python3"
  },
  "language_info": {
   "codemirror_mode": {
    "name": "ipython",
    "version": 3
   },
   "file_extension": ".py",
   "mimetype": "text/x-python",
   "name": "python",
   "nbconvert_exporter": "python",
   "pygments_lexer": "ipython3",
   "version": "3.8.8"
  }
 },
 "nbformat": 4,
 "nbformat_minor": 2
}
