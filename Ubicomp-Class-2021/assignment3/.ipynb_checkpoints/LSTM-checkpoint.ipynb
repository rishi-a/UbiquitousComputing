{
 "cells": [
  {
   "cell_type": "code",
   "execution_count": 36,
   "id": "a7cf0b6b",
   "metadata": {},
   "outputs": [],
   "source": [
    "import numpy as np\n",
    "import matplotlib.pyplot as plt\n",
    "import numpy as np\n",
    "import torch\n",
    "import torch.nn as nn\n",
    "import torch.optim as optim\n",
    "import torch.nn.init as init\n",
    "import torch.nn.functional as F\n",
    "from torch.optim import lr_scheduler\n",
    "from torch.utils.data import Dataset, DataLoader"
   ]
  },
  {
   "cell_type": "code",
   "execution_count": 37,
   "id": "fa5e4550",
   "metadata": {},
   "outputs": [],
   "source": [
    "config_info = {\n",
    "    'data_folder': './',\n",
    "    'data_folder_raw': 'E:/',\n",
    "    'result_file': 'result.csv',\n",
    "}\n",
    "globalDimension = 3"
   ]
  },
  {
   "cell_type": "code",
   "execution_count": 38,
   "id": "c3391d4c",
   "metadata": {},
   "outputs": [],
   "source": [
    "def format_data_x(datafile):\n",
    "    x_data = None\n",
    "    for item in datafile:\n",
    "        item_data = np.loadtxt(item, dtype=np.float)\n",
    "        if x_data is None:\n",
    "            x_data = np.zeros((len(item_data), 1))\n",
    "        x_data = np.hstack((x_data, item_data))\n",
    "    x_data = x_data[:, 1:]\n",
    "    X = None\n",
    "    for i in range(len(x_data)): #len gets us the number of rows\n",
    "        row = np.asarray(x_data[i, :])\n",
    "        row = row.reshape(globalDimension, 128).T\n",
    "        if X is None:\n",
    "            X = np.zeros((len(x_data), 128, globalDimension))\n",
    "        X[i] = row\n",
    "    return X\n",
    "# This is for parsing the Y data, you can ignore it if you do not need preprocessing\n",
    "def format_data_y(datafile):\n",
    "    data = np.loadtxt(datafile, dtype=np.int) - 1\n",
    "    YY = np.eye(6)[data]\n",
    "    return YY"
   ]
  },
  {
   "cell_type": "code",
   "execution_count": 25,
   "id": "987cd2bc",
   "metadata": {},
   "outputs": [],
   "source": [
    "def load_data():\n",
    "    import os\n",
    "    \n",
    "    # This for processing the dataset from scratch\n",
    "    # After downloading the dataset, put it to somewhere that str_folder can find\n",
    "    str_folder = 'data/UCI-HAR-Dataset/'\n",
    "    INPUT_SIGNAL_TYPES = [\n",
    "        \"body_gyro_x_\",\n",
    "        \"body_gyro_y_\",\n",
    "        \"body_gyro_z_\"\n",
    "    ]\n",
    "    str_train_files = [str_folder + 'train/' + 'Inertial Signals/' + item + 'train.txt' for item in INPUT_SIGNAL_TYPES]\n",
    "    str_test_files = [str_folder + 'test/' + 'Inertial Signals/' +item + 'test.txt' for item in INPUT_SIGNAL_TYPES]\n",
    "    str_train_y = str_folder + 'train/y_train.txt'\n",
    "    str_test_y = str_folder + 'test/y_test.txt'\n",
    "\n",
    "    X_train = format_data_x(str_train_files)\n",
    "    print(X_train.shape)\n",
    "    print(type(X_train))\n",
    "    X_test = format_data_x(str_test_files)\n",
    "    Y_train = format_data_y(str_train_y)\n",
    "    Y_test = format_data_y(str_test_y)\n",
    "    print(X_train.shape)\n",
    "    print(X_test.shape)\n",
    "    print(Y_train.shape)\n",
    "    print(Y_test.shape)\n",
    "\n",
    "    #return X_train, Y_train, X_test, Y_test\n",
    "    return X_train, onehot_to_label(Y_train), X_test, onehot_to_label(Y_test)"
   ]
  },
  {
   "cell_type": "code",
   "execution_count": 26,
   "id": "e8dfbb41",
   "metadata": {},
   "outputs": [],
   "source": [
    "def onehot_to_label(y_onehot):\n",
    "    a = np.argwhere(y_onehot == 1)\n",
    "    return a[:, -1]"
   ]
  },
  {
   "cell_type": "code",
   "execution_count": 27,
   "id": "83aa77ef",
   "metadata": {},
   "outputs": [],
   "source": [
    "class data_loader(Dataset):\n",
    "    def __init__(self, samples, labels, t):\n",
    "        self.samples = samples\n",
    "        self.labels = labels\n",
    "        self.T = t\n",
    "\n",
    "    def __getitem__(self, index):\n",
    "        sample, target = self.samples[index], self.labels[index]\n",
    "        if self.T:\n",
    "            return self.T(sample), target\n",
    "        else:\n",
    "            return sample, target\n",
    "\n",
    "    def __len__(self):\n",
    "        return len(self.samples)"
   ]
  },
  {
   "cell_type": "code",
   "execution_count": 28,
   "id": "e0296bc7",
   "metadata": {},
   "outputs": [],
   "source": [
    "def load(batch_size):\n",
    "    x_train, y_train, x_test, y_test = load_data()\n",
    "    x_train, x_test = x_train.reshape((-1, 128, globalDimension)), x_test.reshape((-1, 128, globalDimension))\n",
    "    \n",
    "    print(x_train.shape)\n",
    "    print(x_test.shape)\n",
    "    print(y_train.shape)\n",
    "    print(y_test.shape)\n",
    "\n",
    "    transform = None\n",
    "    train_set = data_loader(x_train, y_train, transform)\n",
    "    test_set = data_loader(x_test, y_test, transform)\n",
    "    \n",
    "    train_loader = DataLoader(train_set, batch_size=batch_size, shuffle=True, drop_last=True)\n",
    "    test_loader = DataLoader(test_set, batch_size=batch_size, shuffle=False)\n",
    "    return train_loader, test_loader"
   ]
  },
  {
   "cell_type": "code",
   "execution_count": 29,
   "id": "49b1bbf1",
   "metadata": {},
   "outputs": [],
   "source": [
    "class RNN(nn.Module):\n",
    "    def __init__(self, input_dim, hidden_dim, output_dim, layers):\n",
    "        super(RNN, self).__init__()\n",
    "        self.rnn = torch.nn.LSTM(input_dim, hidden_dim, num_layers=layers, batch_first=True)\n",
    "        self.fc = torch.nn.Linear(hidden_dim, output_dim, bias=True)\n",
    "                \n",
    "    def forward(self, x):\n",
    "        x, _status = self.rnn(x)\n",
    "        x = self.fc(x[:,-1])\n",
    "        out = F.softmax(x, dim=1)\n",
    "        return out"
   ]
  },
  {
   "cell_type": "code",
   "execution_count": 30,
   "id": "5c78677e",
   "metadata": {},
   "outputs": [],
   "source": [
    "epoch = 1000\n",
    "batch_size = 919\n",
    "lr = 0.001\n",
    "\n",
    "#seq_length=128\n",
    "data_dim = globalDimension\n",
    "hidden_dim = 512\n",
    "output_dim = 6\n",
    "layers = 1\n"
   ]
  },
  {
   "cell_type": "code",
   "execution_count": 31,
   "id": "5a2d0ec6",
   "metadata": {},
   "outputs": [
    {
     "name": "stdout",
     "output_type": "stream",
     "text": [
      "(7352, 128, 3)\n",
      "<class 'numpy.ndarray'>\n",
      "(7352, 128, 3)\n",
      "(2947, 128, 3)\n",
      "(7352, 6)\n",
      "(2947, 6)\n",
      "(7352, 128, 3)\n",
      "(2947, 128, 3)\n",
      "(7352,)\n",
      "(2947,)\n"
     ]
    }
   ],
   "source": [
    "train_loader, test_loader = load(batch_size=batch_size)"
   ]
  },
  {
   "cell_type": "code",
   "execution_count": 32,
   "id": "79d355a5",
   "metadata": {},
   "outputs": [
    {
     "name": "stdout",
     "output_type": "stream",
     "text": [
      "cuda:1\n"
     ]
    }
   ],
   "source": [
    "device = torch.device(\"cuda:1\" if torch.cuda.is_available() else \"cpu\")\n",
    "print(device)\n",
    "\n",
    "model = RNN(data_dim, hidden_dim, output_dim, layers).to(device)\n",
    "\n",
    "#loss_func =torch.nn.MSELoss()\n",
    "loss_func = nn.CrossEntropyLoss()\n",
    "\n",
    "#optimizer = optim.SGD(params=model.parameters(), lr=lr, momentum=momemtum)\n",
    "optimizer = torch.optim.Adam(model.parameters(), lr=lr)\n",
    "\n",
    "scheduler = lr_scheduler.ReduceLROnPlateau(optimizer, threshold=1, patience=1, mode='min')"
   ]
  },
  {
   "cell_type": "code",
   "execution_count": 33,
   "id": "04da0ae1",
   "metadata": {},
   "outputs": [
    {
     "name": "stdout",
     "output_type": "stream",
     "text": [
      "Epoch: [1/1000]  loss: 1.7892  train acc: 18.70%  test acc: 18.05%\n",
      "Epoch: [21/1000]  loss: 1.7760  train acc: 19.87%  test acc: 18.83%\n",
      "Epoch: [41/1000]  loss: 1.7753  train acc: 20.13%  test acc: 18.87%\n",
      "Epoch: [61/1000]  loss: 1.7750  train acc: 19.19%  test acc: 18.80%\n",
      "Epoch: [81/1000]  loss: 1.7739  train acc: 20.05%  test acc: 18.93%\n",
      "Epoch: [101/1000]  loss: 1.9094  train acc: 13.41%  test acc: 14.25%\n",
      "Epoch: [121/1000]  loss: 1.8477  train acc: 14.84%  test acc: 14.35%\n",
      "Epoch: [141/1000]  loss: 1.8475  train acc: 14.53%  test acc: 16.39%\n",
      "Epoch: [161/1000]  loss: 1.8473  train acc: 14.59%  test acc: 15.98%\n",
      "Epoch: [181/1000]  loss: 1.8127  train acc: 21.80%  test acc: 20.94%\n",
      "Epoch: [201/1000]  loss: 1.7962  train acc: 18.06%  test acc: 18.05%\n",
      "Epoch: [221/1000]  loss: 1.7876  train acc: 19.23%  test acc: 18.05%\n",
      "Epoch: [241/1000]  loss: 1.6051  train acc: 40.76%  test acc: 41.16%\n",
      "Epoch: [261/1000]  loss: 1.7793  train acc: 19.84%  test acc: 19.07%\n",
      "Epoch: [281/1000]  loss: 1.7606  train acc: 25.44%  test acc: 11.64%\n",
      "Epoch: [301/1000]  loss: 1.6681  train acc: 34.89%  test acc: 33.86%\n",
      "Epoch: [321/1000]  loss: 1.5593  train acc: 45.18%  test acc: 43.91%\n",
      "Epoch: [341/1000]  loss: 1.4870  train acc: 52.95%  test acc: 47.95%\n",
      "Epoch: [361/1000]  loss: 1.4414  train acc: 56.83%  test acc: 56.46%\n",
      "Epoch: [381/1000]  loss: 1.9086  train acc: 13.41%  test acc: 14.25%\n",
      "Epoch: [401/1000]  loss: 1.8373  train acc: 16.55%  test acc: 22.87%\n",
      "Epoch: [421/1000]  loss: 1.7836  train acc: 19.93%  test acc: 18.09%\n",
      "Epoch: [441/1000]  loss: 1.7709  train acc: 23.88%  test acc: 26.47%\n",
      "Epoch: [461/1000]  loss: 1.7867  train acc: 18.80%  test acc: 18.22%\n",
      "Epoch: [481/1000]  loss: 1.7875  train acc: 19.14%  test acc: 18.22%\n",
      "Epoch: [501/1000]  loss: 1.7883  train acc: 18.69%  test acc: 18.05%\n",
      "Epoch: [521/1000]  loss: 1.7840  train acc: 18.85%  test acc: 18.05%\n",
      "Epoch: [541/1000]  loss: 1.7865  train acc: 18.82%  test acc: 18.05%\n",
      "Epoch: [561/1000]  loss: 1.7857  train acc: 19.14%  test acc: 18.05%\n",
      "Epoch: [581/1000]  loss: 1.7832  train acc: 19.14%  test acc: 18.22%\n",
      "Epoch: [601/1000]  loss: 1.7646  train acc: 23.35%  test acc: 27.72%\n",
      "Epoch: [621/1000]  loss: 1.7874  train acc: 18.84%  test acc: 18.05%\n",
      "Epoch: [641/1000]  loss: 1.8301  train acc: 15.91%  test acc: 16.83%\n",
      "Epoch: [661/1000]  loss: 1.7841  train acc: 19.14%  test acc: 18.22%\n",
      "Epoch: [681/1000]  loss: 1.7787  train acc: 21.35%  test acc: 22.29%\n",
      "Epoch: [701/1000]  loss: 1.7831  train acc: 18.57%  test acc: 18.22%\n",
      "Epoch: [721/1000]  loss: 1.7877  train acc: 19.14%  test acc: 18.22%\n",
      "Epoch: [741/1000]  loss: 1.7809  train acc: 22.28%  test acc: 23.55%\n",
      "Epoch: [761/1000]  loss: 1.7878  train acc: 18.05%  test acc: 16.66%\n",
      "Epoch: [781/1000]  loss: 1.7878  train acc: 19.08%  test acc: 18.22%\n",
      "Epoch: [801/1000]  loss: 1.7876  train acc: 19.48%  test acc: 18.22%\n",
      "Epoch: [821/1000]  loss: 1.7875  train acc: 18.96%  test acc: 18.22%\n",
      "Epoch: [841/1000]  loss: 1.7878  train acc: 18.74%  test acc: 18.05%\n",
      "Epoch: [861/1000]  loss: 1.7877  train acc: 19.14%  test acc: 18.22%\n",
      "Epoch: [881/1000]  loss: 1.7875  train acc: 19.11%  test acc: 18.22%\n",
      "Epoch: [901/1000]  loss: 1.7880  train acc: 19.14%  test acc: 18.22%\n",
      "Epoch: [921/1000]  loss: 1.7875  train acc: 19.14%  test acc: 18.22%\n",
      "Epoch: [941/1000]  loss: 1.7874  train acc: 19.15%  test acc: 18.12%\n",
      "Epoch: [961/1000]  loss: 1.7880  train acc: 18.82%  test acc: 18.05%\n",
      "Epoch: [981/1000]  loss: 1.7875  train acc: 19.14%  test acc: 18.22%\n"
     ]
    }
   ],
   "source": [
    "torch.manual_seed(0)\n",
    "\n",
    "loss_array = []\n",
    "result_array = []\n",
    "n_batch = len(train_loader.dataset) // batch_size\n",
    "\n",
    "for i in range(epoch):\n",
    "    model.train()\n",
    "    correct, total_loss = 0, 0\n",
    "    total = 0\n",
    "    for j, [image, label] in enumerate(train_loader):\n",
    "        train_x = image.to(device).float()\n",
    "        train_y = label.to(device).long()\n",
    "\n",
    "        \n",
    "        optimizer.zero_grad()\n",
    "        output = model.forward(train_x)\n",
    "#         print(output.dtype)\n",
    "#         print(train_y.dtype)\n",
    "#         print(train_x.shape)\n",
    "#         print(output.shape)\n",
    "#         print(train_y.shape)\n",
    "        \n",
    "        loss = loss_func(output,train_y)\n",
    "        loss.backward()\n",
    "        optimizer.step()\n",
    "    \n",
    "        if(i%20 == 0):\n",
    "            total_loss += loss.item()\n",
    "            _, predicted = torch.max(output.data, 1)\n",
    "            #print(predicted.shape, train_y.shape)\n",
    "            #print(predicted.dtype, train_y.dtype)\n",
    "            #_, y_ =  torch.max(train_y.data, 1)\n",
    "\n",
    "            total += label.size(0)\n",
    "            correct += (predicted == train_y).sum()\n",
    "            acc_train = float(correct) * 100.0 / (batch_size * n_batch)\n",
    "    #print( 'Epoch: [{}/{}], loss: {:.4f}, train acc: {:.2f}%'.format(i + 1, epoch, total_loss * 1.0 / n_batch,acc_train))\n",
    "    \n",
    "    if(i%20 == 0):\n",
    "        #-----------------------------------------------------------------\n",
    "        model.eval()\n",
    "        model.train(False)\n",
    "        with torch.no_grad():\n",
    "            correct, total = 0, 0\n",
    "            for j, [image, label] in enumerate(test_loader):\n",
    "                test_x = image.to(device).float()\n",
    "                test_y= label.to(device)\n",
    "\n",
    "                output = model.forward(test_x)\n",
    "\n",
    "                _,predicted = torch.max(output,1)\n",
    "                #_, y_ =  torch.max(test_y.data, 1)\n",
    "\n",
    "                \n",
    "                total += label.size(0)\n",
    "\n",
    "                \n",
    "                correct += (predicted == test_y).sum()#.float()\n",
    "\n",
    "        acc_test = float(correct) * 100 / total\n",
    "        #print(\"Accuracy of Test Data: {}%\".format(float(correct) * 100 / total))\n",
    "        #print('Epoch: [{}/{}], test acc: {:.2f}%'.format(i + 1, epoch, float(correct) * 100 / total))\n",
    "        #----------------------------------------------------------------- \n",
    "\n",
    "\n",
    "        loss_array.append(loss)\n",
    "        result_array.append([acc_train, acc_test])\n",
    "        print( 'Epoch: [{}/{}]  loss: {:.4f}  train acc: {:.2f}%  test acc: {:.2f}%'.format(i + 1, epoch, total_loss * 1.0 / n_batch,acc_train,acc_test))"
   ]
  },
  {
   "cell_type": "code",
   "execution_count": 34,
   "id": "56134e5c",
   "metadata": {},
   "outputs": [],
   "source": [
    "def show_result():\n",
    "    print(RNN(data_dim, hidden_dim, output_dim, layers))\n",
    "    print(loss_func)\n",
    "    print(optimizer)\n",
    "    print(\"\\nepoch:{} \".format(epoch),\n",
    "          \"lr:{} \".format(lr),\n",
    "          \"batch:{} \".format(batch_size),\n",
    "          \"train_acc:{0:.2f}% \".format(acc_train),\n",
    "          \"test_acc:{0:.2f}%\".format(acc_test))\n",
    "\n",
    "    plt.rcParams['figure.figsize'] = [10, 5]\n",
    "    fig, axs = plt.subplots(1,2)\n",
    "    axs[0].plot(loss_array)\n",
    "    axs[0].legend(['loss'])\n",
    "    axs[0].set_xlabel('Epoch')\n",
    "    axs[0].set_ylabel('Loss')\n",
    "    #axs[0].set(ylim=[0.5, 1.5], xlabel='epoch')\n",
    "    axs[1].plot(result_array)\n",
    "    axs[1].legend(['train_acc','test_acc'])\n",
    "    axs[1].set_xlabel('Epoch')\n",
    "    axs[1].set_ylabel('Accuracy')\n",
    "    #axs[1].set(ylim=[80, 100], xlabel='epoch')\n",
    "    plt.show()\n",
    "    plt.savefig('LSTM_A.png', bbox_inches='tight')"
   ]
  },
  {
   "cell_type": "code",
   "execution_count": 35,
   "id": "027af0eb",
   "metadata": {},
   "outputs": [
    {
     "name": "stdout",
     "output_type": "stream",
     "text": [
      "RNN(\n",
      "  (rnn): LSTM(3, 512, batch_first=True)\n",
      "  (fc): Linear(in_features=512, out_features=6, bias=True)\n",
      ")\n",
      "CrossEntropyLoss()\n",
      "Adam (\n",
      "Parameter Group 0\n",
      "    amsgrad: False\n",
      "    betas: (0.9, 0.999)\n",
      "    eps: 1e-08\n",
      "    lr: 0.001\n",
      "    weight_decay: 0\n",
      ")\n",
      "\n",
      "epoch:1000  lr:0.001  batch:919  train_acc:19.14%  test_acc:18.22%\n"
     ]
    },
    {
     "data": {
      "image/png": "[encoded data removed]",
      "text/plain": [
       "<Figure size 720x360 with 2 Axes>"
      ]
     },
     "metadata": {
      "needs_background": "light"
     },
     "output_type": "display_data"
    },
    {
     "data": {
      "text/plain": [
       "<Figure size 720x360 with 0 Axes>"
      ]
     },
     "metadata": {},
     "output_type": "display_data"
    }
   ],
   "source": [
    "show_result()"
   ]
  },
  {
   "cell_type": "code",
   "execution_count": null,
   "id": "7a8a99a9",
   "metadata": {},
   "outputs": [],
   "source": []
  }
 ],
 "metadata": {
  "kernelspec": {
   "display_name": "Python 3",
   "language": "python",
   "name": "python3"
  },
  "language_info": {
   "codemirror_mode": {
    "name": "ipython",
    "version": 3
   },
   "file_extension": ".py",
   "mimetype": "text/x-python",
   "name": "python",
   "nbconvert_exporter": "python",
   "pygments_lexer": "ipython3",
   "version": "3.8.8"
  }
 },
 "nbformat": 4,
 "nbformat_minor": 5
}
