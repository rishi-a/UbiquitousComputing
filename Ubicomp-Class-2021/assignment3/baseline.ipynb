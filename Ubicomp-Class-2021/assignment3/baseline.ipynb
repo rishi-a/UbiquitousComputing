{
 "cells": [
  {
   "cell_type": "code",
   "execution_count": 2,
   "id": "b88a0ffc",
   "metadata": {},
   "outputs": [],
   "source": [
    "import pandas as pd\n",
    "import numpy as np\n",
    "from sklearn import svm\n",
    "from sklearn.model_selection import GridSearchCV\n",
    "from sklearn.model_selection import train_test_split\n",
    "from sklearn.metrics import classification_report\n",
    "from sklearn.metrics import accuracy_score\n",
    "from sklearn.dummy import DummyClassifier"
   ]
  },
  {
   "cell_type": "code",
   "execution_count": 3,
   "id": "d2a9106b",
   "metadata": {},
   "outputs": [],
   "source": [
    "#helper function to convert 2d array to 1D\n",
    "def flatten_list(_2d_list):\n",
    "    flat_list = []\n",
    "    # Iterate through the outer list\n",
    "    for element in _2d_list:\n",
    "        if type(element) is list:\n",
    "            # If the element is of type list, iterate through the sublist\n",
    "            for item in element:\n",
    "                flat_list.append(item)\n",
    "        else:\n",
    "            flat_list.append(element)\n",
    "    return flat_list"
   ]
  },
  {
   "cell_type": "code",
   "execution_count": 4,
   "id": "1650f050",
   "metadata": {},
   "outputs": [
    {
     "name": "stdout",
     "output_type": "stream",
     "text": [
      "Shape of reduced data =  (3000, 384)\n",
      "[Label: Count] of reduced data\n"
     ]
    },
    {
     "data": {
      "text/plain": [
       "{1: 500, 2: 500, 3: 500, 4: 500, 5: 500, 6: 500}"
      ]
     },
     "execution_count": 4,
     "metadata": {},
     "output_type": "execute_result"
    }
   ],
   "source": [
    "# Import the RAW HAR dataset\n",
    "x_train_raw_x = []\n",
    "x_train_raw_y = []\n",
    "x_train_raw_z = []\n",
    "y_train_raw = []\n",
    "x_test_raw_x = []\n",
    "x_test_raw_y = []\n",
    "x_test_raw_z = []\n",
    "y_test_raw = []\n",
    "\n",
    "x_train_file_raw_x = open('data/UCI-HAR-Dataset/train/Inertial Signals/total_acc_x_train.txt', 'r')\n",
    "x_train_file_raw_y = open('data/UCI-HAR-Dataset/train/Inertial Signals/total_acc_y_train.txt', 'r')\n",
    "x_train_file_raw_z = open('data/UCI-HAR-Dataset/train/Inertial Signals/total_acc_z_train.txt', 'r')\n",
    "\n",
    "y_train_file_raw = open('data/UCI-HAR-Dataset/train/y_train.txt', 'r')\n",
    "\n",
    "x_test_file_raw_x = open('data/UCI-HAR-Dataset/test/Inertial Signals/total_acc_x_test.txt', 'r')\n",
    "x_test_file_raw_y = open('data/UCI-HAR-Dataset/test/Inertial Signals/total_acc_y_test.txt', 'r')\n",
    "x_test_file_raw_z= open('data/UCI-HAR-Dataset/test/Inertial Signals/total_acc_z_test.txt', 'r')\n",
    "\n",
    "y_test_file_raw = open('data/UCI-HAR-Dataset/test/y_test.txt', 'r')\n",
    "\n",
    "\n",
    "for x in x_train_file_raw_x:\n",
    "    x_train_raw_x.append([float(ts) for ts in x.split()])\n",
    "for x in x_train_file_raw_y:\n",
    "    x_train_raw_y.append([float(ts) for ts in x.split()])\n",
    "for x in x_train_file_raw_z:\n",
    "    x_train_raw_z.append([float(ts) for ts in x.split()])\n",
    "    \n",
    "    \n",
    "for y in y_train_file_raw:\n",
    "    y_train_raw.append(int(y.rstrip('\\n')))\n",
    "    \n",
    "for x in x_test_file_raw_x:\n",
    "    x_test_raw_x.append([float(ts) for ts in x.split()])\n",
    "for x in x_test_file_raw_y:\n",
    "    x_test_raw_y.append([float(ts) for ts in x.split()])\n",
    "for x in x_test_file_raw_z:\n",
    "    x_test_raw_z.append([float(ts) for ts in x.split()])\n",
    "    \n",
    "    \n",
    "for y in y_test_file_raw:\n",
    "    y_test_raw.append(int(y.rstrip('\\n')))\n",
    "\n",
    "    \n",
    "x_train_raw = np.hstack([np.array(x_train_raw_x),np.array(x_train_raw_y),np.array(x_train_raw_z)])\n",
    "x_test_raw = np.hstack([np.array(x_test_raw_x), np.array(x_test_raw_y), np.array(x_test_raw_z)])\n",
    "y_train_raw = np.array(y_train_raw)\n",
    "y_test_raw = np.array(y_test_raw)\n",
    "\n",
    "#lets have the full data \n",
    "x_full_raw = np.append(x_train_raw, x_test_raw, axis=0)\n",
    "y_full_raw = np.append(y_train_raw, y_test_raw, axis=0)\n",
    "\n",
    "\n",
    "#reduce dataset so that we have a balanced class dataset\n",
    "x_subset_raw = []\n",
    "y_subset_raw = []\n",
    "di = {1:0,2:0,3:0,4:0,5:0,6:0}\n",
    "for i, item in enumerate(x_full_raw):\n",
    "    if di[y_full_raw[i]] < 500:\n",
    "        x_subset_raw.append(item)\n",
    "        y_subset_raw.append(y_full_raw[i])\n",
    "        di[y_full_raw[i]]+=1;\n",
    "#convert to numpy type\n",
    "x_subset_raw = np.array(x_subset_raw)\n",
    "y_subset_raw = np.array(y_subset_raw)\n",
    "print(\"Shape of reduced data = \", x_subset_raw.shape)\n",
    "unique, counts = np.unique(y_subset_raw, return_counts=True)\n",
    "print(\"[Label: Count] of reduced data\") \n",
    "dict(zip(unique, counts))\n"
   ]
  },
  {
   "cell_type": "code",
   "execution_count": 6,
   "id": "2f2debe3",
   "metadata": {},
   "outputs": [
    {
     "name": "stdout",
     "output_type": "stream",
     "text": [
      "Accuracy Score: 14.949494949494948 %\n",
      "              precision    recall  f1-score   support\n",
      "\n",
      "           1       0.00      0.00      0.00       173\n",
      "           2       0.15      1.00      0.26       148\n",
      "           3       0.00      0.00      0.00       184\n",
      "           4       0.00      0.00      0.00       156\n",
      "           5       0.00      0.00      0.00       165\n",
      "           6       0.00      0.00      0.00       164\n",
      "\n",
      "    accuracy                           0.15       990\n",
      "   macro avg       0.02      0.17      0.04       990\n",
      "weighted avg       0.02      0.15      0.04       990\n",
      "\n"
     ]
    },
    {
     "name": "stderr",
     "output_type": "stream",
     "text": [
      "/home/rishiraj.a/anaconda3/lib/python3.8/site-packages/sklearn/metrics/_classification.py:1245: UndefinedMetricWarning: Precision and F-score are ill-defined and being set to 0.0 in labels with no predicted samples. Use `zero_division` parameter to control this behavior.\n",
      "  _warn_prf(average, modifier, msg_start, len(result))\n",
      "/home/rishiraj.a/anaconda3/lib/python3.8/site-packages/sklearn/metrics/_classification.py:1245: UndefinedMetricWarning: Precision and F-score are ill-defined and being set to 0.0 in labels with no predicted samples. Use `zero_division` parameter to control this behavior.\n",
      "  _warn_prf(average, modifier, msg_start, len(result))\n",
      "/home/rishiraj.a/anaconda3/lib/python3.8/site-packages/sklearn/metrics/_classification.py:1245: UndefinedMetricWarning: Precision and F-score are ill-defined and being set to 0.0 in labels with no predicted samples. Use `zero_division` parameter to control this behavior.\n",
      "  _warn_prf(average, modifier, msg_start, len(result))\n"
     ]
    }
   ],
   "source": [
    "X_train, X_test, y_train, y_test = train_test_split(x_subset_raw, y_subset_raw, test_size=0.33, random_state=42)\n",
    "model=DummyClassifier(strategy=\"most_frequent\")\n",
    "\n",
    "model.fit(X_train,y_train)\n",
    "y_pred=model.predict(X_test)\n",
    "accuracy=accuracy_score(y_test,y_pred)\n",
    "print('Accuracy Score: '+ str(accuracy*100) + ' %')\n",
    "print(classification_report(y_test, y_pred))"
   ]
  },
  {
   "cell_type": "code",
   "execution_count": 7,
   "id": "356f3b97",
   "metadata": {},
   "outputs": [
    {
     "name": "stdout",
     "output_type": "stream",
     "text": [
      "Shape of reduced data =  (3000, 561)\n",
      "[Label: Count] of reduced data\n"
     ]
    },
    {
     "data": {
      "text/plain": [
       "{1: 500, 2: 500, 3: 500, 4: 500, 5: 500, 6: 500}"
      ]
     },
     "execution_count": 7,
     "metadata": {},
     "output_type": "execute_result"
    }
   ],
   "source": [
    "# Import the HAR dataset\n",
    "x_train_file = open('data/UCI-HAR-Dataset/train/X_train.txt', 'r')\n",
    "y_train_file = open('data/UCI-HAR-Dataset/train/y_train.txt', 'r')\n",
    "\n",
    "x_test_file = open('data/UCI-HAR-Dataset/test/X_test.txt', 'r')\n",
    "y_test_file = open('data/UCI-HAR-Dataset/test/y_test.txt', 'r')\n",
    "\n",
    "# Create empty lists\n",
    "x_train = []\n",
    "y_train = []\n",
    "x_test = []\n",
    "y_test = []\n",
    "\n",
    "# Mapping table for classes\n",
    "labels = {1:'WALKING', 2:'WALKING UPSTAIRS', 3:'WALKING DOWNSTAIRS',\n",
    "          4:'SITTING', 5:'STANDING', 6:'LAYING'}\n",
    "\n",
    "# Loop through datasets\n",
    "for x in x_train_file:\n",
    "    x_train.append([float(ts) for ts in x.split()])\n",
    "    \n",
    "for y in y_train_file:\n",
    "    y_train.append(int(y.rstrip('\\n')))\n",
    "    \n",
    "for x in x_test_file:\n",
    "    x_test.append([float(ts) for ts in x.split()])\n",
    "    \n",
    "for y in y_test_file:\n",
    "    y_test.append(int(y.rstrip('\\n')))\n",
    "    \n",
    "# Convert to numpy for efficiency\n",
    "x_train = np.array(x_train)\n",
    "y_train = np.array(y_train)\n",
    "x_test = np.array(x_test)\n",
    "y_test = np.array(y_test)\n",
    "\n",
    "#lets have the full data \n",
    "x_full = np.append(x_train, x_test, axis=0)\n",
    "y_full = np.append(y_train, y_test, axis=0)\n",
    "\n",
    "\n",
    "#reduce dataset so that we have a balanced class dataset\n",
    "x_subset = []\n",
    "y_subset = []\n",
    "di = {1:0,2:0,3:0,4:0,5:0,6:0}\n",
    "for i, item in enumerate(x_full):\n",
    "    if di[y_full[i]] < 500:\n",
    "        x_subset.append(item)\n",
    "        y_subset.append(y_full[i])\n",
    "        di[y_full[i]]+=1;\n",
    "#convert to numpy type\n",
    "x_subset = np.array(x_subset)\n",
    "y_subset = np.array(y_subset)\n",
    "print(\"Shape of reduced data = \", x_subset.shape)\n",
    "unique, counts = np.unique(y_subset, return_counts=True)\n",
    "print(\"[Label: Count] of reduced data\") \n",
    "dict(zip(unique, counts))\n"
   ]
  },
  {
   "cell_type": "code",
   "execution_count": 8,
   "id": "0f803647",
   "metadata": {},
   "outputs": [
    {
     "name": "stdout",
     "output_type": "stream",
     "text": [
      "Accuracy Score: 14.949494949494948 %\n",
      "              precision    recall  f1-score   support\n",
      "\n",
      "           1       0.00      0.00      0.00       173\n",
      "           2       0.15      1.00      0.26       148\n",
      "           3       0.00      0.00      0.00       184\n",
      "           4       0.00      0.00      0.00       156\n",
      "           5       0.00      0.00      0.00       165\n",
      "           6       0.00      0.00      0.00       164\n",
      "\n",
      "    accuracy                           0.15       990\n",
      "   macro avg       0.02      0.17      0.04       990\n",
      "weighted avg       0.02      0.15      0.04       990\n",
      "\n"
     ]
    },
    {
     "name": "stderr",
     "output_type": "stream",
     "text": [
      "/home/rishiraj.a/anaconda3/lib/python3.8/site-packages/sklearn/metrics/_classification.py:1245: UndefinedMetricWarning: Precision and F-score are ill-defined and being set to 0.0 in labels with no predicted samples. Use `zero_division` parameter to control this behavior.\n",
      "  _warn_prf(average, modifier, msg_start, len(result))\n",
      "/home/rishiraj.a/anaconda3/lib/python3.8/site-packages/sklearn/metrics/_classification.py:1245: UndefinedMetricWarning: Precision and F-score are ill-defined and being set to 0.0 in labels with no predicted samples. Use `zero_division` parameter to control this behavior.\n",
      "  _warn_prf(average, modifier, msg_start, len(result))\n",
      "/home/rishiraj.a/anaconda3/lib/python3.8/site-packages/sklearn/metrics/_classification.py:1245: UndefinedMetricWarning: Precision and F-score are ill-defined and being set to 0.0 in labels with no predicted samples. Use `zero_division` parameter to control this behavior.\n",
      "  _warn_prf(average, modifier, msg_start, len(result))\n"
     ]
    }
   ],
   "source": [
    "X_train, X_test, y_train, y_test = train_test_split(x_subset_raw, y_subset_raw, test_size=0.33, random_state=42)\n",
    "model=DummyClassifier(strategy=\"most_frequent\")\n",
    "\n",
    "model.fit(X_train,y_train)\n",
    "y_pred=model.predict(X_test)\n",
    "accuracy=accuracy_score(y_test,y_pred)\n",
    "print('Accuracy Score: '+ str(accuracy*100) + ' %')\n",
    "print(classification_report(y_test, y_pred))"
   ]
  },
  {
   "cell_type": "code",
   "execution_count": null,
   "id": "0fa358a1",
   "metadata": {},
   "outputs": [],
   "source": []
  }
 ],
 "metadata": {
  "kernelspec": {
   "display_name": "Python 3",
   "language": "python",
   "name": "python3"
  },
  "language_info": {
   "codemirror_mode": {
    "name": "ipython",
    "version": 3
   },
   "file_extension": ".py",
   "mimetype": "text/x-python",
   "name": "python",
   "nbconvert_exporter": "python",
   "pygments_lexer": "ipython3",
   "version": "3.8.8"
  }
 },
 "nbformat": 4,
 "nbformat_minor": 5
}
