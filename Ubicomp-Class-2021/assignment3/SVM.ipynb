{
 "cells": [
  {
   "cell_type": "code",
   "execution_count": 1,
   "id": "9b637918",
   "metadata": {},
   "outputs": [],
   "source": [
    "import pandas as pd\n",
    "import numpy as np\n",
    "from sklearn import svm\n",
    "from sklearn.model_selection import GridSearchCV\n",
    "from sklearn.model_selection import train_test_split\n",
    "from sklearn.metrics import classification_report\n",
    "from sklearn.metrics import accuracy_score"
   ]
  },
  {
   "cell_type": "code",
   "execution_count": 2,
   "id": "b874f890",
   "metadata": {},
   "outputs": [],
   "source": [
    "#helper function to convert 2d array to 1D\n",
    "def flatten_list(_2d_list):\n",
    "    flat_list = []\n",
    "    # Iterate through the outer list\n",
    "    for element in _2d_list:\n",
    "        if type(element) is list:\n",
    "            # If the element is of type list, iterate through the sublist\n",
    "            for item in element:\n",
    "                flat_list.append(item)\n",
    "        else:\n",
    "            flat_list.append(element)\n",
    "    return flat_list"
   ]
  },
  {
   "cell_type": "markdown",
   "id": "a65562a9",
   "metadata": {},
   "source": [
    "### Prepare data so that we have a class-balanced dataset"
   ]
  },
  {
   "cell_type": "markdown",
   "id": "b49bcd3d",
   "metadata": {},
   "source": [
    "### Code to Retrive Raw Acceleromter Data"
   ]
  },
  {
   "cell_type": "code",
   "execution_count": 22,
   "id": "59edcd64",
   "metadata": {},
   "outputs": [
    {
     "name": "stdout",
     "output_type": "stream",
     "text": [
      "Shape of reduced data =  (3000, 384)\n",
      "[Label: Count] of reduced data\n"
     ]
    },
    {
     "data": {
      "text/plain": [
       "{1: 500, 2: 500, 3: 500, 4: 500, 5: 500, 6: 500}"
      ]
     },
     "execution_count": 22,
     "metadata": {},
     "output_type": "execute_result"
    }
   ],
   "source": [
    "# Import the RAW HAR dataset\n",
    "x_train_raw_x = []\n",
    "x_train_raw_y = []\n",
    "x_train_raw_z = []\n",
    "y_train_raw = []\n",
    "x_test_raw_x = []\n",
    "x_test_raw_y = []\n",
    "x_test_raw_z = []\n",
    "y_test_raw = []\n",
    "\n",
    "x_train_file_raw_x = open('data/UCI-HAR-Dataset/train/Inertial Signals/total_acc_x_train.txt', 'r')\n",
    "x_train_file_raw_y = open('data/UCI-HAR-Dataset/train/Inertial Signals/total_acc_y_train.txt', 'r')\n",
    "x_train_file_raw_z = open('data/UCI-HAR-Dataset/train/Inertial Signals/total_acc_z_train.txt', 'r')\n",
    "\n",
    "y_train_file_raw = open('data/UCI-HAR-Dataset/train/y_train.txt', 'r')\n",
    "\n",
    "x_test_file_raw_x = open('data/UCI-HAR-Dataset/test/Inertial Signals/total_acc_x_test.txt', 'r')\n",
    "x_test_file_raw_y = open('data/UCI-HAR-Dataset/test/Inertial Signals/total_acc_y_test.txt', 'r')\n",
    "x_test_file_raw_z= open('data/UCI-HAR-Dataset/test/Inertial Signals/total_acc_z_test.txt', 'r')\n",
    "\n",
    "y_test_file_raw = open('data/UCI-HAR-Dataset/test/y_test.txt', 'r')\n",
    "\n",
    "\n",
    "for x in x_train_file_raw_x:\n",
    "    x_train_raw_x.append([float(ts) for ts in x.split()])\n",
    "for x in x_train_file_raw_y:\n",
    "    x_train_raw_y.append([float(ts) for ts in x.split()])\n",
    "for x in x_train_file_raw_z:\n",
    "    x_train_raw_z.append([float(ts) for ts in x.split()])\n",
    "    \n",
    "    \n",
    "for y in y_train_file_raw:\n",
    "    y_train_raw.append(int(y.rstrip('\\n')))\n",
    "    \n",
    "for x in x_test_file_raw_x:\n",
    "    x_test_raw_x.append([float(ts) for ts in x.split()])\n",
    "for x in x_test_file_raw_y:\n",
    "    x_test_raw_y.append([float(ts) for ts in x.split()])\n",
    "for x in x_test_file_raw_z:\n",
    "    x_test_raw_z.append([float(ts) for ts in x.split()])\n",
    "    \n",
    "    \n",
    "for y in y_test_file_raw:\n",
    "    y_test_raw.append(int(y.rstrip('\\n')))\n",
    "\n",
    "    \n",
    "x_train_raw = np.hstack([np.array(x_train_raw_x),np.array(x_train_raw_y),np.array(x_train_raw_z)])\n",
    "x_test_raw = np.hstack([np.array(x_test_raw_x), np.array(x_test_raw_y), np.array(x_test_raw_z)])\n",
    "y_train_raw = np.array(y_train_raw)\n",
    "y_test_raw = np.array(y_test_raw)\n",
    "\n",
    "#lets have the full data \n",
    "x_full_raw = np.append(x_train_raw, x_test_raw, axis=0)\n",
    "y_full_raw = np.append(y_train_raw, y_test_raw, axis=0)\n",
    "\n",
    "\n",
    "#reduce dataset so that we have a balanced class dataset\n",
    "x_subset_raw = []\n",
    "y_subset_raw = []\n",
    "di = {1:0,2:0,3:0,4:0,5:0,6:0}\n",
    "for i, item in enumerate(x_full_raw):\n",
    "    if di[y_full_raw[i]] < 500:\n",
    "        x_subset_raw.append(item)\n",
    "        y_subset_raw.append(y_full_raw[i])\n",
    "        di[y_full_raw[i]]+=1;\n",
    "#convert to numpy type\n",
    "x_subset_raw = np.array(x_subset_raw)\n",
    "y_subset_raw = np.array(y_subset_raw)\n",
    "print(\"Shape of reduced data = \", x_subset_raw.shape)\n",
    "unique, counts = np.unique(y_subset_raw, return_counts=True)\n",
    "print(\"[Label: Count] of reduced data\") \n",
    "dict(zip(unique, counts))\n"
   ]
  },
  {
   "cell_type": "markdown",
   "id": "7fa52b7c",
   "metadata": {},
   "source": [
    "## Training Using Raw Acceleromter Data"
   ]
  },
  {
   "cell_type": "code",
   "execution_count": 24,
   "id": "196f5a91",
   "metadata": {},
   "outputs": [
    {
     "name": "stdout",
     "output_type": "stream",
     "text": [
      "Fitting 4 folds for each of 12 candidates, totalling 48 fits\n",
      "Best Parameters: {'C': 1000, 'gamma': 0.001, 'kernel': 'rbf'}\n",
      "Accuracy Score: 88.18181818181819 %\n",
      "              precision    recall  f1-score   support\n",
      "\n",
      "           1       0.79      0.83      0.81       173\n",
      "           2       0.83      0.83      0.83       148\n",
      "           3       0.96      0.84      0.90       184\n",
      "           4       0.81      0.95      0.87       156\n",
      "           5       0.92      0.85      0.88       165\n",
      "           6       1.00      1.00      1.00       164\n",
      "\n",
      "    accuracy                           0.88       990\n",
      "   macro avg       0.88      0.88      0.88       990\n",
      "weighted avg       0.89      0.88      0.88       990\n",
      "\n"
     ]
    }
   ],
   "source": [
    "X_train, X_test, y_train, y_test = train_test_split(x_subset_raw, y_subset_raw, test_size=0.33, random_state=42)\n",
    "classifier=svm.SVC()\n",
    "parameters=[{'kernel': ['rbf'], 'gamma': [0.001, 0.0001], 'C': [1, 10, 100, 1000]}, {'kernel': ['linear'], 'C': [1, 10, 100, 1000]}]\n",
    "model=GridSearchCV(classifier,parameters,n_jobs=-1,cv=4,verbose=4)\n",
    "model.fit(X_train,y_train)\n",
    "y_pred=model.predict(X_test)\n",
    "accuracy=accuracy_score(y_test,y_pred)\n",
    "print('Best Parameters: '+ str(model.best_params_))\n",
    "print('Accuracy Score: '+ str(accuracy*100) + ' %')\n",
    "print(classification_report(y_test, y_pred))"
   ]
  },
  {
   "cell_type": "markdown",
   "id": "4a981bf6",
   "metadata": {},
   "source": [
    "## Code To Retrieve Curated Features"
   ]
  },
  {
   "cell_type": "code",
   "execution_count": 41,
   "id": "cd82bf29",
   "metadata": {},
   "outputs": [
    {
     "name": "stdout",
     "output_type": "stream",
     "text": [
      "Shape of reduced data =  (3000, 561)\n",
      "[Label: Count] of reduced data\n"
     ]
    },
    {
     "data": {
      "text/plain": [
       "{1: 500, 2: 500, 3: 500, 4: 500, 5: 500, 6: 500}"
      ]
     },
     "execution_count": 41,
     "metadata": {},
     "output_type": "execute_result"
    }
   ],
   "source": [
    "# Import the HAR dataset\n",
    "x_train_file = open('data/UCI-HAR-Dataset/train/X_train.txt', 'r')\n",
    "y_train_file = open('data/UCI-HAR-Dataset/train/y_train.txt', 'r')\n",
    "\n",
    "x_test_file = open('data/UCI-HAR-Dataset/test/X_test.txt', 'r')\n",
    "y_test_file = open('data/UCI-HAR-Dataset/test/y_test.txt', 'r')\n",
    "\n",
    "# Create empty lists\n",
    "x_train = []\n",
    "y_train = []\n",
    "x_test = []\n",
    "y_test = []\n",
    "\n",
    "# Mapping table for classes\n",
    "labels = {1:'WALKING', 2:'WALKING UPSTAIRS', 3:'WALKING DOWNSTAIRS',\n",
    "          4:'SITTING', 5:'STANDING', 6:'LAYING'}\n",
    "\n",
    "# Loop through datasets\n",
    "for x in x_train_file:\n",
    "    x_train.append([float(ts) for ts in x.split()])\n",
    "    \n",
    "for y in y_train_file:\n",
    "    y_train.append(int(y.rstrip('\\n')))\n",
    "    \n",
    "for x in x_test_file:\n",
    "    x_test.append([float(ts) for ts in x.split()])\n",
    "    \n",
    "for y in y_test_file:\n",
    "    y_test.append(int(y.rstrip('\\n')))\n",
    "    \n",
    "# Convert to numpy for efficiency\n",
    "x_train = np.array(x_train)\n",
    "y_train = np.array(y_train)\n",
    "x_test = np.array(x_test)\n",
    "y_test = np.array(y_test)\n",
    "\n",
    "#lets have the full data \n",
    "x_full = np.append(x_train, x_test, axis=0)\n",
    "y_full = np.append(y_train, y_test, axis=0)\n",
    "\n",
    "\n",
    "#reduce dataset so that we have a balanced class dataset\n",
    "x_subset = []\n",
    "y_subset = []\n",
    "di = {1:0,2:0,3:0,4:0,5:0,6:0}\n",
    "for i, item in enumerate(x_full):\n",
    "    if di[y_full[i]] < 500:\n",
    "        x_subset.append(item)\n",
    "        y_subset.append(y_full[i])\n",
    "        di[y_full[i]]+=1;\n",
    "#convert to numpy type\n",
    "x_subset = np.array(x_subset)\n",
    "y_subset = np.array(y_subset)\n",
    "print(\"Shape of reduced data = \", x_subset.shape)\n",
    "unique, counts = np.unique(y_subset, return_counts=True)\n",
    "print(\"[Label: Count] of reduced data\") \n",
    "dict(zip(unique, counts))\n"
   ]
  },
  {
   "cell_type": "markdown",
   "id": "e5f264c9",
   "metadata": {},
   "source": [
    "### Cross-validation and model testing with all features"
   ]
  },
  {
   "cell_type": "code",
   "execution_count": 6,
   "id": "2e51e94b",
   "metadata": {},
   "outputs": [
    {
     "name": "stdout",
     "output_type": "stream",
     "text": [
      "Fitting 4 folds for each of 12 candidates, totalling 48 fits\n",
      "Best Parameters: {'C': 100, 'gamma': 0.001, 'kernel': 'rbf'}\n",
      "Accuracy Score: 98.08080808080808 %\n",
      "              precision    recall  f1-score   support\n",
      "\n",
      "           1       1.00      1.00      1.00       173\n",
      "           2       0.99      1.00      1.00       148\n",
      "           3       1.00      1.00      1.00       184\n",
      "           4       0.96      0.92      0.94       156\n",
      "           5       0.93      0.96      0.95       165\n",
      "           6       1.00      1.00      1.00       164\n",
      "\n",
      "    accuracy                           0.98       990\n",
      "   macro avg       0.98      0.98      0.98       990\n",
      "weighted avg       0.98      0.98      0.98       990\n",
      "\n"
     ]
    }
   ],
   "source": [
    "X_train, X_test, y_train, y_test = train_test_split(x_subset, y_subset, test_size=0.33, random_state=42)\n",
    "classifier=svm.SVC()\n",
    "parameters=[{'kernel': ['rbf'], 'gamma': [0.001, 0.0001], 'C': [1, 10, 100, 1000]}, {'kernel': ['linear'], 'C': [1, 10, 100, 1000]}]\n",
    "model=GridSearchCV(classifier,parameters,n_jobs=-1,cv=4,verbose=4)\n",
    "model.fit(X_train,y_train)\n",
    "y_pred=model.predict(X_test)\n",
    "accuracy=accuracy_score(y_test,y_pred)\n",
    "print('Best Parameters: '+ str(model.best_params_))\n",
    "print('Accuracy Score: '+ str(accuracy*100) + ' %')\n",
    "print(classification_report(y_test, y_pred))"
   ]
  },
  {
   "cell_type": "markdown",
   "id": "98bfffd2",
   "metadata": {},
   "source": [
    "### Understanding Important Features\n",
    "**Dataset Desctiption**\n",
    "1. The raw acceleromter signal was separated into **body** and **gravity** acceleration signals using a low pass Butterworth filter with a corner frequency of 0.3 Hz. (```tBodyAcc-XYZ and tGravityAcc-XYZ```)\n",
    "2. Linear acceleration and angular velocity were derived in time to obtain Jerk signals (```tBodyAccJerk-XYZ and tBodyGyroJerk-XYZ```)\n",
    "3. Fast Fourier Transform (FFT) was applied to some of these signals producing ```BodyAcc-XYZ, fBodyAccJerk-XYZ, fBodyGyro-XYZ, fBodyAccJerkMag, fBodyGyroMag, fBodyGyroJerkMag```\n",
    "\n",
    "For each of the above the following statistical features were also computed\n",
    "```\n",
    "mean(): Mean value\n",
    "std(): Standard deviation\n",
    "mad(): Median absolute deviation \n",
    "max(): Largest value in array\n",
    "min(): Smallest value in array\n",
    "sma(): Signal magnitude area\n",
    "energy(): Energy measure. Sum of the squares divided by the number of values. \n",
    "iqr(): Interquartile range \n",
    "entropy(): Signal entropy\n",
    "arCoeff(): Autorregresion coefficients with Burg order equal to 4\n",
    "correlation(): correlation coefficient between two signals\n",
    "maxInds(): index of the frequency component with largest magnitude\n",
    "meanFreq(): Weighted average of the frequency components to obtain a mean frequency\n",
    "skewness(): skewness of the frequency domain signal \n",
    "kurtosis(): kurtosis of the frequency domain signal \n",
    "bandsEnergy(): Energy of a frequency interval within the 64 bins of the FFT of each window.\n",
    "angle(): Angle between to vectors\n",
    "```"
   ]
  },
  {
   "cell_type": "markdown",
   "id": "088fc4b4",
   "metadata": {},
   "source": [
    "Below are the index information for time domain features:<br>\n",
    "\n",
    "1. x_subset[:,00:40] All statistical components of ```tBodyAcc```\n",
    "2. x_subset[:,41:80] All statistical components of ```tGravityAcc```\n",
    "3. x_subset[:,81:120] All statistical components of ```tBodyAccJerk```\n",
    "4. x_subset[:,121:160] All statistical components of ```tBodyGyro```\n",
    "5. x_subset[:,161:200] All statistical components of ```tBodyGyroJerk```\n",
    "5. x_subset[:,201:213] All statistical components of ```tBodyAccMag```\n",
    "6. x_subset[:,214:226] All statistical components of ```tGravityAccMag```\n",
    "7. x_subset[:,227:239] All statistical components of ```tBodyAccJerkMag```\n",
    "8. x_subset[:,240:252] All statistical components of ```tBodyGyroMag```\n",
    "9. x_subset[:,253:265] All statistical components of ```tBodyGyroJerkMag```\n",
    "\n",
    "Frequency doamin features follow\n",
    "1. x_subset[:,265:344] All statistical components of ```fBodyAcc```\n",
    "2. x_subset[:,345:423] All statistical components of ```fBodyAccJerk```\n",
    "3. x_subset[:,424:502] All statistical components of ```fBodyGyro```\n",
    "4. x_subset[:,503:515] All statistical components of ```fBodyAccMag```\n",
    "5. x_subset[:,516:528] All statistical components of ```fBodyBodyAccJerkMag```\n",
    "6. x_subset[:,529:541] All statistical components of ```fBodyBodyGyroMag```\n",
    "7. x_subset[:,542:554] All statistical components of ```fBodyBodyGyroJerkMag```\n",
    "8. x_subset[:,555:561] Angle Information"
   ]
  },
  {
   "cell_type": "markdown",
   "id": "28f6eb94",
   "metadata": {},
   "source": [
    "\n",
    "**Question 1: Which class predictions remain accurate even after removing Gyroscope data?**"
   ]
  },
  {
   "cell_type": "code",
   "execution_count": 36,
   "id": "0dd1098d",
   "metadata": {},
   "outputs": [],
   "source": [
    "#removes gyroscope features\n",
    "indicesToRemove =  [[i for i in range(120,200)], [i for i in range(240,265)], [i for i in range(424,502)], [i for i in range(529,554)]]\n",
    "indicesToRemove = flatten_list(indicesToRemove)\n",
    "x_subset_wo_gyro = np.delete(x_subset, indicesToRemove, axis=1)"
   ]
  },
  {
   "cell_type": "code",
   "execution_count": 37,
   "id": "824f8950",
   "metadata": {},
   "outputs": [
    {
     "name": "stdout",
     "output_type": "stream",
     "text": [
      "Fitting 4 folds for each of 12 candidates, totalling 48 fits\n",
      "Best Parameters: {'C': 1, 'kernel': 'linear'}\n",
      "Accuracy Score: 96.96969696969697 %\n",
      "              precision    recall  f1-score   support\n",
      "\n",
      "           1       1.00      1.00      1.00       173\n",
      "           2       0.99      1.00      1.00       148\n",
      "           3       1.00      1.00      1.00       184\n",
      "           4       0.91      0.89      0.90       156\n",
      "           5       0.90      0.92      0.91       165\n",
      "           6       1.00      1.00      1.00       164\n",
      "\n",
      "    accuracy                           0.97       990\n",
      "   macro avg       0.97      0.97      0.97       990\n",
      "weighted avg       0.97      0.97      0.97       990\n",
      "\n"
     ]
    }
   ],
   "source": [
    "X_train, X_test, y_train, y_test = train_test_split(x_subset_wo_gyro, y_subset, test_size=0.33, random_state=42)\n",
    "classifier=svm.SVC()\n",
    "parameters=[{'kernel': ['rbf'], 'gamma': [0.001, 0.0001], 'C': [1, 10, 100, 1000]}, {'kernel': ['linear'], 'C': [1, 10, 100, 1000]}]\n",
    "model=GridSearchCV(classifier,parameters,n_jobs=-1,cv=4,verbose=4)\n",
    "model.fit(X_train,y_train)\n",
    "y_pred=model.predict(X_test)\n",
    "accuracy=accuracy_score(y_test,y_pred)\n",
    "print('Best Parameters: '+ str(model.best_params_))\n",
    "print('Accuracy Score: '+ str(accuracy*100) + ' %')\n",
    "print(classification_report(y_test, y_pred))"
   ]
  },
  {
   "cell_type": "markdown",
   "id": "86e14f7f",
   "metadata": {},
   "source": [
    "**Question 2: What will be the affect on accuracy if frequency domain information is removed?** <br>"
   ]
  },
  {
   "cell_type": "code",
   "execution_count": 44,
   "id": "8492a2cb",
   "metadata": {},
   "outputs": [],
   "source": [
    "#removes gyroscope features\n",
    "indicesToRemove =  [[i for i in range(265,561)]]\n",
    "indicesToRemove = flatten_list(indicesToRemove)\n",
    "x_subset_wo_freq = np.delete(x_subset, indicesToRemove, axis=1)"
   ]
  },
  {
   "cell_type": "code",
   "execution_count": 46,
   "id": "572017d4",
   "metadata": {},
   "outputs": [
    {
     "name": "stdout",
     "output_type": "stream",
     "text": [
      "Fitting 4 folds for each of 12 candidates, totalling 48 fits\n",
      "Best Parameters: {'C': 1, 'kernel': 'linear'}\n",
      "Accuracy Score: 96.96969696969697 %\n",
      "              precision    recall  f1-score   support\n",
      "\n",
      "           1       1.00      1.00      1.00       173\n",
      "           2       0.99      1.00      1.00       148\n",
      "           3       1.00      1.00      1.00       184\n",
      "           4       0.91      0.89      0.90       156\n",
      "           5       0.90      0.92      0.91       165\n",
      "           6       1.00      1.00      1.00       164\n",
      "\n",
      "    accuracy                           0.97       990\n",
      "   macro avg       0.97      0.97      0.97       990\n",
      "weighted avg       0.97      0.97      0.97       990\n",
      "\n"
     ]
    }
   ],
   "source": [
    "X_train, X_test, y_train, y_test = train_test_split(x_subset_wo_gyro, y_subset, test_size=0.33, random_state=42)\n",
    "classifier=svm.SVC()\n",
    "parameters=[{'kernel': ['rbf'], 'gamma': [0.001, 0.0001], 'C': [1, 10, 100, 1000]}, {'kernel': ['linear'], 'C': [1, 10, 100, 1000]}]\n",
    "model=GridSearchCV(classifier,parameters,n_jobs=-1,cv=4,verbose=4)\n",
    "model.fit(X_train,y_train)\n",
    "y_pred=model.predict(X_test)\n",
    "accuracy=accuracy_score(y_test,y_pred)\n",
    "print('Best Parameters: '+ str(model.best_params_))\n",
    "print('Accuracy Score: '+ str(accuracy*100) + ' %')\n",
    "print(classification_report(y_test, y_pred))"
   ]
  }
 ],
 "metadata": {
  "kernelspec": {
   "display_name": "Python 3",
   "language": "python",
   "name": "python3"
  },
  "language_info": {
   "codemirror_mode": {
    "name": "ipython",
    "version": 3
   },
   "file_extension": ".py",
   "mimetype": "text/x-python",
   "name": "python",
   "nbconvert_exporter": "python",
   "pygments_lexer": "ipython3",
   "version": "3.8.8"
  }
 },
 "nbformat": 4,
 "nbformat_minor": 5
}
