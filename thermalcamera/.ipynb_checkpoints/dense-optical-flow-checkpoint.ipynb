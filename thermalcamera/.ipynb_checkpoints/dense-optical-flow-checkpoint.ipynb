{
 "cells": [
  {
   "cell_type": "code",
   "execution_count": 1,
   "id": "dcd0414e",
   "metadata": {},
   "outputs": [],
   "source": [
    "import cv2 as cv\n",
    "import numpy as np\n",
    "import os"
   ]
  },
  {
   "cell_type": "code",
   "execution_count": 2,
   "id": "c1652382",
   "metadata": {},
   "outputs": [],
   "source": [
    "#Load the file\n",
    "# filenames = ['20221007T155451.MP4','20221007T155725-clip1.mp4','20221007T155725-clip2.mp4','20221007T155725-clip3.mp4',\n",
    "#             '20221007T160047-clip1.mp4','20221007T160047-clip2.mp4','20221007T160047-clip3.mp4','20221007T160405-clip1.mp4',\n",
    "#             '20221007T160405-clip2.mp4','20221007T160405-clip3.mp4','20221007T160717.mp4']\n",
    "\n",
    "oneFilePlease = ['20221007T160047-clip3.mp4']\n",
    "\n",
    "# particiapant 2\n",
    "# unsplitted\n",
    "#filenames = ['20221007T155451.mp4','20221007T155725.mp4','20221007T160047.mp4','20221007T160405.mp4','20221007T160717.mp4']\n",
    "\n",
    "\n",
    "path_to_file = \"../../../Documents/thermal-project-data/cycling/split/\"\n",
    "#path_to_file = \"../../../Documents/thermal-project-data/cycling/\""
   ]
  },
  {
   "cell_type": "code",
   "execution_count": 3,
   "id": "cc1eefcd",
   "metadata": {},
   "outputs": [
    {
     "name": "stdout",
     "output_type": "stream",
     "text": [
      "../../../Documents/thermal-project-data/cycling/split/20221007T160047-clip3.mp4\n"
     ]
    }
   ],
   "source": [
    "\n",
    "# The video feed is read in as a VideoCapture object\n",
    "full_path = os.path.join(path_to_file+oneFilePlease[0])\n",
    "print(full_path)\n",
    "    \n",
    "cap = cv.VideoCapture(full_path)\n",
    "# ret = a boolean return value from getting the frame, first_frame = the first frame in the entire video sequence\n",
    "ret, first_frame = cap.read()\n",
    "# Converts frame to grayscale because we only need the luminance channel for detecting edges - less computationally expensive\n",
    "prev_gray = cv.cvtColor(first_frame, cv.COLOR_BGR2GRAY)\n",
    "# Creates an image filled with zero intensities with the same dimensions as the frame\n",
    "mask = np.zeros_like(first_frame)\n",
    "# Sets image saturation to maximum\n",
    "mask[..., 1] = 255\n",
    " \n",
    "while(cap.isOpened()):\n",
    "    # ret = a boolean return value from getting the frame, frame = the current frame being projected in the video\n",
    "    ret, frame = cap.read()\n",
    "    # Opens a new window and displays the input frame\n",
    "    cv.imshow(\"input\", frame)\n",
    "    \n",
    "    # Converts each frame to grayscale - we previously only converted the first frame to grayscale\n",
    "    gray = cv.cvtColor(frame, cv.COLOR_BGR2GRAY)\n",
    "    # Calculates dense optical flow by Farneback method\n",
    "    # https://docs.opencv.org/3.0-beta/modules/video/doc/motion_analysis_and_object_tracking.html#calcopticalflowfarneback\n",
    "    flow = cv.calcOpticalFlowFarneback(prev_gray, gray, None, 0.5, 3, 15, 3, 5, 1.2, 0)\n",
    "    # Computes the magnitude and angle of the 2D vectors\n",
    "    magnitude, angle = cv.cartToPolar(flow[..., 0], flow[..., 1])\n",
    "    # Sets image hue according to the optical flow direction\n",
    "    mask[..., 0] = angle * 180 / np.pi / 2\n",
    "    # Sets image value according to the optical flow magnitude (normalized)\n",
    "    mask[..., 2] = cv.normalize(magnitude, None, 0, 255, cv.NORM_MINMAX)\n",
    "    # Converts HSV to RGB (BGR) color representation\n",
    "    rgb = cv.cvtColor(mask, cv.COLOR_HSV2BGR)\n",
    "    # Opens a new window and displays the output frame\n",
    "    cv.imshow(\"dense optical flow\", rgb)\n",
    "    # Updates previous frame\n",
    "    prev_gray = gray\n",
    "    # Frames are read by intervals of 1 millisecond. The programs breaks out of the while loop when the user presses the 'q' key\n",
    "    if cv.waitKey(1) & 0xFF == ord('q'):\n",
    "        break\n",
    "# The following frees up resources and closes all windows\n",
    "cap.release()\n",
    "cv.destroyAllWindows()"
   ]
  },
  {
   "cell_type": "code",
   "execution_count": null,
   "id": "418ec239",
   "metadata": {},
   "outputs": [],
   "source": []
  }
 ],
 "metadata": {
  "kernelspec": {
   "display_name": "Python 3 (ipykernel)",
   "language": "python",
   "name": "python3"
  },
  "language_info": {
   "codemirror_mode": {
    "name": "ipython",
    "version": 3
   },
   "file_extension": ".py",
   "mimetype": "text/x-python",
   "name": "python",
   "nbconvert_exporter": "python",
   "pygments_lexer": "ipython3",
   "version": "3.9.12"
  }
 },
 "nbformat": 4,
 "nbformat_minor": 5
}
