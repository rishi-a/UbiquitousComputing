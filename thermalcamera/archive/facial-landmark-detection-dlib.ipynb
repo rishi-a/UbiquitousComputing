{
 "cells": [
  {
   "cell_type": "code",
   "execution_count": 1,
   "id": "b7b1d926",
   "metadata": {},
   "outputs": [],
   "source": [
    "from imutils import face_utils\n",
    "from imutils import paths\n",
    "import matplotlib.pyplot as plt\n",
    "import numpy as np\n",
    "import subprocess\n",
    "import imutils\n",
    "import argparse \n",
    "import imutils\n",
    "import time\n",
    "import dlib\n",
    "import cv2\n",
    "import os "
   ]
  },
  {
   "cell_type": "code",
   "execution_count": 2,
   "id": "8c03ed72",
   "metadata": {},
   "outputs": [
    {
     "name": "stdout",
     "output_type": "stream",
     "text": [
      "[INFO] loading dlib thermal face detector...\n",
      "[INFO] loading facial landmark predictor...\n"
     ]
    }
   ],
   "source": [
    "# load the face detector (HOG-SVM)\n",
    "print(\"[INFO] loading dlib thermal face detector...\")\n",
    "detector = dlib.simple_object_detector(\"../../../Documents/thermal-project-data/dlib_models/dlib_face_detector.svm\")\n",
    "#detector = dlib.simple_object_detector(\"G:/Other computers/My MacBook Air/thermal-project-data/dlib_models/dlib_face_detector.svm\")\n",
    "\n",
    "# load the facial landmarks predictor\n",
    "print(\"[INFO] loading facial landmark predictor...\")\n",
    "predictor = dlib.shape_predictor(\"../../../Documents/thermal-project-data/dlib_models/dlib_landmark_predictor.dat\")\n",
    "#predictor = dlib.shape_predictor(\"G:/Other computers/My MacBook Air/thermal-project-data/dlib_models/dlib_landmark_predictor.dat\")"
   ]
  },
  {
   "cell_type": "code",
   "execution_count": 3,
   "id": "1e31a763",
   "metadata": {},
   "outputs": [],
   "source": [
    "def get_length(filename):\n",
    "    '''\n",
    "    Input: Filename including path\n",
    "    Returns: The total duration in seconds\n",
    "    '''\n",
    "    result = subprocess.run([\"ffprobe\", \"-v\", \"error\", \"-show_entries\",\n",
    "                             \"format=duration\", \"-of\",\n",
    "                             \"default=noprint_wrappers=1:nokey=1\", filename],\n",
    "        stdout=subprocess.PIPE,\n",
    "        stderr=subprocess.STDOUT)\n",
    "    return float(result.stdout)"
   ]
  },
  {
   "cell_type": "code",
   "execution_count": 4,
   "id": "7ab9bc5e",
   "metadata": {},
   "outputs": [
    {
     "name": "stdout",
     "output_type": "stream",
     "text": [
      "Total Frames In The Video Feed Is = 1579.372270059108\n",
      "Frame of interst is 43.68619022031166 rounded to 44\n"
     ]
    }
   ],
   "source": [
    "# assume that we know the fps, this assumption is true for Flir Thermal camera (iOS model)\n",
    "fps = 8.737238044062332\n",
    "\n",
    "# This cell will find out the frame number corresponding to the timestamp of interest\n",
    "\n",
    "# location fo the file\n",
    "filenameWithPath = '../../../Documents/thermal-project-data/cycling/20221011T152141.MP4'\n",
    "\n",
    "#filenameWithPath = \"G:/Other computers/My MacBook Air/thermal-project-data/cycling/20221011T152141.MP4\"\n",
    "\n",
    "#\"G:\\Other computers\\My MacBook Air\\thermal-project-data\\cycling\"\n",
    "\n",
    "totalFrames = fps*get_length(filenameWithPath)\n",
    "\n",
    "# helper to find frame number from the timestamp\n",
    "print(\"Total Frames In The Video Feed Is = {}\".format(totalFrames))\n",
    "\n",
    "# timestamp of interest should be given below.\n",
    "# the corresponding frame number will be returned\n",
    "minutes = 0\n",
    "seconds = 5\n",
    "totalSeconds = (minutes*60)+(seconds)\n",
    "frameElapsed = totalSeconds*fps\n",
    "print(\"Frame of interst is {} rounded to {}\".format(frameElapsed, round(frameElapsed)))"
   ]
  },
  {
   "cell_type": "code",
   "execution_count": 5,
   "id": "fa444aee",
   "metadata": {},
   "outputs": [
    {
     "name": "stdout",
     "output_type": "stream",
     "text": [
      "Total number of frames = 1587.0\n"
     ]
    },
    {
     "ename": "error",
     "evalue": "OpenCV(4.6.0) /Users/runner/work/opencv-python/opencv-python/opencv/modules/imgproc/src/color.cpp:182: error: (-215:Assertion failed) !_src.empty() in function 'cvtColor'\n",
     "output_type": "error",
     "traceback": [
      "\u001b[0;31m---------------------------------------------------------------------------\u001b[0m",
      "\u001b[0;31merror\u001b[0m                                     Traceback (most recent call last)",
      "Input \u001b[0;32mIn [5]\u001b[0m, in \u001b[0;36m<cell line: 38>\u001b[0;34m()\u001b[0m\n\u001b[1;32m     41\u001b[0m correct,frame \u001b[38;5;241m=\u001b[39m cap\u001b[38;5;241m.\u001b[39mread()\n\u001b[1;32m     43\u001b[0m \u001b[38;5;66;03m# change the channels so that we are matplotlib ready\u001b[39;00m\n\u001b[0;32m---> 44\u001b[0m frame \u001b[38;5;241m=\u001b[39m \u001b[43mcv2\u001b[49m\u001b[38;5;241;43m.\u001b[39;49m\u001b[43mcvtColor\u001b[49m\u001b[43m(\u001b[49m\u001b[43mframe\u001b[49m\u001b[43m,\u001b[49m\u001b[43mcv2\u001b[49m\u001b[38;5;241;43m.\u001b[39;49m\u001b[43mCOLOR_BGR2RGB\u001b[49m\u001b[43m)\u001b[49m\n\u001b[1;32m     46\u001b[0m \u001b[38;5;28;01mtry\u001b[39;00m:\n\u001b[1;32m     47\u001b[0m     \u001b[38;5;66;03m# detect faces in the image \u001b[39;00m\n\u001b[1;32m     48\u001b[0m     rects \u001b[38;5;241m=\u001b[39m detector(frame, upsample_num_times\u001b[38;5;241m=\u001b[39m\u001b[38;5;241m1\u001b[39m)\n",
      "\u001b[0;31merror\u001b[0m: OpenCV(4.6.0) /Users/runner/work/opencv-python/opencv-python/opencv/modules/imgproc/src/color.cpp:182: error: (-215:Assertion failed) !_src.empty() in function 'cvtColor'\n"
     ]
    }
   ],
   "source": [
    "cap = cv2.VideoCapture(filenameWithPath)\n",
    "# get the frame rate\n",
    "fps = cap.get(cv2.CAP_PROP_FPS)\n",
    "\n",
    "totalFrames = cap.get(cv2.CAP_PROP_FRAME_COUNT)\n",
    "\n",
    "# get the total frame as per opencv2\n",
    "print(\"Total number of frames = {}\".format(totalFrames))\n",
    "\n",
    "# number of frame to fast forward. These many frames will be skipped.\n",
    "# these number is close to the timestamp of interest where the event has occured.\n",
    "fastForwardFrame = round(frameElapsed)-5;\n",
    "\n",
    "fastForwardFrame = 0\n",
    "\n",
    "# keep track of dropped frames\n",
    "drop = 0\n",
    "\n",
    "#print(fastForwardFrame)\n",
    "\n",
    "# keep a tab of the frame count\n",
    "frameNumber = 0 if fastForwardFrame == 0 else fastForwardFrame\n",
    "\n",
    "\n",
    "# move frame that we want to fast forward\n",
    "while fastForwardFrame:\n",
    "    correct,frame = cap.read()\n",
    "    fastForwardFrame-=1;\n",
    "\n",
    "\n",
    "NosFrame = totalFrames\n",
    "# this variable will be reduced after each frame is processed\n",
    "frameLeft = NosFrame\n",
    "#fig, ax = plt.subplots(round(np.sqrt(NosFrame)),round(np.sqrt(NosFrame)), figsize=(45,45))\n",
    "\n",
    "j=0;i=0\n",
    "correct = True\n",
    "while frameLeft and correct:\n",
    "    \n",
    "    # read the first frame of the video\n",
    "    correct,frame = cap.read()\n",
    "    \n",
    "    # change the channels so that we are matplotlib ready\n",
    "    frame = cv2.cvtColor(frame,cv2.COLOR_BGR2RGB)\n",
    "    \n",
    "    try:\n",
    "        # detect faces in the image \n",
    "        rects = detector(frame, upsample_num_times=1)\n",
    "\n",
    "        (x, y, w, h) = face_utils.rect_to_bb(rects[0])\n",
    "        cv2.rectangle(frame, (x, y), (x + w, y + h), (0, 255, 0), 2)\n",
    "\n",
    "        shape = predictor(frame, rects[0])\n",
    "        shape = face_utils.shape_to_np(shape)\n",
    "        \n",
    "        for (sx, sy) in shape:\n",
    "            cv2.circle(frame, (sx, sy), 2, (0, 0, 255), -1)\n",
    "            \n",
    "\n",
    "        cv2.imshow(\"frame\", frame)\n",
    "        key = cv2.waitKey(int((1/fps)*1000)) \n",
    "        if key == 27 or key == ord('q'):\n",
    "            break\n",
    "        #ax[j,i].imshow(frame)\n",
    "    except Exception as e:\n",
    "        drop+=1\n",
    "        cv2.imshow(\"frame\", frame)\n",
    "        key = cv2.waitKey(int((1/fps)*1000)) \n",
    "        if key == 27 or key == ord('q'):\n",
    "            break\n",
    "        #print(e)\n",
    "        continue\n",
    "        #ax[j,i].imshow(frame)\n",
    "    #i+=1;\n",
    "    #if i==round(np.sqrt(NosFrame)):\n",
    "    #    i=0\n",
    "    #    j+=1\n",
    "    frameLeft-=1; frameNumber+=1\n",
    "cap.release()\n",
    "cv2.destroyAllWindows()\n",
    "print(\"Total Frames Dropped = {}\".format((drop/totalFrames)*100))"
   ]
  },
  {
   "cell_type": "code",
   "execution_count": 6,
   "id": "bee24114",
   "metadata": {},
   "outputs": [
    {
     "data": {
      "text/plain": [
       "784"
      ]
     },
     "execution_count": 6,
     "metadata": {},
     "output_type": "execute_result"
    }
   ],
   "source": [
    "drop"
   ]
  },
  {
   "cell_type": "code",
   "execution_count": 7,
   "id": "24d52f2d",
   "metadata": {},
   "outputs": [
    {
     "data": {
      "text/plain": [
       "0.49401386263390046"
      ]
     },
     "execution_count": 7,
     "metadata": {},
     "output_type": "execute_result"
    }
   ],
   "source": [
    "784/1587"
   ]
  },
  {
   "cell_type": "code",
   "execution_count": null,
   "id": "0dc710a7",
   "metadata": {},
   "outputs": [],
   "source": []
  }
 ],
 "metadata": {
  "kernelspec": {
   "display_name": "Python 3 (ipykernel)",
   "language": "python",
   "name": "python3"
  },
  "language_info": {
   "codemirror_mode": {
    "name": "ipython",
    "version": 3
   },
   "file_extension": ".py",
   "mimetype": "text/x-python",
   "name": "python",
   "nbconvert_exporter": "python",
   "pygments_lexer": "ipython3",
   "version": "3.9.12"
  }
 },
 "nbformat": 4,
 "nbformat_minor": 5
}
