{
 "cells": [
  {
   "cell_type": "code",
   "execution_count": 27,
   "id": "7a5c6f49",
   "metadata": {},
   "outputs": [],
   "source": [
    "from imutils import face_utils\n",
    "from imutils import paths\n",
    "import numpy as np\n",
    "import imutils\n",
    "import argparse \n",
    "import imutils\n",
    "import time\n",
    "import dlib\n",
    "import cv2\n",
    "import os \n",
    "import matplotlib.pyplot as plt\n",
    "import scipy\n",
    "from scipy import signal as sp\n",
    "import matplotlib\n",
    "font = {'family' : 'normal',\n",
    "        'weight' : 'normal',\n",
    "        'size'   : 15}\n",
    "\n",
    "matplotlib.rc('font', **font)"
   ]
  },
  {
   "cell_type": "code",
   "execution_count": 2,
   "id": "12ae3c92",
   "metadata": {},
   "outputs": [],
   "source": [
    "def compute_fft(s, sampling_rate, n = None, scale_amplitudes = True):\n",
    "    '''Computes an FFT on signal s using numpy.fft.fft.\n",
    "    \n",
    "       Parameters:\n",
    "        s (np.array): the signal\n",
    "        sampling_rate (num): sampling rate\n",
    "        n (integer): If n is smaller than the length of the input, the input is cropped. If n is \n",
    "            larger, the input is padded with zeros. If n is not given, the length of the input signal \n",
    "            is used (i.e., len(s))\n",
    "        scale_amplitudes (boolean): If true, the spectrum amplitudes are scaled by 2/len(s)\n",
    "    '''\n",
    "    if n == None:\n",
    "        n = len(s)\n",
    "        \n",
    "    fft_result = np.fft.fft(s, n)\n",
    "    num_freq_bins = len(fft_result)\n",
    "    fft_freqs = np.fft.fftfreq(num_freq_bins, d = 1 / sampling_rate)\n",
    "    half_freq_bins = num_freq_bins // 2\n",
    " \n",
    "    fft_freqs = fft_freqs[:half_freq_bins]\n",
    "    fft_result = fft_result[:half_freq_bins]\n",
    "    fft_amplitudes = np.abs(fft_result)\n",
    "    \n",
    "    if scale_amplitudes is True:\n",
    "        fft_amplitudes = 2 * fft_amplitudes / (len(s))\n",
    "    \n",
    "    return (fft_freqs, fft_amplitudes)"
   ]
  },
  {
   "cell_type": "code",
   "execution_count": 3,
   "id": "e16d227d",
   "metadata": {},
   "outputs": [],
   "source": [
    "# read the txt file where the files to read are mentioned\n",
    "file = open('file-to-read.txt')\n",
    "filenames = file.read().splitlines()\n",
    "\n",
    "\n",
    "# Depending on weather the video file was split or not, the path would be different\n",
    "#path_to_file = \"../../../Documents/thermal-project-data/cycling/split/\"\n",
    "path_to_file = \"../../../Documents/thermal-project-data/cycling/\"\n",
    "\n",
    "\n",
    "def click_event(event, x, y, flags, params):\n",
    "    global old_points, first_point;\n",
    "    if event == cv2.EVENT_LBUTTONDOWN:\n",
    "        old_points = np.array([[x,y,]], dtype=np.float32)\n",
    "        first_point = old_points\n",
    "        \n",
    "# lucas kanade params\n",
    "lk_param = dict(winSize=(50,50), maxLevel=16, criteria=(cv2.TERM_CRITERIA_EPS | cv2.TERM_CRITERIA_COUNT, 10,0.03))\n",
    "    \n",
    "\n",
    "# keep a count of frames in total across all the videos.\n",
    "frameCount = 0\n",
    "\n",
    "# list to store all the ROI's sum of pixels for each frame of each video\n",
    "rrSignal = []\n",
    "\n",
    "for file in filenames:\n",
    "    full_path = os.path.join(path_to_file+file)\n",
    "\n",
    "    cap = cv2.VideoCapture(full_path)\n",
    "    \n",
    "    # get the frame rate\n",
    "    fps = cap.get(cv2.CAP_PROP_FPS)\n",
    "\n",
    "    # read the first frame of the video\n",
    "    correct,frame = cap.read()\n",
    "    \n",
    "    if not correct:\n",
    "        break;\n",
    "\n",
    "    # convert the first frame to grayscale\n",
    "    old_gray = cv2.cvtColor(frame,cv2.COLOR_BGR2GRAY)\n",
    "\n",
    "    # show the first frame. imshow requires param to be in BGR format unlike Matplotlib's RGB\n",
    "    cv2.imshow('image', frame)\n",
    "    #b,g,r = cv2.split(frame)\n",
    "    #frame = cv2.merge((r,g,b))\n",
    "\n",
    "    # hook the function to be called in case of mouse click\n",
    "    cv2.setMouseCallback('image', click_event)\n",
    "\n",
    "    # wait infinitely until a key is pressed.\n",
    "    cv2.waitKey(0)\n",
    "    \n",
    "    while True:\n",
    "        sumPixels = 0;\n",
    "\n",
    "        # read the second frame\n",
    "        correct, frame = cap.read()\n",
    "        if not correct:\n",
    "            break;\n",
    "        frameCount+=1\n",
    "\n",
    "        # get the size of the frame\n",
    "        height, width, channel = frame.shape\n",
    "\n",
    "        # create a all-zeros mask, we are doing this to get all the pixels covered by the circle\n",
    "        mask = np.zeros((height, width), np.uint8)\n",
    "\n",
    "        # convert the frame to grayscale\n",
    "        gray_frame = cv2.cvtColor(frame, cv2.COLOR_BGR2GRAY)\n",
    "\n",
    "        # get the new points for optical flow\n",
    "        new_points, status, error = cv2.calcOpticalFlowPyrLK(old_gray, gray_frame, old_points, None, **lk_param)\n",
    "        # update the old frame to the current frame\n",
    "        old_gray = gray_frame.copy()\n",
    "        # update the old points to new points\n",
    "        old_points = new_points\n",
    "\n",
    "        # make arrangements to plot the points\n",
    "        x,y = new_points.ravel()\n",
    "        x_i, y_i = first_point.ravel()\n",
    "\n",
    "        # draw the point where the initial click was made\n",
    "        cv2.circle(frame, (int(x_i),int(y_i)),5,(0,0,255),-1)\n",
    "\n",
    "        circleRadius = 25\n",
    "        # draw the moving point as per optical flows\n",
    "        cv2.circle(frame, (int(x),int(y)),circleRadius,(255,0,0),-1)\n",
    "\n",
    "        # create the circle with new point over the mask as well\n",
    "        circle_mask = cv2.circle(mask, (int(x), int(y)),circleRadius,(255,0,0),-1)\n",
    "        masked_data = cv2.bitwise_and(gray_frame,gray_frame,mask=circle_mask)\n",
    "\n",
    "        # code to get all pixel location inside the ROI in the optical flow\n",
    "        tom, thres = cv2.threshold(mask, 1,255, cv2.THRESH_BINARY)\n",
    "        contours = cv2.findContours(thres, cv2.RETR_EXTERNAL, cv2.CHAIN_APPROX_SIMPLE)\n",
    "        x,y,w,h = cv2.boundingRect(contours[0][0])\n",
    "        crop = masked_data[y:y+h,x:x+w]\n",
    "        \n",
    "        #print(np.sum(crop[:,:]))\n",
    "\n",
    "        # now that we have the pixels corresponding to the ROI, lets sum of all pixels.\n",
    "        sumPixels = np.sum(crop[:,:])\n",
    "\n",
    "        # for each frame, store the sumPixel in an array. This array is the signal for RR\n",
    "        rrSignal.append(sumPixels)\n",
    "\n",
    "\n",
    "        cv2.imshow(\"Frame\", frame)\n",
    "        key = cv2.waitKey(int((1/fps)*1000))\n",
    "        if key == 27 or key == ord('q'):\n",
    "            break\n",
    "    cap.release()\n",
    "    cv2.destroyAllWindows()\n",
    "    \n",
    "rrSignal_t = [f/fps for f in range(1,frameCount)]    "
   ]
  },
  {
   "cell_type": "code",
   "execution_count": 8,
   "id": "07ff6e90",
   "metadata": {},
   "outputs": [
    {
     "data": {
      "text/plain": [
       "269"
      ]
     },
     "execution_count": 8,
     "metadata": {},
     "output_type": "execute_result"
    }
   ],
   "source": [
    "len(rrSignal_t)"
   ]
  },
  {
   "cell_type": "code",
   "execution_count": 10,
   "id": "36a547a0",
   "metadata": {},
   "outputs": [
    {
     "data": {
      "text/plain": [
       "269"
      ]
     },
     "execution_count": 10,
     "metadata": {},
     "output_type": "execute_result"
    }
   ],
   "source": [
    "len(filteredA[:-1])"
   ]
  },
  {
   "cell_type": "code",
   "execution_count": 28,
   "id": "cbfe2b5e",
   "metadata": {},
   "outputs": [
    {
     "name": "stderr",
     "output_type": "stream",
     "text": [
      "findfont: Font family ['normal'] not found. Falling back to DejaVu Sans.\n",
      "findfont: Font family ['normal'] not found. Falling back to DejaVu Sans.\n"
     ]
    },
    {
     "data": {
      "image/png": "[encoded data removed]",
      "text/plain": [
       "<Figure size 720x432 with 2 Axes>"
      ]
     },
     "metadata": {
      "needs_background": "light"
     },
     "output_type": "display_data"
    }
   ],
   "source": [
    "# show the respiration rate\n",
    "size = 4\n",
    "window = sp.gaussian(M=size, std=6)\n",
    "window /= window.sum()\n",
    "filteredA = np.convolve(np.array(rrSignal), window, mode='same')\n",
    "F,A = compute_fft(rrSignal, fps, n = None, scale_amplitudes = True)\n",
    "\n",
    "fig, ax  = plt.subplots(2,1, figsize=(10,6))\n",
    "ax[0].plot(rrSignal_t,rrSignal[:-1])\n",
    "ax[0].set_xlabel('Time (s)')\n",
    "ax[0].set_ylabel('Sum of Pixel in ROI')\n",
    "ax[0].set_title('Change in Pixel Intensity Over Time')\n",
    "#ax[1].plot(rrSignal_t,filteredA[:-1])\n",
    "ax[1].plot(F[1:],A[1:])\n",
    "ax[1].set_xlabel('Frequency')\n",
    "ax[1].set_ylabel('Scaled Amplitude')\n",
    "ax[1].set_title('FFT Over Signal Collected Over ROI')\n",
    "\n",
    "fig.tight_layout()"
   ]
  },
  {
   "cell_type": "code",
   "execution_count": 11,
   "id": "6aa1b9a1",
   "metadata": {},
   "outputs": [
    {
     "name": "stdout",
     "output_type": "stream",
     "text": [
      "18.0\n",
      "20.1\n",
      "21.8\n",
      "65.5\n"
     ]
    },
    {
     "data": {
      "text/plain": [
       "(0.0, 70.0)"
      ]
     },
     "execution_count": 11,
     "metadata": {},
     "output_type": "execute_result"
    },
    {
     "data": {
      "image/png": "[encoded data removed]",
      "text/plain": [
       "<Figure size 720x288 with 1 Axes>"
      ]
     },
     "metadata": {
      "needs_background": "light"
     },
     "output_type": "display_data"
    },
    {
     "data": {
      "image/png": "[encoded data removed]",
      "text/plain": [
       "<Figure size 864x288 with 1 Axes>"
      ]
     },
     "metadata": {
      "needs_background": "light"
     },
     "output_type": "display_data"
    }
   ],
   "source": [
    "\n",
    "\n",
    "\n",
    "# store the end timestamp in second at which the BrPM computation was ready\n",
    "indices = [] \n",
    "BrPMList = []\n",
    "for i in range(0,round(rrSignal_t[-1]),10):\n",
    "    if i+30 > 300: #TODO: Need to address what this 300 is? \n",
    "        print(\"Reached End\")\n",
    "        break;\n",
    "    F,A = compute_fft(filteredA[int(i*fps): int((i+30)*fps)], fps, n = None, scale_amplitudes = True)\n",
    "    highestFreq = F[np.argmax(A[1:])+1]\n",
    "    indices.append(i+30)\n",
    "    #print(\"Breathing Rate {} to {} = {:.2f}\".format(i,i+10,highestFreq*60));\n",
    "    #print(\"{}-{}--{:.1f}\".format(i,i+30,highestFreq*60))\n",
    "    BrPMList.append(highestFreq*60)\n",
    "    print(\"{:.1f}\".format(highestFreq*60))\n",
    "\n",
    "fig, ax = plt.subplots(1,1,figsize=(12,4))\n",
    "ax.plot(indices,BrPMList)\n",
    "ax.set_xlabel('Time (s)')\n",
    "ax.set_ylabel('BrPM')\n",
    "ax.set_ylim((0,70))\n",
    "\n",
    "    \n"
   ]
  },
  {
   "cell_type": "code",
   "execution_count": 3,
   "id": "f2ef9f03",
   "metadata": {},
   "outputs": [
    {
     "name": "stdout",
     "output_type": "stream",
     "text": [
      "Read a new frame:  True\n"
     ]
    }
   ],
   "source": [
    "# Code to get the first frame and save it as an image\n",
    "\n",
    "# no longer required to be executed as it is apparent that the first frame is not useful to get facial landmarks.\n",
    "\n",
    "'''\n",
    "vidcap = cv2.VideoCapture(\"../../../Documents/thermal-project-data/cycling/split/09212022_2-clip0.MP4\")\n",
    "success,image = vidcap.read()\n",
    "count = 0\n",
    "\n",
    "while success:\n",
    "    cv2.imwrite(\"frame%d.jpg\" % count, image)     # save frame as JPEG file      \n",
    "    success,image = vidcap.read()\n",
    "    print('Read a new frame: ', success)\n",
    "    count += 1\n",
    "    success = False\n",
    "'''"
   ]
  },
  {
   "cell_type": "code",
   "execution_count": null,
   "id": "06df825b",
   "metadata": {},
   "outputs": [],
   "source": [
    "# End of active script in use"
   ]
  },
  {
   "cell_type": "code",
   "execution_count": null,
   "id": "ae5981ed",
   "metadata": {},
   "outputs": [],
   "source": []
  },
  {
   "cell_type": "code",
   "execution_count": null,
   "id": "04f9f641",
   "metadata": {},
   "outputs": [],
   "source": []
  },
  {
   "cell_type": "code",
   "execution_count": null,
   "id": "6c5c3e15",
   "metadata": {},
   "outputs": [],
   "source": []
  },
  {
   "cell_type": "code",
   "execution_count": null,
   "id": "604a11cc",
   "metadata": {},
   "outputs": [],
   "source": []
  },
  {
   "cell_type": "code",
   "execution_count": null,
   "id": "1c2cfc7c",
   "metadata": {},
   "outputs": [],
   "source": []
  },
  {
   "cell_type": "code",
   "execution_count": null,
   "id": "848b78cd",
   "metadata": {},
   "outputs": [],
   "source": []
  },
  {
   "cell_type": "code",
   "execution_count": null,
   "id": "ef4d3301",
   "metadata": {},
   "outputs": [],
   "source": []
  },
  {
   "cell_type": "code",
   "execution_count": null,
   "id": "3dfe0de7",
   "metadata": {},
   "outputs": [],
   "source": []
  },
  {
   "cell_type": "code",
   "execution_count": null,
   "id": "eb2c3959",
   "metadata": {},
   "outputs": [],
   "source": []
  },
  {
   "cell_type": "code",
   "execution_count": null,
   "id": "3e0160f0",
   "metadata": {},
   "outputs": [],
   "source": []
  },
  {
   "cell_type": "code",
   "execution_count": null,
   "id": "d4538d63",
   "metadata": {},
   "outputs": [],
   "source": []
  },
  {
   "cell_type": "code",
   "execution_count": null,
   "id": "d3a3dde2",
   "metadata": {},
   "outputs": [],
   "source": []
  },
  {
   "cell_type": "code",
   "execution_count": 53,
   "id": "3d671bb0",
   "metadata": {},
   "outputs": [
    {
     "name": "stdout",
     "output_type": "stream",
     "text": [
      "../../../Documents/thermal-project-data/cycling/split/09212022_2-clip0.MP4\n",
      "Playback Over\n"
     ]
    }
   ],
   "source": [
    "# OLD CODE FOR ONE FILE ONLY\n",
    "\n",
    "# reads a frame of an image\n",
    "# returns the (x,y) coordinate of the image on which the image was clicked\n",
    "\n",
    "#opencv: BGR\n",
    "#matplotlib: RGB\n",
    "\n",
    "\n",
    "def click_event(event, x, y, flags, params):\n",
    "    global old_points, first_point;\n",
    "    if event == cv2.EVENT_LBUTTONDOWN:\n",
    "        old_points = np.array([[x,y,]], dtype=np.float32)\n",
    "        first_point = old_points\n",
    "        \n",
    "# lucas kanade params\n",
    "lk_param = dict(winSize=(200,200), maxLevel=2, criteria=(cv2.TERM_CRITERIA_EPS | cv2.TERM_CRITERIA_COUNT, 10,0.03))\n",
    "    \n",
    "\n",
    "\n",
    "path = \"../../../Documents/thermal-project-data/cycling/split\"\n",
    "filename = \"09212022_2-clip0.MP4\" \n",
    "fullpath = os.path.join(path, filename)\n",
    "\n",
    "print(fullpath)\n",
    "#cap = cv2.VideoCapture(\"../../../Documents/thermal-project-data/cycling/split/09212022_2-clip0.MP4\")\n",
    "cap = cv2.VideoCapture(fullpath)\n",
    "# get the frame rate\n",
    "fps = cap.get(cv2.CAP_PROP_FPS)\n",
    "\n",
    "# read the first frame of the video\n",
    "correct,frame = cap.read()\n",
    "\n",
    "if not correct:\n",
    "    print(\"File Load Failed\")\n",
    "\n",
    "# convert the first frame to grayscale\n",
    "old_gray = cv2.cvtColor(frame,cv2.COLOR_BGR2GRAY)\n",
    "\n",
    "# show the first frame. imshow requires param to be in BGR format unlike Matplotlib's RGB\n",
    "cv2.imshow('image', frame)\n",
    "#b,g,r = cv2.split(frame)\n",
    "#frame = cv2.merge((r,g,b))\n",
    "\n",
    "# hook the function to be called in case of mouse click\n",
    "cv2.setMouseCallback('image', click_event)\n",
    "\n",
    "# wait infinitely until a key is pressed.\n",
    "cv2.waitKey(0)\n",
    "\n",
    "# list to store all the ROI's sum of pixels for each frame\n",
    "rrSignal = []\n",
    "\n",
    "# keep a count of frames so that we know the timestamp\n",
    "frameCount = 1\n",
    "\n",
    "while True:\n",
    "    sumPixels = 0;\n",
    "    \n",
    "    # read the second frame\n",
    "    correct, frame = cap.read()\n",
    "    if not correct:\n",
    "        break;\n",
    "    frameCount+=1\n",
    "    \n",
    "    # get the size of the frame\n",
    "    height, width, channel = frame.shape\n",
    "\n",
    "    # create a all-zeros mask, we are doing this to get all the pixels covered by the circle\n",
    "    mask = np.zeros((height, width), np.uint8)\n",
    "        \n",
    "    # convert the frame to grayscale\n",
    "    gray_frame = cv2.cvtColor(frame, cv2.COLOR_BGR2GRAY)\n",
    "        \n",
    "    # get the new points for optical flow\n",
    "    new_points, status, error = cv2.calcOpticalFlowPyrLK(old_gray, gray_frame, old_points, None, **lk_param)\n",
    "    # update the old frame to the current frame\n",
    "    old_gray = gray_frame.copy()\n",
    "    # update the old points to new points\n",
    "    old_points = new_points\n",
    "    \n",
    "    # make arrangements to plot the points\n",
    "    x,y = new_points.ravel()\n",
    "    x_i, y_i = first_point.ravel()\n",
    "    \n",
    "    # draw the point where the initial click was made\n",
    "    cv2.circle(frame, (int(x_i),int(y_i)),5,(0,0,255),-1)\n",
    "    \n",
    "    circleRadius = 25\n",
    "    # draw the moving point as per optical flows\n",
    "    cv2.circle(frame, (int(x),int(y)),circleRadius,(255,0,0),-1)\n",
    "    \n",
    "    # create the circle with new point over the mask as well\n",
    "    circle_mask = cv2.circle(mask, (int(x), int(y)),circleRadius,(255,0,0),-1)\n",
    "    masked_data = cv2.bitwise_and(gray_frame,gray_frame,mask=circle_mask)\n",
    "    \n",
    "    # code to get all pixel location inside the ROI in the optical flow\n",
    "    tom, thres = cv2.threshold(mask, 1,255, cv2.THRESH_BINARY)\n",
    "    contours = cv2.findContours(thres, cv2.RETR_EXTERNAL, cv2.CHAIN_APPROX_SIMPLE)\n",
    "    x,y,w,h = cv2.boundingRect(contours[0][0])\n",
    "    crop = masked_data[y:y+h,x:x+w]\n",
    "    \n",
    "    # now that we have the pixels corresponding to the ROI, lets sum of all pixels.\n",
    "    sumPixels = np.sum(crop[:,:])\n",
    "    \n",
    "    # for each frame, store the sumPixel in an array. This array is the signal for RR\n",
    "    rrSignal.append(sumPixels)\n",
    "    \n",
    "    \n",
    "    \n",
    "    cv2.imshow(\"Frame\", frame)\n",
    "    key = cv2.waitKey(int((1/fps)*1000))\n",
    "    if key == 27 or key == ord('q'):\n",
    "        break\n",
    "        \n",
    "cap.release()\n",
    "cv2.destroyAllWindows()\n",
    "\n",
    "rrSignal_t = [f/fps for f in range(1,frameCount)]\n",
    "\n",
    "print(\"Playback Over\")\n",
    "\n"
   ]
  },
  {
   "cell_type": "code",
   "execution_count": 8,
   "id": "683dec30",
   "metadata": {},
   "outputs": [
    {
     "name": "stdout",
     "output_type": "stream",
     "text": [
      "0-30--75.2\n",
      "Breathing Rate Computed From Entire Signal\n"
     ]
    },
    {
     "data": {
      "image/png": "[encoded data removed]",
      "text/plain": [
       "<Figure size 864x432 with 3 Axes>"
      ]
     },
     "metadata": {
      "needs_background": "light"
     },
     "output_type": "display_data"
    }
   ],
   "source": [
    "# clean the signal using a Gaussina filter\n",
    "size = 3\n",
    "window = sp.gaussian(M=size, std=6)\n",
    "window /= window.sum()\n",
    "filteredA = np.convolve(np.array(rrSignal), window, mode='same')\n",
    "\n",
    "\n",
    "for i in range(0,round(rrSignal_t[-1]),10):\n",
    "    #perform FFT on the signal\n",
    "    F,A = compute_fft(filteredA[int(i*fps): int((i+30)*fps)], fps, n = None, scale_amplitudes = True)\n",
    "    highestFreq = F[np.argmax(A[1:])+1]\n",
    "    #print(\"Breathing Rate {} to {} = {:.2f}\".format(i,i+10,highestFreq*60));\n",
    "    print(\"{}-{}--{:.1f}\".format(i,i+30,highestFreq*60))\n",
    "    if i+30 == 60:\n",
    "        break\n",
    "\n",
    "print(\"Breathing Rate Computed From Entire Signal\")\n",
    "\n",
    "fig, ax = plt.subplots(3,1,figsize=(12,6))\n",
    "ax[0].plot(rrSignal_t,rrSignal)\n",
    "ax[1].plot(rrSignal_t,filteredA)\n",
    "ax[2].plot(F[1:],A[1:])\n",
    "ax[0].set_xlabel('Time (s)')\n",
    "ax[0].set_ylabel('Sum of Pixels in ROI')\n",
    "ax[1].set_xlabel('Time (s)')\n",
    "ax[1].set_ylabel('Sum of Pixels in ROI');\n"
   ]
  },
  {
   "cell_type": "code",
   "execution_count": 19,
   "id": "d9b7098b",
   "metadata": {},
   "outputs": [
    {
     "name": "stdout",
     "output_type": "stream",
     "text": [
      "Frame Rate = 8.766603415559773\n"
     ]
    }
   ],
   "source": [
    "# old implementation\n",
    "\n",
    "'''\n",
    "\n",
    "cap = cv2.VideoCapture(\"../../../Downloads/09162022_17.qt\")\n",
    "\n",
    "#cap = cv2.VideoCapture(0)\n",
    "fps = cap.get(cv2.CAP_PROP_FPS)\n",
    "print(\"Frame Rate = {}\".format(fps))\n",
    "\n",
    "# create old frame\n",
    "_,frame = cap.read()\n",
    "old_gray = cv2.cvtColor(frame,cv2.COLOR_BGR2GRAY)\n",
    "\n",
    "\n",
    "# lucas kanade params\n",
    "lk_param = dict(winSize=(45,45), maxLevel=4, criteria=(cv2.TERM_CRITERIA_EPS | cv2.TERM_CRITERIA_COUNT, 10,0.03))\n",
    "\n",
    "def select_point(event, x ,y, flags, param):\n",
    "    global point, point_selected, old_points;\n",
    "    if event == cv2.EVENT_LBUTTONDOWN:\n",
    "        point = (x,y)\n",
    "        point_selected=True\n",
    "        old_points = np.array([[x,y,]], dtype=np.float32)\n",
    "        \n",
    "\n",
    "        \n",
    "        \n",
    "cv2.namedWindow(\"Frame\")\n",
    "cv2.setMouseCallback(\"Frame\", select_point)\n",
    "point_selected = False;\n",
    "point = ()   \n",
    "old_points = np.array([[]])\n",
    "\n",
    "\n",
    "while True:\n",
    "    correct, frame = cap.read()\n",
    "    if not correct:\n",
    "        break;\n",
    "    gray_frame = cv2.cvtColor(frame, cv2.COLOR_BGR2GRAY)\n",
    "        \n",
    "    if point_selected is True:\n",
    "        cv2.circle(frame, point, 5, (0, 0, 255), 2) #BGR Format\n",
    "        \n",
    "        new_points, status, error = cv2.calcOpticalFlowPyrLK(old_gray, gray_frame, old_points, None, **lk_param) \n",
    "        old_gray = gray_frame.copy()\n",
    "        old_points = new_points\n",
    "        x,y = new_points.ravel()\n",
    "        cv2.circle(frame, (int(x),int(y)),5,(0,255,0),-1)\n",
    "        \n",
    "        \n",
    "    cv2.imshow(\"Frame\", frame)\n",
    "    key = cv2.waitKey(int((1/fps)*1000))\n",
    "    if key == 27 or key == ord('q'):\n",
    "        break\n",
    "        \n",
    "cap.release()\n",
    "cv2.destroyAllWindows()\n",
    "#cv2.waitKey(1)\n",
    "\n",
    "'''"
   ]
  },
  {
   "cell_type": "code",
   "execution_count": null,
   "id": "a329ebe6",
   "metadata": {},
   "outputs": [],
   "source": []
  },
  {
   "cell_type": "code",
   "execution_count": null,
   "id": "56f9989a",
   "metadata": {},
   "outputs": [],
   "source": []
  },
  {
   "cell_type": "code",
   "execution_count": null,
   "id": "6705ce27",
   "metadata": {},
   "outputs": [],
   "source": []
  }
 ],
 "metadata": {
  "kernelspec": {
   "display_name": "Python 3 (ipykernel)",
   "language": "python",
   "name": "python3"
  },
  "language_info": {
   "codemirror_mode": {
    "name": "ipython",
    "version": 3
   },
   "file_extension": ".py",
   "mimetype": "text/x-python",
   "name": "python",
   "nbconvert_exporter": "python",
   "pygments_lexer": "ipython3",
   "version": "3.9.12"
  }
 },
 "nbformat": 4,
 "nbformat_minor": 5
}
