{
 "cells": [
  {
   "cell_type": "code",
   "execution_count": null,
   "id": "ece418e4",
   "metadata": {},
   "outputs": [],
   "source": [
    "import os\n",
    "import mediapipe as mp\n",
    "mp_face_mesh = mp.solutions.face_mesh\n",
    "import cv2\n",
    "import matplotlib.pyplot as plt\n",
    "#from mpl_toolkits.mplot3d import Axes3D"
   ]
  },
  {
   "cell_type": "code",
   "execution_count": null,
   "id": "b5c19de6",
   "metadata": {},
   "outputs": [],
   "source": [
    "mp_face_mesh = mp.solutions.face_mesh\n",
    "face_mesh = mp_face_mesh.FaceMesh(static_image_mode=False) #meant for video feed\n",
    "\n",
    "video=cv2.VideoCapture(0)\n",
    " \n",
    "while True:\n",
    "    check,frame=video.read()\n",
    "    result = face_mesh.process(frame)\n",
    "    height, width, _ = frame.shape\n",
    "    try:\n",
    "        for facial_landmarks in result.multi_face_landmarks:\n",
    "            for i in range(0, 468):\n",
    "                landmrk = facial_landmarks.landmark[i]\n",
    "                locx = int(landmrk.x * width)\n",
    "                locy = int(landmrk.y * height)\n",
    "                frame = cv2.cvtColor(frame, cv2.COLOR_BGR2RGB)\n",
    "                cv2.circle(frame, (locx, locy), 1, (0, 200, 0), 0)\n",
    "                cv2.imshow(\"Webcam\", frame)\n",
    "    except:\n",
    "        cv2.imshow(\"Webcam\", frame)\n",
    "        key=cv2.waitKey(1)\n",
    "        if key==ord('q'):\n",
    "            break;\n",
    "            \n",
    "video.release()\n",
    "cv2.destroyAllWindows()"
   ]
  }
 ],
 "metadata": {
  "kernelspec": {
   "display_name": "Python 3 (ipykernel)",
   "language": "python",
   "name": "python3"
  },
  "language_info": {
   "codemirror_mode": {
    "name": "ipython",
    "version": 3
   },
   "file_extension": ".py",
   "mimetype": "text/x-python",
   "name": "python",
   "nbconvert_exporter": "python",
   "pygments_lexer": "ipython3",
   "version": "3.9.12"
  }
 },
 "nbformat": 4,
 "nbformat_minor": 5
}
