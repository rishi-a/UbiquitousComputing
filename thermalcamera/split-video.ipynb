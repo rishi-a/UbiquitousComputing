{
 "cells": [
  {
   "cell_type": "code",
   "execution_count": 1,
   "id": "524e090b",
   "metadata": {},
   "outputs": [],
   "source": [
    "import subprocess\n",
    "import os\n",
    "\n",
    "def get_length(filename):\n",
    "    result = subprocess.run([\"ffprobe\", \"-v\", \"error\", \"-show_entries\",\n",
    "                             \"format=duration\", \"-of\",\n",
    "                             \"default=noprint_wrappers=1:nokey=1\", filename],\n",
    "        stdout=subprocess.PIPE,\n",
    "        stderr=subprocess.STDOUT)\n",
    "    return float(result.stdout)\n"
   ]
  },
  {
   "cell_type": "code",
   "execution_count": 4,
   "id": "51fb176f",
   "metadata": {},
   "outputs": [],
   "source": [
    "new_filenames = []"
   ]
  },
  {
   "cell_type": "code",
   "execution_count": 5,
   "id": "e92947eb",
   "metadata": {},
   "outputs": [
    {
     "name": "stdout",
     "output_type": "stream",
     "text": [
      "Video length is 0.51 minutes i.e. 30.78 seconds\n",
      "Clip 1 successfully built with start time 0 and end time 31 and duration 31\n"
     ]
    },
    {
     "name": "stderr",
     "output_type": "stream",
     "text": [
      "ffmpeg version 5.1 Copyright (c) 2000-2022 the FFmpeg developers\n",
      "  built with Apple clang version 13.0.0 (clang-1300.0.29.30)\n",
      "  configuration: --prefix=/opt/homebrew/Cellar/ffmpeg/5.1 --enable-shared --enable-pthreads --enable-version3 --cc=clang --host-cflags= --host-ldflags= --enable-ffplay --enable-gnutls --enable-gpl --enable-libaom --enable-libbluray --enable-libdav1d --enable-libmp3lame --enable-libopus --enable-librav1e --enable-librist --enable-librubberband --enable-libsnappy --enable-libsrt --enable-libtesseract --enable-libtheora --enable-libvidstab --enable-libvmaf --enable-libvorbis --enable-libvpx --enable-libwebp --enable-libx264 --enable-libx265 --enable-libxml2 --enable-libxvid --enable-lzma --enable-libfontconfig --enable-libfreetype --enable-frei0r --enable-libass --enable-libopencore-amrnb --enable-libopencore-amrwb --enable-libopenjpeg --enable-libspeex --enable-libsoxr --enable-libzmq --enable-libzimg --disable-libjack --disable-indev=jack --enable-videotoolbox --enable-neon\n",
      "  libavutil      57. 28.100 / 57. 28.100\n",
      "  libavcodec     59. 37.100 / 59. 37.100\n",
      "  libavformat    59. 27.100 / 59. 27.100\n",
      "  libavdevice    59.  7.100 / 59.  7.100\n",
      "  libavfilter     8. 44.100 /  8. 44.100\n",
      "  libswscale      6.  7.100 /  6.  7.100\n",
      "  libswresample   4.  7.100 /  4.  7.100\n",
      "  libpostproc    56.  6.100 / 56.  6.100\n",
      "Input #0, mov,mp4,m4a,3gp,3g2,mj2, from '../../../Documents/thermal-project-data/cycling/20221020T130239.MP4':\n",
      "  Metadata:\n",
      "    major_brand     : qt  \n",
      "    minor_version   : 0\n",
      "    compatible_brands: qt  \n",
      "    creation_time   : 2022-10-25T15:17:23.000000Z\n",
      "    com.apple.photos.originating.signature: AVl/hZ2sQ2WcWAU+tRi/x+ITEhr+\n",
      "    com.apple.quicktime.author: FLIR One\n",
      "    com.apple.quicktime.description: palette:bw;mediaType:video;emissivity:0.95;\n",
      "    com.apple.quicktime.creationdate: 2022-10-20T13:03:10-04:00\n",
      "  Duration: 00:00:30.78, start: 0.000000, bitrate: 1022 kb/s\n",
      "  Stream #0:0[0x1](und): Audio: aac (LC) (mp4a / 0x6134706D), 44100 Hz, mono, fltp, 63 kb/s (default)\n",
      "    Metadata:\n",
      "      creation_time   : 2022-10-25T15:17:23.000000Z\n",
      "      handler_name    : Core Media Audio\n",
      "      vendor_id       : [0][0][0][0]\n",
      "  Stream #0:1[0x2](und): Video: h264 (High) (avc1 / 0x31637661), yuv420p(progressive), 1080x1440, 951 kb/s, 8.76 fps, 600 tbr, 600 tbn (default)\n",
      "    Metadata:\n",
      "      creation_time   : 2022-10-25T15:17:23.000000Z\n",
      "      handler_name    : Core Media Video\n",
      "      vendor_id       : [0][0][0][0]\n",
      "      encoder         : 'avc1'\n",
      "Stream mapping:\n",
      "  Stream #0:1 -> #0:0 (h264 (native) -> h264 (libx264))\n",
      "  Stream #0:0 -> #0:1 (aac (native) -> aac (native))\n",
      "Press [q] to stop, [?] for help\n",
      "[libx264 @ 0x147f0a360] using cpu capabilities: ARMv8 NEON\n",
      "[libx264 @ 0x147f0a360] profile High, level 4.0, 4:2:0, 8-bit\n",
      "[libx264 @ 0x147f0a360] 264 - core 164 r3095 baee400 - H.264/MPEG-4 AVC codec - Copyleft 2003-2022 - http://www.videolan.org/x264.html - options: cabac=1 ref=3 deblock=1:0:0 analyse=0x3:0x113 me=hex subme=7 psy=1 psy_rd=1.00:0.00 mixed_ref=1 me_range=16 chroma_me=1 trellis=1 8x8dct=1 cqm=0 deadzone=21,11 fast_pskip=1 chroma_qp_offset=-2 threads=12 lookahead_threads=2 sliced_threads=0 nr=0 decimate=1 interlaced=0 bluray_compat=0 constrained_intra=0 bframes=3 b_pyramid=2 b_adapt=1 b_bias=0 direct=1 weightb=1 open_gop=0 weightp=2 keyint=250 keyint_min=8 scenecut=40 intra_refresh=0 rc_lookahead=40 rc=crf mbtree=1 crf=23.0 qcomp=0.60 qpmin=0 qpmax=69 qpstep=4 ip_ratio=1.40 aq=1:1.00\n",
      "Output #0, mp4, to '../../../Documents/thermal-project-data/cycling/split/20221020T130239-clip1.MP4':\n",
      "  Metadata:\n",
      "    major_brand     : qt  \n",
      "    minor_version   : 0\n",
      "    compatible_brands: qt  \n",
      "    com.apple.quicktime.creationdate: 2022-10-20T13:03:10-04:00\n",
      "    com.apple.photos.originating.signature: AVl/hZ2sQ2WcWAU+tRi/x+ITEhr+\n",
      "    com.apple.quicktime.author: FLIR One\n",
      "    com.apple.quicktime.description: palette:bw;mediaType:video;emissivity:0.95;\n",
      "    encoder         : Lavf59.27.100\n",
      "  Stream #0:0(und): Video: h264 (avc1 / 0x31637661), yuv420p(progressive), 1080x1440, q=2-31, 8.76 fps, 10840 tbn (default)\n",
      "    Metadata:\n",
      "      creation_time   : 2022-10-25T15:17:23.000000Z\n",
      "      handler_name    : Core Media Video\n",
      "      vendor_id       : [0][0][0][0]\n",
      "      encoder         : Lavc59.37.100 libx264\n",
      "    Side data:\n",
      "      cpb: bitrate max/min/avg: 0/0/0 buffer size: 0 vbv_delay: N/A\n",
      "  Stream #0:1(und): Audio: aac (LC) (mp4a / 0x6134706D), 44100 Hz, mono, fltp, 69 kb/s (default)\n",
      "    Metadata:\n",
      "      creation_time   : 2022-10-25T15:17:23.000000Z\n",
      "      handler_name    : Core Media Audio\n",
      "      vendor_id       : [0][0][0][0]\n",
      "      encoder         : Lavc59.37.100 aac\n",
      "frame=  271 fps= 73 q=-1.0 Lsize=    7107kB time=00:00:30.67 bitrate=1897.9kbits/s speed=8.23x    \n",
      "video:6836kB audio:259kB subtitle:0kB other streams:0kB global headers:0kB muxing overhead: 0.173981%\n",
      "[libx264 @ 0x147f0a360] frame I:3     Avg QP:17.82  size: 84854\n",
      "[libx264 @ 0x147f0a360] frame P:120   Avg QP:19.04  size: 35246\n",
      "[libx264 @ 0x147f0a360] frame B:148   Avg QP:22.19  size: 16992\n",
      "[libx264 @ 0x147f0a360] consecutive B-frames:  1.1% 76.0%  6.6% 16.2%\n",
      "[libx264 @ 0x147f0a360] mb I  I16..4: 14.6% 59.2% 26.1%\n",
      "[libx264 @ 0x147f0a360] mb P  I16..4:  6.7% 17.8%  3.3%  P16..4: 35.7% 12.0%  5.0%  0.0%  0.0%    skip:19.4%\n",
      "[libx264 @ 0x147f0a360] mb B  I16..4:  2.2%  2.7%  0.6%  B16..8: 30.4%  6.9%  1.2%  direct: 9.6%  skip:46.6%  L0:42.7% L1:48.9% BI: 8.4%\n",
      "[libx264 @ 0x147f0a360] 8x8 transform intra:60.9% inter:66.8%\n",
      "[libx264 @ 0x147f0a360] coded y,uvDC,uvAC intra: 44.4% 0.3% 0.0% inter: 20.5% 1.2% 0.0%\n",
      "[libx264 @ 0x147f0a360] i16 v,h,dc,p: 27% 31% 15% 26%\n",
      "[libx264 @ 0x147f0a360] i8 v,h,dc,ddl,ddr,vr,hd,vl,hu: 31% 20% 34%  2%  3%  3%  3%  2%  3%\n",
      "[libx264 @ 0x147f0a360] i4 v,h,dc,ddl,ddr,vr,hd,vl,hu: 23% 45% 18%  2%  3%  3%  3%  2%  2%\n",
      "[libx264 @ 0x147f0a360] i8c dc,h,v,p: 98%  1%  1%  0%\n",
      "[libx264 @ 0x147f0a360] Weighted P-Frames: Y:0.8% UV:0.8%\n",
      "[libx264 @ 0x147f0a360] ref P L0: 76.2%  7.9% 10.4%  5.4%  0.0%\n",
      "[libx264 @ 0x147f0a360] ref B L0: 85.1% 13.3%  1.6%\n",
      "[libx264 @ 0x147f0a360] ref B L1: 98.0%  2.0%\n",
      "[libx264 @ 0x147f0a360] kb/s:1810.54\n",
      "[aac @ 0x147f0b430] Qavg: 211.001\n"
     ]
    }
   ],
   "source": [
    "# Give the filename\n",
    "filename = \"20221020T130239.MP4\"\n",
    "# Give the path in your system where this file is located\n",
    "sourceFile = \"../../../Documents/thermal-project-data/cycling/\"+filename\n",
    "videoLength = get_length(sourceFile)\n",
    "\n",
    "#convert video length to minutes\n",
    "videoLength = videoLength/60\n",
    "print(\"Video length is {:.2f} minutes i.e. {:.2f} seconds\".format(videoLength, videoLength*60))\n",
    "# how long should be each video file in minutes?\n",
    "splitLength = 1 #in minute\n",
    "\n",
    "# we have atleast one clip, so we start with 1.\n",
    "clipNo = 1;\n",
    "for i in range(0, round(videoLength*60), 60):\n",
    "    startStamp = i\n",
    "    endStamp = i+60\n",
    "    duration = 60\n",
    "    if endStamp >= round(videoLength*60):\n",
    "        endStamp = round(videoLength*60)\n",
    "        duration = endStamp-startStamp\n",
    "        \n",
    "    # IN FFMPEG we give the start time and the duration.\n",
    "    print(\"Clip {} successfully built with start time {} and end time {} and duration {}\".format(clipNo,str(startStamp), str(endStamp), str(duration)))\n",
    "    os.system(\"ffmpeg -i \"+ sourceFile +\" -ss \" + str(startStamp) + \" -t \" + str(duration) + \" ../../../Documents/thermal-project-data/cycling/split/\"+ filename.split('.')[0] +\"-clip\"+str(clipNo)+\".MP4\")\n",
    "    new_filenames.append(filename.split('.')[0] +\"-clip\"+str(clipNo)+\".MP4\")\n",
    "    clipNo+=1"
   ]
  },
  {
   "cell_type": "code",
   "execution_count": 6,
   "id": "e480600f",
   "metadata": {},
   "outputs": [
    {
     "data": {
      "text/plain": [
       "['20221020T130239-clip2.MP4']"
      ]
     },
     "execution_count": 6,
     "metadata": {},
     "output_type": "execute_result"
    }
   ],
   "source": [
    "new_filenames"
   ]
  },
  {
   "cell_type": "code",
   "execution_count": null,
   "id": "651d4d59",
   "metadata": {},
   "outputs": [],
   "source": []
  }
 ],
 "metadata": {
  "kernelspec": {
   "display_name": "Python 3 (ipykernel)",
   "language": "python",
   "name": "python3"
  },
  "language_info": {
   "codemirror_mode": {
    "name": "ipython",
    "version": 3
   },
   "file_extension": ".py",
   "mimetype": "text/x-python",
   "name": "python",
   "nbconvert_exporter": "python",
   "pygments_lexer": "ipython3",
   "version": "3.9.13"
  }
 },
 "nbformat": 4,
 "nbformat_minor": 5
}
