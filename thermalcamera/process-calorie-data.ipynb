{
 "cells": [
  {
   "cell_type": "code",
   "execution_count": 1,
   "id": "f2335858",
   "metadata": {},
   "outputs": [],
   "source": [
    "import os\n",
    "import pandas as pd\n",
    "import numpy as np\n",
    "import matplotlib.pyplot as plt\n",
    "from datetime import datetime\n",
    "from datetime import timedelta\n",
    "import plotly\n",
    "import matplotlib\n",
    "font = {'family' : 'normal',\n",
    "        'weight' : 'normal',\n",
    "        'size'   : 15}\n",
    "\n",
    "matplotlib.rc('font', **font)"
   ]
  },
  {
   "cell_type": "code",
   "execution_count": 2,
   "id": "f4681230",
   "metadata": {},
   "outputs": [],
   "source": [
    "#%matplotlib widget\n",
    "#%matplotlib qt"
   ]
  },
  {
   "cell_type": "code",
   "execution_count": 3,
   "id": "7e74e08d",
   "metadata": {},
   "outputs": [],
   "source": [
    "#pd.set_option('plotting.backend', 'pandas_bokeh')\n",
    "\n",
    "#pd.options.plotting.backend = \"plotly\"\n",
    "#pd.options.plotting.backend = \"matplotlib\""
   ]
  },
  {
   "cell_type": "code",
   "execution_count": 3,
   "id": "af0235b5",
   "metadata": {},
   "outputs": [],
   "source": [
    "def changeDate(inputDate, sToBackWard, sToForward):\n",
    "    '''\n",
    "    Given a input date, this function returns the future and past date that is x seconds away. \n",
    "    Read the args below to understand more.\n",
    "    Input:\n",
    "            inputDate (str): A FLIR thermal image filename, eg: 20220920T110742.MP4\n",
    "            sToBackWard (int): A number in seconds\n",
    "            sToForward (int): A number in seconds\n",
    "    Returns:\n",
    "            3 strings: Each of which is a date in format %Y-%m-%d %H:%M:%S\n",
    "            The first string at [0] is the date extracted from the filename\n",
    "            The second string at [1] is the date extracted-sToBackWard seconds \n",
    "            The third string at [2] is the date extracted+sToForward seconds\n",
    "    '''\n",
    "    #20220920T110742.MP4\n",
    "    inputDate = datetime(int(inputDate[:4]), int(inputDate[4:6]), int(inputDate[6:8]), \n",
    "                         int(inputDate[9:11]), int(inputDate[11:13]), int(inputDate[13:15]))\n",
    "    currentTime = inputDate\n",
    "    ForwardedTime = 0\n",
    "    ForwardedTime = currentTime+timedelta(seconds=sToForward)\n",
    "    BackwardedTime = currentTime-timedelta(seconds=sToBackWard)\n",
    "    return currentTime.strftime(\"%Y-%m-%d %H:%M:%S\"), BackwardedTime.strftime(\"%Y-%m-%d %H:%M:%S\"),ForwardedTime.strftime(\"%Y-%m-%d %H:%M:%S\")"
   ]
  },
  {
   "cell_type": "code",
   "execution_count": 4,
   "id": "db1b1d95",
   "metadata": {},
   "outputs": [],
   "source": [
    "def timeLengthBtwTwoFiles(file1, file2):\n",
    "    '''\n",
    "    Given two dates, this functions returns the difference in seconds between them\n",
    "    Input:\n",
    "        FLIR File name 1, FLIR file name 2\n",
    "    Output:\n",
    "        datetime.timedelta(seconds)\n",
    "    '''\n",
    "    inputDate1 = datetime(int(file1[:4]), int(file1[4:6]), int(file1[6:8]), \n",
    "                         int(file1[9:11]), int(file1[11:13]), int(file1[13:15]))\n",
    "    \n",
    "    inputDate2 = datetime(int(file2[:4]), int(file2[4:6]), int(file2[6:8]), \n",
    "                         int(file2[9:11]), int(file2[11:13]), int(file2[13:15]))\n",
    "    \n",
    "    return inputDate2-inputDate1"
   ]
  },
  {
   "cell_type": "code",
   "execution_count": 5,
   "id": "df66abec",
   "metadata": {},
   "outputs": [],
   "source": [
    "def readFlirVideo(path):\n",
    "    '''\n",
    "    Given a _path_, this function will return a _list_ of files with .MP4 format\n",
    "    '''\n",
    "    fileList = []\n",
    "    for root, dirs, files in os.walk(path):\n",
    "        for file in files:\n",
    "            if file.endswith(\".MP4\"):\n",
    "                # in case whole path is needed which I don't think so\n",
    "                #print(os.path.join(root, file))\n",
    "                fileList.append(file)\n",
    "    return fileList"
   ]
  },
  {
   "cell_type": "code",
   "execution_count": 6,
   "id": "b5b6392f",
   "metadata": {},
   "outputs": [],
   "source": [
    "def calorieInInterval(thermalFilePath, csvFilePath, secondsToBackWard, secondsToForward):\n",
    "    '''\n",
    "    This function is under construction.\n",
    "    '''\n",
    "    \n",
    "    mp4FileList = readFlirVideo(thermalFilePath)\n",
    "    for file in mp4FileList:\n",
    "        \n",
    "        # TODO: We just need the filename not the path in the first variable below, need to correct it\n",
    "        cT, preT, postT = changeDate(csvFilePat, secondsToBackWard, secondsToForward)\n",
    "        \n",
    "        df = pd.read_csv(csvFilePath, skiprows=[0])\n",
    "        df.startDate = pd.to_datetime(df.startDate)\n",
    "        df.endDate = pd.to_datetime(df.endDate)\n",
    "        df.startDate = df.startDate.dt.tz_convert(\"US/Eastern\")\n",
    "        df.endDate = df.endDate.dt.tz_convert(\"US/Eastern\")      "
   ]
  },
  {
   "cell_type": "code",
   "execution_count": 45,
   "id": "ab13d2c0",
   "metadata": {},
   "outputs": [],
   "source": [
    "df = pd.read_csv(\"/Users/rishiraj/Documents/thermal-project-data\"\\\n",
    "                 \"/Calorie-Apple-Watch-19Oct-21Oct.csv\",\n",
    "                skiprows=[0])"
   ]
  },
  {
   "cell_type": "code",
   "execution_count": 46,
   "id": "b359f5ce",
   "metadata": {},
   "outputs": [],
   "source": [
    "df.startDate = pd.to_datetime(df.startDate)\n",
    "df.endDate = pd.to_datetime(df.endDate)\n",
    "df.startDate = df.startDate.dt.tz_convert(\"US/Eastern\")\n",
    "df.endDate = df.endDate.dt.tz_convert(\"US/Eastern\")"
   ]
  },
  {
   "cell_type": "code",
   "execution_count": 47,
   "id": "078d91f5",
   "metadata": {},
   "outputs": [
    {
     "name": "stdout",
     "output_type": "stream",
     "text": [
      "74.17299999999999\n"
     ]
    },
    {
     "data": {
      "image/png": "[encoded data removed]",
      "text/plain": [
       "<Figure size 1008x288 with 1 Axes>"
      ]
     },
     "metadata": {
      "needs_background": "light"
     },
     "output_type": "display_data"
    }
   ],
   "source": [
    "# 1\n",
    "# filter the date here\n",
    "df.index = df.startDate\n",
    "\n",
    "\n",
    "\n",
    "dfInterest = df[ (df.startDate >= '2022-10-20 12:54:55') & (df.startDate <= '2022-10-20 13:02:39')]\n",
    "# 2022-09-28 16:11:29 to 16:23:55\n",
    "print(dfInterest.value.sum())\n",
    "\n",
    "#print(dfInterest[['startDate','endDate','value']].to_string())\n",
    "#for el in dfInterest.value:\n",
    "#    print(el,end = '\\n')\n",
    "dfInterest['value'].plot(kind='line', figsize=(14,4), xlabel=\"Time\", ylabel='Calorie');"
   ]
  },
  {
   "cell_type": "markdown",
   "id": "8ea9c6b4",
   "metadata": {},
   "source": [
    "Some 'active calorie burn' equation are given below:</br>\n",
    "Men:Calories = ((age_yr*0.2017)+(weight_lb*0.09036)+(heartrate*0.6309) - 55.0969)X(time_min/4.184)"
   ]
  },
  {
   "cell_type": "code",
   "execution_count": 78,
   "id": "55a22559",
   "metadata": {},
   "outputs": [
    {
     "name": "stdout",
     "output_type": "stream",
     "text": [
      "109.33376221206507\n"
     ]
    }
   ],
   "source": [
    "#time_min = 9.8 min\n",
    "weight = 68*2.205 #lbs\n",
    "age = 21 \n",
    "time = 9.8 #in mins\n",
    "avgHeartRate = (((4.184*74.17)/time)+55.0969-0.2017*age-0.09036*weight)/0.6309\n",
    "print(avgHeartRate)"
   ]
  },
  {
   "cell_type": "code",
   "execution_count": 84,
   "id": "7e514d48",
   "metadata": {},
   "outputs": [
    {
     "data": {
      "text/plain": [
       "[<matplotlib.lines.Line2D at 0x7fbd10779550>]"
      ]
     },
     "execution_count": 84,
     "metadata": {},
     "output_type": "execute_result"
    },
    {
     "data": {
      "image/png": "[encoded data removed]",
      "text/plain": [
       "<Figure size 432x288 with 1 Axes>"
      ]
     },
     "metadata": {
      "needs_background": "light"
     },
     "output_type": "display_data"
    }
   ],
   "source": [
    "def getcal(age, weight, avgHr, time):\n",
    "    return ((age*0.2017)+(weight*0.09036)+(avgHr*0.6309)-55.0969)*(time/4.184)\n",
    "\n",
    "\n",
    "weight = 68*2.205\n",
    "age = 21\n",
    "time = 9.8\n",
    "avgHr= 109.33376221206507\n",
    "\n",
    "cal_list = [getcal(age, i*2.205,avgHr, time) for i in range(50,120,2)]\n",
    "plt.plot(cal_list)"
   ]
  },
  {
   "cell_type": "code",
   "execution_count": 38,
   "id": "16d58f1b",
   "metadata": {},
   "outputs": [
    {
     "data": {
      "text/plain": [
       "<AxesSubplot:xlabel='startDate'>"
      ]
     },
     "execution_count": 38,
     "metadata": {},
     "output_type": "execute_result"
    },
    {
     "data": {
      "image/png": "[encoded data removed]",
      "text/plain": [
       "<Figure size 432x288 with 1 Axes>"
      ]
     },
     "metadata": {
      "needs_background": "light"
     },
     "output_type": "display_data"
    }
   ],
   "source": [
    "dfInterest['value'].plot()"
   ]
  },
  {
   "cell_type": "code",
   "execution_count": null,
   "id": "c5d4aec1",
   "metadata": {},
   "outputs": [],
   "source": []
  },
  {
   "cell_type": "code",
   "execution_count": null,
   "id": "0d3b5bef",
   "metadata": {},
   "outputs": [],
   "source": [
    "# 484 seconds corresponds to 182 datapoints\n",
    "# 1 second corresponds to 182/484 = 0.37"
   ]
  },
  {
   "cell_type": "code",
   "execution_count": 10,
   "id": "db18d29c",
   "metadata": {},
   "outputs": [
    {
     "data": {
      "text/html": [
       "<div>\n",
       "<style scoped>\n",
       "    .dataframe tbody tr th:only-of-type {\n",
       "        vertical-align: middle;\n",
       "    }\n",
       "\n",
       "    .dataframe tbody tr th {\n",
       "        vertical-align: top;\n",
       "    }\n",
       "\n",
       "    .dataframe thead th {\n",
       "        text-align: right;\n",
       "    }\n",
       "</style>\n",
       "<table border=\"1\" class=\"dataframe\">\n",
       "  <thead>\n",
       "    <tr style=\"text-align: right;\">\n",
       "      <th></th>\n",
       "      <th>type</th>\n",
       "      <th>sourceName</th>\n",
       "      <th>sourceVersion</th>\n",
       "      <th>productType</th>\n",
       "      <th>device</th>\n",
       "      <th>startDate</th>\n",
       "      <th>endDate</th>\n",
       "      <th>unit</th>\n",
       "      <th>value</th>\n",
       "    </tr>\n",
       "    <tr>\n",
       "      <th>startDate</th>\n",
       "      <th></th>\n",
       "      <th></th>\n",
       "      <th></th>\n",
       "      <th></th>\n",
       "      <th></th>\n",
       "      <th></th>\n",
       "      <th></th>\n",
       "      <th></th>\n",
       "      <th></th>\n",
       "    </tr>\n",
       "  </thead>\n",
       "  <tbody>\n",
       "    <tr>\n",
       "      <th>2022-10-20 12:54:57-04:00</th>\n",
       "      <td>HKQuantityTypeIdentifierActiveEnergyBurned</td>\n",
       "      <td>Smash’s Apple Watch</td>\n",
       "      <td>7.3.3</td>\n",
       "      <td>Watch4,1</td>\n",
       "      <td>&lt;&lt;HKDevice: 0x2804b1270&gt;, name:Apple Watch, ma...</td>\n",
       "      <td>2022-10-20 12:54:57-04:00</td>\n",
       "      <td>2022-10-20 12:54:59-04:00</td>\n",
       "      <td>Cal</td>\n",
       "      <td>0.219</td>\n",
       "    </tr>\n",
       "    <tr>\n",
       "      <th>2022-10-20 12:54:59-04:00</th>\n",
       "      <td>HKQuantityTypeIdentifierActiveEnergyBurned</td>\n",
       "      <td>Smash’s Apple Watch</td>\n",
       "      <td>7.3.3</td>\n",
       "      <td>Watch4,1</td>\n",
       "      <td>&lt;&lt;HKDevice: 0x2804b1270&gt;, name:Apple Watch, ma...</td>\n",
       "      <td>2022-10-20 12:54:59-04:00</td>\n",
       "      <td>2022-10-20 12:55:02-04:00</td>\n",
       "      <td>Cal</td>\n",
       "      <td>0.218</td>\n",
       "    </tr>\n",
       "    <tr>\n",
       "      <th>2022-10-20 12:55:02-04:00</th>\n",
       "      <td>HKQuantityTypeIdentifierActiveEnergyBurned</td>\n",
       "      <td>Smash’s Apple Watch</td>\n",
       "      <td>7.3.3</td>\n",
       "      <td>Watch4,1</td>\n",
       "      <td>&lt;&lt;HKDevice: 0x2804b1270&gt;, name:Apple Watch, ma...</td>\n",
       "      <td>2022-10-20 12:55:02-04:00</td>\n",
       "      <td>2022-10-20 12:55:04-04:00</td>\n",
       "      <td>Cal</td>\n",
       "      <td>0.219</td>\n",
       "    </tr>\n",
       "    <tr>\n",
       "      <th>2022-10-20 12:55:04-04:00</th>\n",
       "      <td>HKQuantityTypeIdentifierActiveEnergyBurned</td>\n",
       "      <td>Smash’s Apple Watch</td>\n",
       "      <td>7.3.3</td>\n",
       "      <td>Watch4,1</td>\n",
       "      <td>&lt;&lt;HKDevice: 0x2804b1270&gt;, name:Apple Watch, ma...</td>\n",
       "      <td>2022-10-20 12:55:04-04:00</td>\n",
       "      <td>2022-10-20 12:55:07-04:00</td>\n",
       "      <td>Cal</td>\n",
       "      <td>0.219</td>\n",
       "    </tr>\n",
       "    <tr>\n",
       "      <th>2022-10-20 12:55:07-04:00</th>\n",
       "      <td>HKQuantityTypeIdentifierActiveEnergyBurned</td>\n",
       "      <td>Smash’s Apple Watch</td>\n",
       "      <td>7.3.3</td>\n",
       "      <td>Watch4,1</td>\n",
       "      <td>&lt;&lt;HKDevice: 0x2804b1270&gt;, name:Apple Watch, ma...</td>\n",
       "      <td>2022-10-20 12:55:07-04:00</td>\n",
       "      <td>2022-10-20 12:55:10-04:00</td>\n",
       "      <td>Cal</td>\n",
       "      <td>0.227</td>\n",
       "    </tr>\n",
       "  </tbody>\n",
       "</table>\n",
       "</div>"
      ],
      "text/plain": [
       "                                                                 type  \\\n",
       "startDate                                                               \n",
       "2022-10-20 12:54:57-04:00  HKQuantityTypeIdentifierActiveEnergyBurned   \n",
       "2022-10-20 12:54:59-04:00  HKQuantityTypeIdentifierActiveEnergyBurned   \n",
       "2022-10-20 12:55:02-04:00  HKQuantityTypeIdentifierActiveEnergyBurned   \n",
       "2022-10-20 12:55:04-04:00  HKQuantityTypeIdentifierActiveEnergyBurned   \n",
       "2022-10-20 12:55:07-04:00  HKQuantityTypeIdentifierActiveEnergyBurned   \n",
       "\n",
       "                                    sourceName sourceVersion productType  \\\n",
       "startDate                                                                  \n",
       "2022-10-20 12:54:57-04:00  Smash’s Apple Watch         7.3.3    Watch4,1   \n",
       "2022-10-20 12:54:59-04:00  Smash’s Apple Watch         7.3.3    Watch4,1   \n",
       "2022-10-20 12:55:02-04:00  Smash’s Apple Watch         7.3.3    Watch4,1   \n",
       "2022-10-20 12:55:04-04:00  Smash’s Apple Watch         7.3.3    Watch4,1   \n",
       "2022-10-20 12:55:07-04:00  Smash’s Apple Watch         7.3.3    Watch4,1   \n",
       "\n",
       "                                                                      device  \\\n",
       "startDate                                                                      \n",
       "2022-10-20 12:54:57-04:00  <<HKDevice: 0x2804b1270>, name:Apple Watch, ma...   \n",
       "2022-10-20 12:54:59-04:00  <<HKDevice: 0x2804b1270>, name:Apple Watch, ma...   \n",
       "2022-10-20 12:55:02-04:00  <<HKDevice: 0x2804b1270>, name:Apple Watch, ma...   \n",
       "2022-10-20 12:55:04-04:00  <<HKDevice: 0x2804b1270>, name:Apple Watch, ma...   \n",
       "2022-10-20 12:55:07-04:00  <<HKDevice: 0x2804b1270>, name:Apple Watch, ma...   \n",
       "\n",
       "                                          startDate                   endDate  \\\n",
       "startDate                                                                       \n",
       "2022-10-20 12:54:57-04:00 2022-10-20 12:54:57-04:00 2022-10-20 12:54:59-04:00   \n",
       "2022-10-20 12:54:59-04:00 2022-10-20 12:54:59-04:00 2022-10-20 12:55:02-04:00   \n",
       "2022-10-20 12:55:02-04:00 2022-10-20 12:55:02-04:00 2022-10-20 12:55:04-04:00   \n",
       "2022-10-20 12:55:04-04:00 2022-10-20 12:55:04-04:00 2022-10-20 12:55:07-04:00   \n",
       "2022-10-20 12:55:07-04:00 2022-10-20 12:55:07-04:00 2022-10-20 12:55:10-04:00   \n",
       "\n",
       "                          unit  value  \n",
       "startDate                              \n",
       "2022-10-20 12:54:57-04:00  Cal  0.219  \n",
       "2022-10-20 12:54:59-04:00  Cal  0.218  \n",
       "2022-10-20 12:55:02-04:00  Cal  0.219  \n",
       "2022-10-20 12:55:04-04:00  Cal  0.219  \n",
       "2022-10-20 12:55:07-04:00  Cal  0.227  "
      ]
     },
     "execution_count": 10,
     "metadata": {},
     "output_type": "execute_result"
    }
   ],
   "source": [
    "dfInterest.head()"
   ]
  },
  {
   "cell_type": "code",
   "execution_count": 24,
   "id": "22565aef",
   "metadata": {},
   "outputs": [
    {
     "data": {
      "application/vnd.plotly.v1+json": {
       "config": {
        "plotlyServerURL": "https://plot.ly"
       },
       "data": [
        {
         "hovertemplate": "variable=value<br>startDate=%{x}<br>_value=%{y}<extra></extra>",
         "legendgroup": "value",
         "line": {
          "color": "#636efa",
          "dash": "solid"
         },
         "marker": {
          "symbol": "circle"
         },
         "mode": "lines",
         "name": "value",
         "orientation": "v",
         "showlegend": true,
         "type": "scatter",
         "x": [
          "2022-10-20T12:54:57-04:00",
          "2022-10-20T12:54:59-04:00",
          "2022-10-20T12:55:02-04:00",
          "2022-10-20T12:55:04-04:00",
          "2022-10-20T12:55:07-04:00",
          "2022-10-20T12:55:10-04:00",
          "2022-10-20T12:55:12-04:00",
          "2022-10-20T12:55:15-04:00",
          "2022-10-20T12:55:17-04:00",
          "2022-10-20T12:55:20-04:00",
          "2022-10-20T12:55:22-04:00",
          "2022-10-20T12:55:25-04:00",
          "2022-10-20T12:55:27-04:00",
          "2022-10-20T12:55:30-04:00",
          "2022-10-20T12:55:33-04:00",
          "2022-10-20T12:55:35-04:00",
          "2022-10-20T12:55:38-04:00",
          "2022-10-20T12:55:40-04:00",
          "2022-10-20T12:55:43-04:00",
          "2022-10-20T12:55:45-04:00",
          "2022-10-20T12:55:48-04:00",
          "2022-10-20T12:55:50-04:00",
          "2022-10-20T12:55:53-04:00",
          "2022-10-20T12:55:56-04:00",
          "2022-10-20T12:55:58-04:00",
          "2022-10-20T12:56:01-04:00",
          "2022-10-20T12:56:03-04:00",
          "2022-10-20T12:56:06-04:00",
          "2022-10-20T12:56:08-04:00",
          "2022-10-20T12:56:11-04:00",
          "2022-10-20T12:56:13-04:00",
          "2022-10-20T12:56:16-04:00",
          "2022-10-20T12:56:19-04:00",
          "2022-10-20T12:56:21-04:00",
          "2022-10-20T12:56:24-04:00",
          "2022-10-20T12:56:26-04:00",
          "2022-10-20T12:56:29-04:00",
          "2022-10-20T12:56:31-04:00",
          "2022-10-20T12:56:34-04:00",
          "2022-10-20T12:56:36-04:00",
          "2022-10-20T12:56:39-04:00",
          "2022-10-20T12:56:42-04:00",
          "2022-10-20T12:56:44-04:00",
          "2022-10-20T12:56:47-04:00",
          "2022-10-20T12:56:49-04:00",
          "2022-10-20T12:56:52-04:00",
          "2022-10-20T12:56:54-04:00",
          "2022-10-20T12:56:57-04:00",
          "2022-10-20T12:56:59-04:00",
          "2022-10-20T12:57:02-04:00",
          "2022-10-20T12:57:04-04:00",
          "2022-10-20T12:57:07-04:00",
          "2022-10-20T12:57:10-04:00",
          "2022-10-20T12:57:12-04:00",
          "2022-10-20T12:57:15-04:00",
          "2022-10-20T12:57:17-04:00",
          "2022-10-20T12:57:20-04:00",
          "2022-10-20T12:57:22-04:00",
          "2022-10-20T12:57:25-04:00",
          "2022-10-20T12:57:27-04:00",
          "2022-10-20T12:57:30-04:00",
          "2022-10-20T12:57:33-04:00",
          "2022-10-20T12:57:35-04:00",
          "2022-10-20T12:57:38-04:00",
          "2022-10-20T12:57:40-04:00",
          "2022-10-20T12:57:43-04:00",
          "2022-10-20T12:57:45-04:00",
          "2022-10-20T12:57:48-04:00",
          "2022-10-20T12:57:50-04:00",
          "2022-10-20T12:57:53-04:00",
          "2022-10-20T12:57:56-04:00",
          "2022-10-20T12:57:58-04:00",
          "2022-10-20T12:58:01-04:00",
          "2022-10-20T12:58:03-04:00",
          "2022-10-20T12:58:06-04:00",
          "2022-10-20T12:58:08-04:00",
          "2022-10-20T12:58:11-04:00",
          "2022-10-20T12:58:13-04:00",
          "2022-10-20T12:58:16-04:00",
          "2022-10-20T12:58:19-04:00",
          "2022-10-20T12:58:21-04:00",
          "2022-10-20T12:58:24-04:00",
          "2022-10-20T12:58:26-04:00",
          "2022-10-20T12:58:29-04:00",
          "2022-10-20T12:58:31-04:00",
          "2022-10-20T12:58:34-04:00",
          "2022-10-20T12:58:36-04:00",
          "2022-10-20T12:58:39-04:00",
          "2022-10-20T12:58:42-04:00",
          "2022-10-20T12:58:44-04:00",
          "2022-10-20T12:58:47-04:00",
          "2022-10-20T12:58:49-04:00",
          "2022-10-20T12:58:52-04:00",
          "2022-10-20T12:58:54-04:00",
          "2022-10-20T12:58:57-04:00",
          "2022-10-20T12:58:59-04:00",
          "2022-10-20T12:59:02-04:00",
          "2022-10-20T12:59:05-04:00",
          "2022-10-20T12:59:07-04:00",
          "2022-10-20T12:59:10-04:00",
          "2022-10-20T12:59:12-04:00",
          "2022-10-20T12:59:15-04:00",
          "2022-10-20T12:59:17-04:00",
          "2022-10-20T12:59:20-04:00",
          "2022-10-20T12:59:22-04:00",
          "2022-10-20T12:59:25-04:00",
          "2022-10-20T12:59:28-04:00",
          "2022-10-20T12:59:30-04:00",
          "2022-10-20T12:59:33-04:00",
          "2022-10-20T12:59:35-04:00",
          "2022-10-20T12:59:38-04:00",
          "2022-10-20T12:59:40-04:00",
          "2022-10-20T12:59:43-04:00",
          "2022-10-20T12:59:45-04:00",
          "2022-10-20T12:59:48-04:00",
          "2022-10-20T12:59:51-04:00",
          "2022-10-20T12:59:53-04:00",
          "2022-10-20T12:59:56-04:00",
          "2022-10-20T12:59:58-04:00",
          "2022-10-20T13:00:01-04:00",
          "2022-10-20T13:00:03-04:00",
          "2022-10-20T13:00:06-04:00",
          "2022-10-20T13:00:08-04:00",
          "2022-10-20T13:00:11-04:00",
          "2022-10-20T13:00:14-04:00",
          "2022-10-20T13:00:16-04:00",
          "2022-10-20T13:00:19-04:00",
          "2022-10-20T13:00:21-04:00",
          "2022-10-20T13:00:24-04:00",
          "2022-10-20T13:00:26-04:00",
          "2022-10-20T13:00:29-04:00",
          "2022-10-20T13:00:31-04:00",
          "2022-10-20T13:00:34-04:00",
          "2022-10-20T13:00:37-04:00",
          "2022-10-20T13:00:39-04:00",
          "2022-10-20T13:00:42-04:00",
          "2022-10-20T13:00:44-04:00",
          "2022-10-20T13:00:47-04:00",
          "2022-10-20T13:00:49-04:00",
          "2022-10-20T13:00:52-04:00",
          "2022-10-20T13:00:54-04:00",
          "2022-10-20T13:00:57-04:00",
          "2022-10-20T13:01:00-04:00",
          "2022-10-20T13:01:02-04:00",
          "2022-10-20T13:01:05-04:00",
          "2022-10-20T13:01:07-04:00",
          "2022-10-20T13:01:10-04:00",
          "2022-10-20T13:01:12-04:00",
          "2022-10-20T13:01:15-04:00",
          "2022-10-20T13:01:17-04:00",
          "2022-10-20T13:01:20-04:00",
          "2022-10-20T13:01:23-04:00",
          "2022-10-20T13:01:25-04:00",
          "2022-10-20T13:01:28-04:00",
          "2022-10-20T13:01:30-04:00",
          "2022-10-20T13:01:33-04:00",
          "2022-10-20T13:01:35-04:00",
          "2022-10-20T13:01:38-04:00",
          "2022-10-20T13:01:40-04:00",
          "2022-10-20T13:01:43-04:00",
          "2022-10-20T13:01:46-04:00",
          "2022-10-20T13:01:48-04:00",
          "2022-10-20T13:01:51-04:00",
          "2022-10-20T13:01:53-04:00",
          "2022-10-20T13:01:56-04:00",
          "2022-10-20T13:01:58-04:00",
          "2022-10-20T13:02:01-04:00",
          "2022-10-20T13:02:03-04:00",
          "2022-10-20T13:02:06-04:00",
          "2022-10-20T13:02:08-04:00",
          "2022-10-20T13:02:11-04:00",
          "2022-10-20T13:02:14-04:00",
          "2022-10-20T13:02:16-04:00",
          "2022-10-20T13:02:19-04:00",
          "2022-10-20T13:02:21-04:00",
          "2022-10-20T13:02:24-04:00",
          "2022-10-20T13:02:26-04:00",
          "2022-10-20T13:02:29-04:00",
          "2022-10-20T13:02:31-04:00",
          "2022-10-20T13:02:34-04:00",
          "2022-10-20T13:02:37-04:00",
          "2022-10-20T13:02:39-04:00"
         ],
         "xaxis": "x",
         "y": [
          0.219,
          0.218,
          0.219,
          0.219,
          0.227,
          0.227,
          0.238,
          0.238,
          0.246,
          0.246,
          0.285,
          0.285,
          0.266,
          0.265,
          0.261,
          0.261,
          0.265,
          0.265,
          0.288,
          0.288,
          0.296,
          0.296,
          0.3,
          0.3,
          0.296,
          0.296,
          0.311,
          0.311,
          0.311,
          0.323,
          0.323,
          0.335,
          0.335,
          0.335,
          0.335,
          0.327,
          0.327,
          0.338,
          0.338,
          0.338,
          0.339,
          0.354,
          0.354,
          0.365,
          0.365,
          0.365,
          0.365,
          0.365,
          0.365,
          0.365,
          0.365,
          0.369,
          0.369,
          0.377,
          0.377,
          0.377,
          0.377,
          0.385,
          0.385,
          0.385,
          0.385,
          0.385,
          0.385,
          0.385,
          0.385,
          0.389,
          0.389,
          0.389,
          0.389,
          0.392,
          0.392,
          0.408,
          0.408,
          0.416,
          0.416,
          0.416,
          0.415,
          0.416,
          0.419,
          0.419,
          0.423,
          0.423,
          0.427,
          0.427,
          0.431,
          0.431,
          0.435,
          0.435,
          0.427,
          0.427,
          0.431,
          0.431,
          0.435,
          0.435,
          0.439,
          0.439,
          0.439,
          0.439,
          0.439,
          0.439,
          0.443,
          0.442,
          0.446,
          0.446,
          0.446,
          0.446,
          0.45,
          0.45,
          0.443,
          0.442,
          0.439,
          0.439,
          0.447,
          0.445,
          0.45,
          0.45,
          0.45,
          0.45,
          0.45,
          0.45,
          0.443,
          0.443,
          0.443,
          0.446,
          0.446,
          0.45,
          0.45,
          0.45,
          0.45,
          0.459,
          0.458,
          0.462,
          0.461,
          0.466,
          0.466,
          0.462,
          0.462,
          0.462,
          0.462,
          0.462,
          0.462,
          0.47,
          0.469,
          0.482,
          0.481,
          0.485,
          0.485,
          0.488,
          0.489,
          0.49,
          0.489,
          0.481,
          0.481,
          0.484,
          0.485,
          0.489,
          0.489,
          0.493,
          0.493,
          0.489,
          0.489,
          0.487,
          0.489,
          0.5,
          0.5,
          0.504,
          0.504,
          0.504,
          0.504,
          0.504,
          0.504,
          0.504,
          0.508,
          0.508,
          0.508,
          0.508,
          0.509,
          0.507,
          0.504,
          0.504,
          0.504,
          0.504
         ],
         "yaxis": "y"
        }
       ],
       "layout": {
        "legend": {
         "title": {
          "text": "variable"
         },
         "tracegroupgap": 0
        },
        "margin": {
         "t": 60
        },
        "template": {
         "data": {
          "bar": [
           {
            "error_x": {
             "color": "#2a3f5f"
            },
            "error_y": {
             "color": "#2a3f5f"
            },
            "marker": {
             "line": {
              "color": "#E5ECF6",
              "width": 0.5
             },
             "pattern": {
              "fillmode": "overlay",
              "size": 10,
              "solidity": 0.2
             }
            },
            "type": "bar"
           }
          ],
          "barpolar": [
           {
            "marker": {
             "line": {
              "color": "#E5ECF6",
              "width": 0.5
             },
             "pattern": {
              "fillmode": "overlay",
              "size": 10,
              "solidity": 0.2
             }
            },
            "type": "barpolar"
           }
          ],
          "carpet": [
           {
            "aaxis": {
             "endlinecolor": "#2a3f5f",
             "gridcolor": "white",
             "linecolor": "white",
             "minorgridcolor": "white",
             "startlinecolor": "#2a3f5f"
            },
            "baxis": {
             "endlinecolor": "#2a3f5f",
             "gridcolor": "white",
             "linecolor": "white",
             "minorgridcolor": "white",
             "startlinecolor": "#2a3f5f"
            },
            "type": "carpet"
           }
          ],
          "choropleth": [
           {
            "colorbar": {
             "outlinewidth": 0,
             "ticks": ""
            },
            "type": "choropleth"
           }
          ],
          "contour": [
           {
            "colorbar": {
             "outlinewidth": 0,
             "ticks": ""
            },
            "colorscale": [
             [
              0,
              "#0d0887"
             ],
             [
              0.1111111111111111,
              "#46039f"
             ],
             [
              0.2222222222222222,
              "#7201a8"
             ],
             [
              0.3333333333333333,
              "#9c179e"
             ],
             [
              0.4444444444444444,
              "#bd3786"
             ],
             [
              0.5555555555555556,
              "#d8576b"
             ],
             [
              0.6666666666666666,
              "#ed7953"
             ],
             [
              0.7777777777777778,
              "#fb9f3a"
             ],
             [
              0.8888888888888888,
              "#fdca26"
             ],
             [
              1,
              "#f0f921"
             ]
            ],
            "type": "contour"
           }
          ],
          "contourcarpet": [
           {
            "colorbar": {
             "outlinewidth": 0,
             "ticks": ""
            },
            "type": "contourcarpet"
           }
          ],
          "heatmap": [
           {
            "colorbar": {
             "outlinewidth": 0,
             "ticks": ""
            },
            "colorscale": [
             [
              0,
              "#0d0887"
             ],
             [
              0.1111111111111111,
              "#46039f"
             ],
             [
              0.2222222222222222,
              "#7201a8"
             ],
             [
              0.3333333333333333,
              "#9c179e"
             ],
             [
              0.4444444444444444,
              "#bd3786"
             ],
             [
              0.5555555555555556,
              "#d8576b"
             ],
             [
              0.6666666666666666,
              "#ed7953"
             ],
             [
              0.7777777777777778,
              "#fb9f3a"
             ],
             [
              0.8888888888888888,
              "#fdca26"
             ],
             [
              1,
              "#f0f921"
             ]
            ],
            "type": "heatmap"
           }
          ],
          "heatmapgl": [
           {
            "colorbar": {
             "outlinewidth": 0,
             "ticks": ""
            },
            "colorscale": [
             [
              0,
              "#0d0887"
             ],
             [
              0.1111111111111111,
              "#46039f"
             ],
             [
              0.2222222222222222,
              "#7201a8"
             ],
             [
              0.3333333333333333,
              "#9c179e"
             ],
             [
              0.4444444444444444,
              "#bd3786"
             ],
             [
              0.5555555555555556,
              "#d8576b"
             ],
             [
              0.6666666666666666,
              "#ed7953"
             ],
             [
              0.7777777777777778,
              "#fb9f3a"
             ],
             [
              0.8888888888888888,
              "#fdca26"
             ],
             [
              1,
              "#f0f921"
             ]
            ],
            "type": "heatmapgl"
           }
          ],
          "histogram": [
           {
            "marker": {
             "pattern": {
              "fillmode": "overlay",
              "size": 10,
              "solidity": 0.2
             }
            },
            "type": "histogram"
           }
          ],
          "histogram2d": [
           {
            "colorbar": {
             "outlinewidth": 0,
             "ticks": ""
            },
            "colorscale": [
             [
              0,
              "#0d0887"
             ],
             [
              0.1111111111111111,
              "#46039f"
             ],
             [
              0.2222222222222222,
              "#7201a8"
             ],
             [
              0.3333333333333333,
              "#9c179e"
             ],
             [
              0.4444444444444444,
              "#bd3786"
             ],
             [
              0.5555555555555556,
              "#d8576b"
             ],
             [
              0.6666666666666666,
              "#ed7953"
             ],
             [
              0.7777777777777778,
              "#fb9f3a"
             ],
             [
              0.8888888888888888,
              "#fdca26"
             ],
             [
              1,
              "#f0f921"
             ]
            ],
            "type": "histogram2d"
           }
          ],
          "histogram2dcontour": [
           {
            "colorbar": {
             "outlinewidth": 0,
             "ticks": ""
            },
            "colorscale": [
             [
              0,
              "#0d0887"
             ],
             [
              0.1111111111111111,
              "#46039f"
             ],
             [
              0.2222222222222222,
              "#7201a8"
             ],
             [
              0.3333333333333333,
              "#9c179e"
             ],
             [
              0.4444444444444444,
              "#bd3786"
             ],
             [
              0.5555555555555556,
              "#d8576b"
             ],
             [
              0.6666666666666666,
              "#ed7953"
             ],
             [
              0.7777777777777778,
              "#fb9f3a"
             ],
             [
              0.8888888888888888,
              "#fdca26"
             ],
             [
              1,
              "#f0f921"
             ]
            ],
            "type": "histogram2dcontour"
           }
          ],
          "mesh3d": [
           {
            "colorbar": {
             "outlinewidth": 0,
             "ticks": ""
            },
            "type": "mesh3d"
           }
          ],
          "parcoords": [
           {
            "line": {
             "colorbar": {
              "outlinewidth": 0,
              "ticks": ""
             }
            },
            "type": "parcoords"
           }
          ],
          "pie": [
           {
            "automargin": true,
            "type": "pie"
           }
          ],
          "scatter": [
           {
            "marker": {
             "colorbar": {
              "outlinewidth": 0,
              "ticks": ""
             }
            },
            "type": "scatter"
           }
          ],
          "scatter3d": [
           {
            "line": {
             "colorbar": {
              "outlinewidth": 0,
              "ticks": ""
             }
            },
            "marker": {
             "colorbar": {
              "outlinewidth": 0,
              "ticks": ""
             }
            },
            "type": "scatter3d"
           }
          ],
          "scattercarpet": [
           {
            "marker": {
             "colorbar": {
              "outlinewidth": 0,
              "ticks": ""
             }
            },
            "type": "scattercarpet"
           }
          ],
          "scattergeo": [
           {
            "marker": {
             "colorbar": {
              "outlinewidth": 0,
              "ticks": ""
             }
            },
            "type": "scattergeo"
           }
          ],
          "scattergl": [
           {
            "marker": {
             "colorbar": {
              "outlinewidth": 0,
              "ticks": ""
             }
            },
            "type": "scattergl"
           }
          ],
          "scattermapbox": [
           {
            "marker": {
             "colorbar": {
              "outlinewidth": 0,
              "ticks": ""
             }
            },
            "type": "scattermapbox"
           }
          ],
          "scatterpolar": [
           {
            "marker": {
             "colorbar": {
              "outlinewidth": 0,
              "ticks": ""
             }
            },
            "type": "scatterpolar"
           }
          ],
          "scatterpolargl": [
           {
            "marker": {
             "colorbar": {
              "outlinewidth": 0,
              "ticks": ""
             }
            },
            "type": "scatterpolargl"
           }
          ],
          "scatterternary": [
           {
            "marker": {
             "colorbar": {
              "outlinewidth": 0,
              "ticks": ""
             }
            },
            "type": "scatterternary"
           }
          ],
          "surface": [
           {
            "colorbar": {
             "outlinewidth": 0,
             "ticks": ""
            },
            "colorscale": [
             [
              0,
              "#0d0887"
             ],
             [
              0.1111111111111111,
              "#46039f"
             ],
             [
              0.2222222222222222,
              "#7201a8"
             ],
             [
              0.3333333333333333,
              "#9c179e"
             ],
             [
              0.4444444444444444,
              "#bd3786"
             ],
             [
              0.5555555555555556,
              "#d8576b"
             ],
             [
              0.6666666666666666,
              "#ed7953"
             ],
             [
              0.7777777777777778,
              "#fb9f3a"
             ],
             [
              0.8888888888888888,
              "#fdca26"
             ],
             [
              1,
              "#f0f921"
             ]
            ],
            "type": "surface"
           }
          ],
          "table": [
           {
            "cells": {
             "fill": {
              "color": "#EBF0F8"
             },
             "line": {
              "color": "white"
             }
            },
            "header": {
             "fill": {
              "color": "#C8D4E3"
             },
             "line": {
              "color": "white"
             }
            },
            "type": "table"
           }
          ]
         },
         "layout": {
          "annotationdefaults": {
           "arrowcolor": "#2a3f5f",
           "arrowhead": 0,
           "arrowwidth": 1
          },
          "autotypenumbers": "strict",
          "coloraxis": {
           "colorbar": {
            "outlinewidth": 0,
            "ticks": ""
           }
          },
          "colorscale": {
           "diverging": [
            [
             0,
             "#8e0152"
            ],
            [
             0.1,
             "#c51b7d"
            ],
            [
             0.2,
             "#de77ae"
            ],
            [
             0.3,
             "#f1b6da"
            ],
            [
             0.4,
             "#fde0ef"
            ],
            [
             0.5,
             "#f7f7f7"
            ],
            [
             0.6,
             "#e6f5d0"
            ],
            [
             0.7,
             "#b8e186"
            ],
            [
             0.8,
             "#7fbc41"
            ],
            [
             0.9,
             "#4d9221"
            ],
            [
             1,
             "#276419"
            ]
           ],
           "sequential": [
            [
             0,
             "#0d0887"
            ],
            [
             0.1111111111111111,
             "#46039f"
            ],
            [
             0.2222222222222222,
             "#7201a8"
            ],
            [
             0.3333333333333333,
             "#9c179e"
            ],
            [
             0.4444444444444444,
             "#bd3786"
            ],
            [
             0.5555555555555556,
             "#d8576b"
            ],
            [
             0.6666666666666666,
             "#ed7953"
            ],
            [
             0.7777777777777778,
             "#fb9f3a"
            ],
            [
             0.8888888888888888,
             "#fdca26"
            ],
            [
             1,
             "#f0f921"
            ]
           ],
           "sequentialminus": [
            [
             0,
             "#0d0887"
            ],
            [
             0.1111111111111111,
             "#46039f"
            ],
            [
             0.2222222222222222,
             "#7201a8"
            ],
            [
             0.3333333333333333,
             "#9c179e"
            ],
            [
             0.4444444444444444,
             "#bd3786"
            ],
            [
             0.5555555555555556,
             "#d8576b"
            ],
            [
             0.6666666666666666,
             "#ed7953"
            ],
            [
             0.7777777777777778,
             "#fb9f3a"
            ],
            [
             0.8888888888888888,
             "#fdca26"
            ],
            [
             1,
             "#f0f921"
            ]
           ]
          },
          "colorway": [
           "#636efa",
           "#EF553B",
           "#00cc96",
           "#ab63fa",
           "#FFA15A",
           "#19d3f3",
           "#FF6692",
           "#B6E880",
           "#FF97FF",
           "#FECB52"
          ],
          "font": {
           "color": "#2a3f5f"
          },
          "geo": {
           "bgcolor": "white",
           "lakecolor": "white",
           "landcolor": "#E5ECF6",
           "showlakes": true,
           "showland": true,
           "subunitcolor": "white"
          },
          "hoverlabel": {
           "align": "left"
          },
          "hovermode": "closest",
          "mapbox": {
           "style": "light"
          },
          "paper_bgcolor": "white",
          "plot_bgcolor": "#E5ECF6",
          "polar": {
           "angularaxis": {
            "gridcolor": "white",
            "linecolor": "white",
            "ticks": ""
           },
           "bgcolor": "#E5ECF6",
           "radialaxis": {
            "gridcolor": "white",
            "linecolor": "white",
            "ticks": ""
           }
          },
          "scene": {
           "xaxis": {
            "backgroundcolor": "#E5ECF6",
            "gridcolor": "white",
            "gridwidth": 2,
            "linecolor": "white",
            "showbackground": true,
            "ticks": "",
            "zerolinecolor": "white"
           },
           "yaxis": {
            "backgroundcolor": "#E5ECF6",
            "gridcolor": "white",
            "gridwidth": 2,
            "linecolor": "white",
            "showbackground": true,
            "ticks": "",
            "zerolinecolor": "white"
           },
           "zaxis": {
            "backgroundcolor": "#E5ECF6",
            "gridcolor": "white",
            "gridwidth": 2,
            "linecolor": "white",
            "showbackground": true,
            "ticks": "",
            "zerolinecolor": "white"
           }
          },
          "shapedefaults": {
           "line": {
            "color": "#2a3f5f"
           }
          },
          "ternary": {
           "aaxis": {
            "gridcolor": "white",
            "linecolor": "white",
            "ticks": ""
           },
           "baxis": {
            "gridcolor": "white",
            "linecolor": "white",
            "ticks": ""
           },
           "bgcolor": "#E5ECF6",
           "caxis": {
            "gridcolor": "white",
            "linecolor": "white",
            "ticks": ""
           }
          },
          "title": {
           "x": 0.05
          },
          "xaxis": {
           "automargin": true,
           "gridcolor": "white",
           "linecolor": "white",
           "ticks": "",
           "title": {
            "standoff": 15
           },
           "zerolinecolor": "white",
           "zerolinewidth": 2
          },
          "yaxis": {
           "automargin": true,
           "gridcolor": "white",
           "linecolor": "white",
           "ticks": "",
           "title": {
            "standoff": 15
           },
           "zerolinecolor": "white",
           "zerolinewidth": 2
          }
         }
        },
        "xaxis": {
         "anchor": "y",
         "domain": [
          0,
          1
         ],
         "title": {
          "text": "startDate"
         }
        },
        "yaxis": {
         "anchor": "x",
         "domain": [
          0,
          1
         ],
         "title": {
          "text": "_value"
         }
        }
       }
      },
      "text/html": [
       "<div>                            <div id=\"8cb7b030-a271-401d-8e54-c32d94fd57b6\" class=\"plotly-graph-div\" style=\"height:525px; width:100%;\"></div>            <script type=\"text/javascript\">                require([\"plotly\"], function(Plotly) {                    window.PLOTLYENV=window.PLOTLYENV || {};                                    if (document.getElementById(\"8cb7b030-a271-401d-8e54-c32d94fd57b6\")) {                    Plotly.newPlot(                        \"8cb7b030-a271-401d-8e54-c32d94fd57b6\",                        [{\"hovertemplate\":\"variable=value<br>startDate=%{x}<br>_value=%{y}<extra></extra>\",\"legendgroup\":\"value\",\"line\":{\"color\":\"#636efa\",\"dash\":\"solid\"},\"marker\":{\"symbol\":\"circle\"},\"mode\":\"lines\",\"name\":\"value\",\"orientation\":\"v\",\"showlegend\":true,\"x\":[\"2022-10-20T12:54:57-04:00\",\"2022-10-20T12:54:59-04:00\",\"2022-10-20T12:55:02-04:00\",\"2022-10-20T12:55:04-04:00\",\"2022-10-20T12:55:07-04:00\",\"2022-10-20T12:55:10-04:00\",\"2022-10-20T12:55:12-04:00\",\"2022-10-20T12:55:15-04:00\",\"2022-10-20T12:55:17-04:00\",\"2022-10-20T12:55:20-04:00\",\"2022-10-20T12:55:22-04:00\",\"2022-10-20T12:55:25-04:00\",\"2022-10-20T12:55:27-04:00\",\"2022-10-20T12:55:30-04:00\",\"2022-10-20T12:55:33-04:00\",\"2022-10-20T12:55:35-04:00\",\"2022-10-20T12:55:38-04:00\",\"2022-10-20T12:55:40-04:00\",\"2022-10-20T12:55:43-04:00\",\"2022-10-20T12:55:45-04:00\",\"2022-10-20T12:55:48-04:00\",\"2022-10-20T12:55:50-04:00\",\"2022-10-20T12:55:53-04:00\",\"2022-10-20T12:55:56-04:00\",\"2022-10-20T12:55:58-04:00\",\"2022-10-20T12:56:01-04:00\",\"2022-10-20T12:56:03-04:00\",\"2022-10-20T12:56:06-04:00\",\"2022-10-20T12:56:08-04:00\",\"2022-10-20T12:56:11-04:00\",\"2022-10-20T12:56:13-04:00\",\"2022-10-20T12:56:16-04:00\",\"2022-10-20T12:56:19-04:00\",\"2022-10-20T12:56:21-04:00\",\"2022-10-20T12:56:24-04:00\",\"2022-10-20T12:56:26-04:00\",\"2022-10-20T12:56:29-04:00\",\"2022-10-20T12:56:31-04:00\",\"2022-10-20T12:56:34-04:00\",\"2022-10-20T12:56:36-04:00\",\"2022-10-20T12:56:39-04:00\",\"2022-10-20T12:56:42-04:00\",\"2022-10-20T12:56:44-04:00\",\"2022-10-20T12:56:47-04:00\",\"2022-10-20T12:56:49-04:00\",\"2022-10-20T12:56:52-04:00\",\"2022-10-20T12:56:54-04:00\",\"2022-10-20T12:56:57-04:00\",\"2022-10-20T12:56:59-04:00\",\"2022-10-20T12:57:02-04:00\",\"2022-10-20T12:57:04-04:00\",\"2022-10-20T12:57:07-04:00\",\"2022-10-20T12:57:10-04:00\",\"2022-10-20T12:57:12-04:00\",\"2022-10-20T12:57:15-04:00\",\"2022-10-20T12:57:17-04:00\",\"2022-10-20T12:57:20-04:00\",\"2022-10-20T12:57:22-04:00\",\"2022-10-20T12:57:25-04:00\",\"2022-10-20T12:57:27-04:00\",\"2022-10-20T12:57:30-04:00\",\"2022-10-20T12:57:33-04:00\",\"2022-10-20T12:57:35-04:00\",\"2022-10-20T12:57:38-04:00\",\"2022-10-20T12:57:40-04:00\",\"2022-10-20T12:57:43-04:00\",\"2022-10-20T12:57:45-04:00\",\"2022-10-20T12:57:48-04:00\",\"2022-10-20T12:57:50-04:00\",\"2022-10-20T12:57:53-04:00\",\"2022-10-20T12:57:56-04:00\",\"2022-10-20T12:57:58-04:00\",\"2022-10-20T12:58:01-04:00\",\"2022-10-20T12:58:03-04:00\",\"2022-10-20T12:58:06-04:00\",\"2022-10-20T12:58:08-04:00\",\"2022-10-20T12:58:11-04:00\",\"2022-10-20T12:58:13-04:00\",\"2022-10-20T12:58:16-04:00\",\"2022-10-20T12:58:19-04:00\",\"2022-10-20T12:58:21-04:00\",\"2022-10-20T12:58:24-04:00\",\"2022-10-20T12:58:26-04:00\",\"2022-10-20T12:58:29-04:00\",\"2022-10-20T12:58:31-04:00\",\"2022-10-20T12:58:34-04:00\",\"2022-10-20T12:58:36-04:00\",\"2022-10-20T12:58:39-04:00\",\"2022-10-20T12:58:42-04:00\",\"2022-10-20T12:58:44-04:00\",\"2022-10-20T12:58:47-04:00\",\"2022-10-20T12:58:49-04:00\",\"2022-10-20T12:58:52-04:00\",\"2022-10-20T12:58:54-04:00\",\"2022-10-20T12:58:57-04:00\",\"2022-10-20T12:58:59-04:00\",\"2022-10-20T12:59:02-04:00\",\"2022-10-20T12:59:05-04:00\",\"2022-10-20T12:59:07-04:00\",\"2022-10-20T12:59:10-04:00\",\"2022-10-20T12:59:12-04:00\",\"2022-10-20T12:59:15-04:00\",\"2022-10-20T12:59:17-04:00\",\"2022-10-20T12:59:20-04:00\",\"2022-10-20T12:59:22-04:00\",\"2022-10-20T12:59:25-04:00\",\"2022-10-20T12:59:28-04:00\",\"2022-10-20T12:59:30-04:00\",\"2022-10-20T12:59:33-04:00\",\"2022-10-20T12:59:35-04:00\",\"2022-10-20T12:59:38-04:00\",\"2022-10-20T12:59:40-04:00\",\"2022-10-20T12:59:43-04:00\",\"2022-10-20T12:59:45-04:00\",\"2022-10-20T12:59:48-04:00\",\"2022-10-20T12:59:51-04:00\",\"2022-10-20T12:59:53-04:00\",\"2022-10-20T12:59:56-04:00\",\"2022-10-20T12:59:58-04:00\",\"2022-10-20T13:00:01-04:00\",\"2022-10-20T13:00:03-04:00\",\"2022-10-20T13:00:06-04:00\",\"2022-10-20T13:00:08-04:00\",\"2022-10-20T13:00:11-04:00\",\"2022-10-20T13:00:14-04:00\",\"2022-10-20T13:00:16-04:00\",\"2022-10-20T13:00:19-04:00\",\"2022-10-20T13:00:21-04:00\",\"2022-10-20T13:00:24-04:00\",\"2022-10-20T13:00:26-04:00\",\"2022-10-20T13:00:29-04:00\",\"2022-10-20T13:00:31-04:00\",\"2022-10-20T13:00:34-04:00\",\"2022-10-20T13:00:37-04:00\",\"2022-10-20T13:00:39-04:00\",\"2022-10-20T13:00:42-04:00\",\"2022-10-20T13:00:44-04:00\",\"2022-10-20T13:00:47-04:00\",\"2022-10-20T13:00:49-04:00\",\"2022-10-20T13:00:52-04:00\",\"2022-10-20T13:00:54-04:00\",\"2022-10-20T13:00:57-04:00\",\"2022-10-20T13:01:00-04:00\",\"2022-10-20T13:01:02-04:00\",\"2022-10-20T13:01:05-04:00\",\"2022-10-20T13:01:07-04:00\",\"2022-10-20T13:01:10-04:00\",\"2022-10-20T13:01:12-04:00\",\"2022-10-20T13:01:15-04:00\",\"2022-10-20T13:01:17-04:00\",\"2022-10-20T13:01:20-04:00\",\"2022-10-20T13:01:23-04:00\",\"2022-10-20T13:01:25-04:00\",\"2022-10-20T13:01:28-04:00\",\"2022-10-20T13:01:30-04:00\",\"2022-10-20T13:01:33-04:00\",\"2022-10-20T13:01:35-04:00\",\"2022-10-20T13:01:38-04:00\",\"2022-10-20T13:01:40-04:00\",\"2022-10-20T13:01:43-04:00\",\"2022-10-20T13:01:46-04:00\",\"2022-10-20T13:01:48-04:00\",\"2022-10-20T13:01:51-04:00\",\"2022-10-20T13:01:53-04:00\",\"2022-10-20T13:01:56-04:00\",\"2022-10-20T13:01:58-04:00\",\"2022-10-20T13:02:01-04:00\",\"2022-10-20T13:02:03-04:00\",\"2022-10-20T13:02:06-04:00\",\"2022-10-20T13:02:08-04:00\",\"2022-10-20T13:02:11-04:00\",\"2022-10-20T13:02:14-04:00\",\"2022-10-20T13:02:16-04:00\",\"2022-10-20T13:02:19-04:00\",\"2022-10-20T13:02:21-04:00\",\"2022-10-20T13:02:24-04:00\",\"2022-10-20T13:02:26-04:00\",\"2022-10-20T13:02:29-04:00\",\"2022-10-20T13:02:31-04:00\",\"2022-10-20T13:02:34-04:00\",\"2022-10-20T13:02:37-04:00\",\"2022-10-20T13:02:39-04:00\"],\"xaxis\":\"x\",\"y\":[0.219,0.218,0.219,0.219,0.227,0.227,0.238,0.238,0.246,0.246,0.285,0.285,0.266,0.265,0.261,0.261,0.265,0.265,0.288,0.288,0.296,0.296,0.3,0.3,0.296,0.296,0.311,0.311,0.311,0.323,0.323,0.335,0.335,0.335,0.335,0.327,0.327,0.338,0.338,0.338,0.339,0.354,0.354,0.365,0.365,0.365,0.365,0.365,0.365,0.365,0.365,0.369,0.369,0.377,0.377,0.377,0.377,0.385,0.385,0.385,0.385,0.385,0.385,0.385,0.385,0.389,0.389,0.389,0.389,0.392,0.392,0.408,0.408,0.416,0.416,0.416,0.415,0.416,0.419,0.419,0.423,0.423,0.427,0.427,0.431,0.431,0.435,0.435,0.427,0.427,0.431,0.431,0.435,0.435,0.439,0.439,0.439,0.439,0.439,0.439,0.443,0.442,0.446,0.446,0.446,0.446,0.45,0.45,0.443,0.442,0.439,0.439,0.447,0.445,0.45,0.45,0.45,0.45,0.45,0.45,0.443,0.443,0.443,0.446,0.446,0.45,0.45,0.45,0.45,0.459,0.458,0.462,0.461,0.466,0.466,0.462,0.462,0.462,0.462,0.462,0.462,0.47,0.469,0.482,0.481,0.485,0.485,0.488,0.489,0.49,0.489,0.481,0.481,0.484,0.485,0.489,0.489,0.493,0.493,0.489,0.489,0.487,0.489,0.5,0.5,0.504,0.504,0.504,0.504,0.504,0.504,0.504,0.508,0.508,0.508,0.508,0.509,0.507,0.504,0.504,0.504,0.504],\"yaxis\":\"y\",\"type\":\"scatter\"}],                        {\"template\":{\"data\":{\"bar\":[{\"error_x\":{\"color\":\"#2a3f5f\"},\"error_y\":{\"color\":\"#2a3f5f\"},\"marker\":{\"line\":{\"color\":\"#E5ECF6\",\"width\":0.5},\"pattern\":{\"fillmode\":\"overlay\",\"size\":10,\"solidity\":0.2}},\"type\":\"bar\"}],\"barpolar\":[{\"marker\":{\"line\":{\"color\":\"#E5ECF6\",\"width\":0.5},\"pattern\":{\"fillmode\":\"overlay\",\"size\":10,\"solidity\":0.2}},\"type\":\"barpolar\"}],\"carpet\":[{\"aaxis\":{\"endlinecolor\":\"#2a3f5f\",\"gridcolor\":\"white\",\"linecolor\":\"white\",\"minorgridcolor\":\"white\",\"startlinecolor\":\"#2a3f5f\"},\"baxis\":{\"endlinecolor\":\"#2a3f5f\",\"gridcolor\":\"white\",\"linecolor\":\"white\",\"minorgridcolor\":\"white\",\"startlinecolor\":\"#2a3f5f\"},\"type\":\"carpet\"}],\"choropleth\":[{\"colorbar\":{\"outlinewidth\":0,\"ticks\":\"\"},\"type\":\"choropleth\"}],\"contour\":[{\"colorbar\":{\"outlinewidth\":0,\"ticks\":\"\"},\"colorscale\":[[0.0,\"#0d0887\"],[0.1111111111111111,\"#46039f\"],[0.2222222222222222,\"#7201a8\"],[0.3333333333333333,\"#9c179e\"],[0.4444444444444444,\"#bd3786\"],[0.5555555555555556,\"#d8576b\"],[0.6666666666666666,\"#ed7953\"],[0.7777777777777778,\"#fb9f3a\"],[0.8888888888888888,\"#fdca26\"],[1.0,\"#f0f921\"]],\"type\":\"contour\"}],\"contourcarpet\":[{\"colorbar\":{\"outlinewidth\":0,\"ticks\":\"\"},\"type\":\"contourcarpet\"}],\"heatmap\":[{\"colorbar\":{\"outlinewidth\":0,\"ticks\":\"\"},\"colorscale\":[[0.0,\"#0d0887\"],[0.1111111111111111,\"#46039f\"],[0.2222222222222222,\"#7201a8\"],[0.3333333333333333,\"#9c179e\"],[0.4444444444444444,\"#bd3786\"],[0.5555555555555556,\"#d8576b\"],[0.6666666666666666,\"#ed7953\"],[0.7777777777777778,\"#fb9f3a\"],[0.8888888888888888,\"#fdca26\"],[1.0,\"#f0f921\"]],\"type\":\"heatmap\"}],\"heatmapgl\":[{\"colorbar\":{\"outlinewidth\":0,\"ticks\":\"\"},\"colorscale\":[[0.0,\"#0d0887\"],[0.1111111111111111,\"#46039f\"],[0.2222222222222222,\"#7201a8\"],[0.3333333333333333,\"#9c179e\"],[0.4444444444444444,\"#bd3786\"],[0.5555555555555556,\"#d8576b\"],[0.6666666666666666,\"#ed7953\"],[0.7777777777777778,\"#fb9f3a\"],[0.8888888888888888,\"#fdca26\"],[1.0,\"#f0f921\"]],\"type\":\"heatmapgl\"}],\"histogram\":[{\"marker\":{\"pattern\":{\"fillmode\":\"overlay\",\"size\":10,\"solidity\":0.2}},\"type\":\"histogram\"}],\"histogram2d\":[{\"colorbar\":{\"outlinewidth\":0,\"ticks\":\"\"},\"colorscale\":[[0.0,\"#0d0887\"],[0.1111111111111111,\"#46039f\"],[0.2222222222222222,\"#7201a8\"],[0.3333333333333333,\"#9c179e\"],[0.4444444444444444,\"#bd3786\"],[0.5555555555555556,\"#d8576b\"],[0.6666666666666666,\"#ed7953\"],[0.7777777777777778,\"#fb9f3a\"],[0.8888888888888888,\"#fdca26\"],[1.0,\"#f0f921\"]],\"type\":\"histogram2d\"}],\"histogram2dcontour\":[{\"colorbar\":{\"outlinewidth\":0,\"ticks\":\"\"},\"colorscale\":[[0.0,\"#0d0887\"],[0.1111111111111111,\"#46039f\"],[0.2222222222222222,\"#7201a8\"],[0.3333333333333333,\"#9c179e\"],[0.4444444444444444,\"#bd3786\"],[0.5555555555555556,\"#d8576b\"],[0.6666666666666666,\"#ed7953\"],[0.7777777777777778,\"#fb9f3a\"],[0.8888888888888888,\"#fdca26\"],[1.0,\"#f0f921\"]],\"type\":\"histogram2dcontour\"}],\"mesh3d\":[{\"colorbar\":{\"outlinewidth\":0,\"ticks\":\"\"},\"type\":\"mesh3d\"}],\"parcoords\":[{\"line\":{\"colorbar\":{\"outlinewidth\":0,\"ticks\":\"\"}},\"type\":\"parcoords\"}],\"pie\":[{\"automargin\":true,\"type\":\"pie\"}],\"scatter\":[{\"marker\":{\"colorbar\":{\"outlinewidth\":0,\"ticks\":\"\"}},\"type\":\"scatter\"}],\"scatter3d\":[{\"line\":{\"colorbar\":{\"outlinewidth\":0,\"ticks\":\"\"}},\"marker\":{\"colorbar\":{\"outlinewidth\":0,\"ticks\":\"\"}},\"type\":\"scatter3d\"}],\"scattercarpet\":[{\"marker\":{\"colorbar\":{\"outlinewidth\":0,\"ticks\":\"\"}},\"type\":\"scattercarpet\"}],\"scattergeo\":[{\"marker\":{\"colorbar\":{\"outlinewidth\":0,\"ticks\":\"\"}},\"type\":\"scattergeo\"}],\"scattergl\":[{\"marker\":{\"colorbar\":{\"outlinewidth\":0,\"ticks\":\"\"}},\"type\":\"scattergl\"}],\"scattermapbox\":[{\"marker\":{\"colorbar\":{\"outlinewidth\":0,\"ticks\":\"\"}},\"type\":\"scattermapbox\"}],\"scatterpolar\":[{\"marker\":{\"colorbar\":{\"outlinewidth\":0,\"ticks\":\"\"}},\"type\":\"scatterpolar\"}],\"scatterpolargl\":[{\"marker\":{\"colorbar\":{\"outlinewidth\":0,\"ticks\":\"\"}},\"type\":\"scatterpolargl\"}],\"scatterternary\":[{\"marker\":{\"colorbar\":{\"outlinewidth\":0,\"ticks\":\"\"}},\"type\":\"scatterternary\"}],\"surface\":[{\"colorbar\":{\"outlinewidth\":0,\"ticks\":\"\"},\"colorscale\":[[0.0,\"#0d0887\"],[0.1111111111111111,\"#46039f\"],[0.2222222222222222,\"#7201a8\"],[0.3333333333333333,\"#9c179e\"],[0.4444444444444444,\"#bd3786\"],[0.5555555555555556,\"#d8576b\"],[0.6666666666666666,\"#ed7953\"],[0.7777777777777778,\"#fb9f3a\"],[0.8888888888888888,\"#fdca26\"],[1.0,\"#f0f921\"]],\"type\":\"surface\"}],\"table\":[{\"cells\":{\"fill\":{\"color\":\"#EBF0F8\"},\"line\":{\"color\":\"white\"}},\"header\":{\"fill\":{\"color\":\"#C8D4E3\"},\"line\":{\"color\":\"white\"}},\"type\":\"table\"}]},\"layout\":{\"annotationdefaults\":{\"arrowcolor\":\"#2a3f5f\",\"arrowhead\":0,\"arrowwidth\":1},\"autotypenumbers\":\"strict\",\"coloraxis\":{\"colorbar\":{\"outlinewidth\":0,\"ticks\":\"\"}},\"colorscale\":{\"diverging\":[[0,\"#8e0152\"],[0.1,\"#c51b7d\"],[0.2,\"#de77ae\"],[0.3,\"#f1b6da\"],[0.4,\"#fde0ef\"],[0.5,\"#f7f7f7\"],[0.6,\"#e6f5d0\"],[0.7,\"#b8e186\"],[0.8,\"#7fbc41\"],[0.9,\"#4d9221\"],[1,\"#276419\"]],\"sequential\":[[0.0,\"#0d0887\"],[0.1111111111111111,\"#46039f\"],[0.2222222222222222,\"#7201a8\"],[0.3333333333333333,\"#9c179e\"],[0.4444444444444444,\"#bd3786\"],[0.5555555555555556,\"#d8576b\"],[0.6666666666666666,\"#ed7953\"],[0.7777777777777778,\"#fb9f3a\"],[0.8888888888888888,\"#fdca26\"],[1.0,\"#f0f921\"]],\"sequentialminus\":[[0.0,\"#0d0887\"],[0.1111111111111111,\"#46039f\"],[0.2222222222222222,\"#7201a8\"],[0.3333333333333333,\"#9c179e\"],[0.4444444444444444,\"#bd3786\"],[0.5555555555555556,\"#d8576b\"],[0.6666666666666666,\"#ed7953\"],[0.7777777777777778,\"#fb9f3a\"],[0.8888888888888888,\"#fdca26\"],[1.0,\"#f0f921\"]]},\"colorway\":[\"#636efa\",\"#EF553B\",\"#00cc96\",\"#ab63fa\",\"#FFA15A\",\"#19d3f3\",\"#FF6692\",\"#B6E880\",\"#FF97FF\",\"#FECB52\"],\"font\":{\"color\":\"#2a3f5f\"},\"geo\":{\"bgcolor\":\"white\",\"lakecolor\":\"white\",\"landcolor\":\"#E5ECF6\",\"showlakes\":true,\"showland\":true,\"subunitcolor\":\"white\"},\"hoverlabel\":{\"align\":\"left\"},\"hovermode\":\"closest\",\"mapbox\":{\"style\":\"light\"},\"paper_bgcolor\":\"white\",\"plot_bgcolor\":\"#E5ECF6\",\"polar\":{\"angularaxis\":{\"gridcolor\":\"white\",\"linecolor\":\"white\",\"ticks\":\"\"},\"bgcolor\":\"#E5ECF6\",\"radialaxis\":{\"gridcolor\":\"white\",\"linecolor\":\"white\",\"ticks\":\"\"}},\"scene\":{\"xaxis\":{\"backgroundcolor\":\"#E5ECF6\",\"gridcolor\":\"white\",\"gridwidth\":2,\"linecolor\":\"white\",\"showbackground\":true,\"ticks\":\"\",\"zerolinecolor\":\"white\"},\"yaxis\":{\"backgroundcolor\":\"#E5ECF6\",\"gridcolor\":\"white\",\"gridwidth\":2,\"linecolor\":\"white\",\"showbackground\":true,\"ticks\":\"\",\"zerolinecolor\":\"white\"},\"zaxis\":{\"backgroundcolor\":\"#E5ECF6\",\"gridcolor\":\"white\",\"gridwidth\":2,\"linecolor\":\"white\",\"showbackground\":true,\"ticks\":\"\",\"zerolinecolor\":\"white\"}},\"shapedefaults\":{\"line\":{\"color\":\"#2a3f5f\"}},\"ternary\":{\"aaxis\":{\"gridcolor\":\"white\",\"linecolor\":\"white\",\"ticks\":\"\"},\"baxis\":{\"gridcolor\":\"white\",\"linecolor\":\"white\",\"ticks\":\"\"},\"bgcolor\":\"#E5ECF6\",\"caxis\":{\"gridcolor\":\"white\",\"linecolor\":\"white\",\"ticks\":\"\"}},\"title\":{\"x\":0.05},\"xaxis\":{\"automargin\":true,\"gridcolor\":\"white\",\"linecolor\":\"white\",\"ticks\":\"\",\"title\":{\"standoff\":15},\"zerolinecolor\":\"white\",\"zerolinewidth\":2},\"yaxis\":{\"automargin\":true,\"gridcolor\":\"white\",\"linecolor\":\"white\",\"ticks\":\"\",\"title\":{\"standoff\":15},\"zerolinecolor\":\"white\",\"zerolinewidth\":2}}},\"xaxis\":{\"anchor\":\"y\",\"domain\":[0.0,1.0],\"title\":{\"text\":\"startDate\"}},\"yaxis\":{\"anchor\":\"x\",\"domain\":[0.0,1.0],\"title\":{\"text\":\"_value\"}},\"legend\":{\"title\":{\"text\":\"variable\"},\"tracegroupgap\":0},\"margin\":{\"t\":60}},                        {\"responsive\": true}                    ).then(function(){\n",
       "                            \n",
       "var gd = document.getElementById('8cb7b030-a271-401d-8e54-c32d94fd57b6');\n",
       "var x = new MutationObserver(function (mutations, observer) {{\n",
       "        var display = window.getComputedStyle(gd).display;\n",
       "        if (!display || display === 'none') {{\n",
       "            console.log([gd, 'removed!']);\n",
       "            Plotly.purge(gd);\n",
       "            observer.disconnect();\n",
       "        }}\n",
       "}});\n",
       "\n",
       "// Listen for the removal of the full notebook cells\n",
       "var notebookContainer = gd.closest('#notebook-container');\n",
       "if (notebookContainer) {{\n",
       "    x.observe(notebookContainer, {childList: true});\n",
       "}}\n",
       "\n",
       "// Listen for the clearing of the current output cell\n",
       "var outputEl = gd.closest('.output');\n",
       "if (outputEl) {{\n",
       "    x.observe(outputEl, {childList: true});\n",
       "}}\n",
       "\n",
       "                        })                };                });            </script>        </div>"
      ]
     },
     "metadata": {},
     "output_type": "display_data"
    }
   ],
   "source": [
    "dfInterest[['value']].plot()"
   ]
  },
  {
   "cell_type": "code",
   "execution_count": 86,
   "id": "06208da5",
   "metadata": {},
   "outputs": [
    {
     "data": {
      "text/plain": [
       "(35, 1)"
      ]
     },
     "execution_count": 86,
     "metadata": {},
     "output_type": "execute_result"
    }
   ],
   "source": [
    "dfInterest[['value']].shape"
   ]
  },
  {
   "cell_type": "code",
   "execution_count": 21,
   "id": "532195c2",
   "metadata": {},
   "outputs": [
    {
     "data": {
      "text/plain": [
       "('2022-09-28 15:51:27', '2022-09-28 15:40:00', '2022-09-28 15:51:27')"
      ]
     },
     "execution_count": 21,
     "metadata": {},
     "output_type": "execute_result"
    }
   ],
   "source": [
    "# 'currentTime', 'Second to go back', 'Second to Forward'\n",
    "changeDate('20220928T155127.MP4',687,0)"
   ]
  },
  {
   "cell_type": "code",
   "execution_count": 21,
   "id": "b7aef028",
   "metadata": {},
   "outputs": [
    {
     "data": {
      "text/plain": [
       "484"
      ]
     },
     "execution_count": 21,
     "metadata": {},
     "output_type": "execute_result"
    }
   ],
   "source": [
    "# 'first filename recorded', 'last file recorded'\n",
    "timeLengthBtwTwoFiles('20221011T125435','20221011T130239').seconds"
   ]
  },
  {
   "cell_type": "code",
   "execution_count": 23,
   "id": "3cb07c43",
   "metadata": {},
   "outputs": [
    {
     "data": {
      "text/plain": [
       "0.3760330578512397"
      ]
     },
     "execution_count": 23,
     "metadata": {},
     "output_type": "execute_result"
    }
   ],
   "source": [
    "100 samples per second"
   ]
  },
  {
   "cell_type": "code",
   "execution_count": 68,
   "id": "d81e2cef",
   "metadata": {},
   "outputs": [
    {
     "data": {
      "text/plain": [
       "2221"
      ]
     },
     "execution_count": 68,
     "metadata": {},
     "output_type": "execute_result"
    }
   ],
   "source": [
    "# 'first filename recorded', 'last file recorded'\n",
    "timeLengthBtwTwoFiles('20221011T151335','20221011T155036').seconds"
   ]
  },
  {
   "cell_type": "code",
   "execution_count": 69,
   "id": "6ed58de8",
   "metadata": {},
   "outputs": [
    {
     "data": {
      "text/plain": [
       "46.68333333333333"
      ]
     },
     "execution_count": 69,
     "metadata": {},
     "output_type": "execute_result"
    }
   ],
   "source": [
    "2801/60"
   ]
  },
  {
   "cell_type": "code",
   "execution_count": 70,
   "id": "cc61141c",
   "metadata": {},
   "outputs": [
    {
     "data": {
      "text/plain": [
       "37.016666666666666"
      ]
     },
     "execution_count": 70,
     "metadata": {},
     "output_type": "execute_result"
    }
   ],
   "source": [
    "2221/60"
   ]
  },
  {
   "cell_type": "code",
   "execution_count": 18,
   "id": "54ee6365",
   "metadata": {},
   "outputs": [],
   "source": [
    "dfInterest['value'].to_csv(\"/Users/rishiraj/Documents/thermal-project-data/calorieData/P12_1.csv\")"
   ]
  },
  {
   "cell_type": "code",
   "execution_count": null,
   "id": "f6b1fa37",
   "metadata": {},
   "outputs": [],
   "source": []
  }
 ],
 "metadata": {
  "kernelspec": {
   "display_name": "Python 3 (ipykernel)",
   "language": "python",
   "name": "python3"
  },
  "language_info": {
   "codemirror_mode": {
    "name": "ipython",
    "version": 3
   },
   "file_extension": ".py",
   "mimetype": "text/x-python",
   "name": "python",
   "nbconvert_exporter": "python",
   "pygments_lexer": "ipython3",
   "version": "3.9.12"
  }
 },
 "nbformat": 4,
 "nbformat_minor": 5
}
