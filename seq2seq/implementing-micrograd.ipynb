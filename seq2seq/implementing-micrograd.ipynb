{
 "cells": [
  {
   "cell_type": "code",
   "execution_count": 1,
   "id": "2f06fc3a",
   "metadata": {},
   "outputs": [],
   "source": [
    "import math\n",
    "import numpy as np\n",
    "import matplotlib.pyplot as plt\n",
    "%matplotlib inline"
   ]
  },
  {
   "cell_type": "code",
   "execution_count": 4,
   "id": "0819652a",
   "metadata": {},
   "outputs": [],
   "source": [
    "def f(x):\n",
    "    return 3*x**2 - 4*x + 5;"
   ]
  },
  {
   "cell_type": "code",
   "execution_count": 5,
   "id": "0798f963",
   "metadata": {},
   "outputs": [
    {
     "data": {
      "image/png": "[encoded data removed]",
      "text/plain": [
       "<Figure size 432x288 with 1 Axes>"
      ]
     },
     "metadata": {
      "needs_background": "light"
     },
     "output_type": "display_data"
    }
   ],
   "source": [
    "xs = np.arange(-5,5,0.25)\n",
    "ys = f(xs)\n",
    "plt.plot(xs,ys)\n",
    "plt.title(\"Plot of $3x^2-4x+5$\");"
   ]
  },
  {
   "cell_type": "markdown",
   "id": "56a3dbfc",
   "metadata": {},
   "source": [
    "### Differentiation And The Slopes\n",
    "In case you forgot your high school math"
   ]
  },
  {
   "cell_type": "markdown",
   "id": "f116b4ed",
   "metadata": {},
   "source": [
    "Ddifferentiating the equation $$3x^2-4x+5$$ wrt $x$ would give us, $$6x-4$$ For $x=3$, we would get the value of $6x-4$ as 14. That is what the slope is as shown below"
   ]
  },
  {
   "cell_type": "code",
   "execution_count": 6,
   "id": "b17a777c",
   "metadata": {},
   "outputs": [
    {
     "name": "stdout",
     "output_type": "stream",
     "text": [
      "f(x) = 20\n",
      "f(x+h) = 20.00000014\n",
      "Slope = 14.00000009255109\n"
     ]
    }
   ],
   "source": [
    "h = 0.00000001\n",
    "x = 3\n",
    "print(\"f(x) = {}\".format(f(x)))\n",
    "print(\"f(x+h) = {}\".format(f(x+h)))\n",
    "print(\"Slope = {}\".format((f(x+h)-f(x))/h))"
   ]
  },
  {
   "cell_type": "markdown",
   "id": "40036452",
   "metadata": {},
   "source": [
    "For $x=-3$, we would get the value of $6x-4$ as -22. That is what the slope is as shown below"
   ]
  },
  {
   "cell_type": "code",
   "execution_count": 6,
   "id": "5c3c258b",
   "metadata": {},
   "outputs": [
    {
     "name": "stdout",
     "output_type": "stream",
     "text": [
      "f(x) = 44\n",
      "f(x+h) = 43.999999779999996\n",
      "Slope = -22.00000039920269\n"
     ]
    }
   ],
   "source": [
    "h = 0.00000001\n",
    "x = -3\n",
    "print(\"f(x) = {}\".format(f(x)))\n",
    "print(\"f(x+h) = {}\".format(f(x+h)))\n",
    "print(\"Slope = {}\".format((f(x+h)-f(x))/h))"
   ]
  },
  {
   "cell_type": "markdown",
   "id": "30cb7ca0",
   "metadata": {},
   "source": [
    "At some point, the slope becomes 0"
   ]
  },
  {
   "cell_type": "code",
   "execution_count": 10,
   "id": "e19ba5b8",
   "metadata": {},
   "outputs": [
    {
     "name": "stdout",
     "output_type": "stream",
     "text": [
      "Slope = 2.9753977059954195e-07\n",
      "Note, that its very close to 0 ot almost 0\n"
     ]
    }
   ],
   "source": [
    "h = 0.0000001\n",
    "x = 2/3\n",
    "print(\"Slope = {}\".format((f(x+h)-f(x))/h))\n",
    "print(\"Note, that its very close to 0 ot almost 0\")"
   ]
  },
  {
   "cell_type": "markdown",
   "id": "22f8301b",
   "metadata": {},
   "source": [
    "The next is another example of multi-variable equation, which is $$d_1 = a*b+c$$ \n",
    "Diffenrentiating this expression wrt to $a$ will give us, $$\\frac{d d1}{da} = b$$\n",
    "The value of $b$ is $-3$, which is what we get as the slope"
   ]
  },
  {
   "cell_type": "code",
   "execution_count": 38,
   "id": "8f992b0f",
   "metadata": {},
   "outputs": [
    {
     "name": "stdout",
     "output_type": "stream",
     "text": [
      "d1 = 4.0\n",
      "d2 = 3.999699999999999\n",
      "Slope = -3.000000000010772\n"
     ]
    }
   ],
   "source": [
    "## Another example\n",
    "h = 0.0001\n",
    "a = 2.0\n",
    "b = -3.0\n",
    "c = 10\n",
    "\n",
    "d1 = a*b+c\n",
    "a+=h\n",
    "d2 = a*b+c\n",
    "\n",
    "print(\"d1 = {}\".format(d1))\n",
    "print(\"d2 = {}\".format(d2))\n",
    "print(\"Slope = {}\".format((d2-d1)/h))"
   ]
  },
  {
   "cell_type": "markdown",
   "id": "f99732b8",
   "metadata": {},
   "source": [
    "Differentiating wrt to $c$ gives us a different result as expected because,\n",
    "$$\\frac{d d1}{dc} = 1$$"
   ]
  },
  {
   "cell_type": "code",
   "execution_count": 87,
   "id": "d3f2950d",
   "metadata": {},
   "outputs": [
    {
     "name": "stdout",
     "output_type": "stream",
     "text": [
      "d1 = 4.0\n",
      "d2 = 4.0001\n",
      "Slope = 0.9999999999976694\n"
     ]
    }
   ],
   "source": [
    "## Another example\n",
    "h = 0.0001 # the slight nudge\n",
    "\n",
    "a = 2.0\n",
    "b = -3.0\n",
    "c = 10\n",
    "\n",
    "d1 = a*b+c\n",
    "c+=h\n",
    "d2 = a*b+c\n",
    "\n",
    "print(\"d1 = {}\".format(d1))\n",
    "print(\"d2 = {}\".format(d2))\n",
    "print(\"Slope = {}\".format((d2-d1)/h))"
   ]
  },
  {
   "cell_type": "markdown",
   "id": "2f4009b1",
   "metadata": {},
   "source": [
    "#### Designing the `value` object of micrograd"
   ]
  },
  {
   "cell_type": "code",
   "execution_count": 8,
   "id": "8d74da2b",
   "metadata": {},
   "outputs": [],
   "source": [
    "class Value:\n",
    "    def __init__(self, data, _children = (), _op='', label=''):\n",
    "        self.data = data\n",
    "        self.grad = 0.0 #initially we assume that input do not effect the output.\n",
    "        self._prev = set(_children)\n",
    "        self._op = _op\n",
    "        self.label = label\n",
    "    def __repr__(self):\n",
    "        return f\"Value(data={self.data}, label={self.label})\"\n",
    "    def __add__(self, other):\n",
    "        out = Value(self.data + other.data, (self, other), '+')\n",
    "        return out\n",
    "    def __mul__(self, other):\n",
    "        out = Value(self.data * other.data, (self, other), '*')\n",
    "        return out"
   ]
  },
  {
   "cell_type": "code",
   "execution_count": 9,
   "id": "18b5a088",
   "metadata": {},
   "outputs": [
    {
     "data": {
      "text/plain": [
       "Value(data=-8.0, label=L)"
      ]
     },
     "execution_count": 9,
     "metadata": {},
     "output_type": "execute_result"
    }
   ],
   "source": [
    "a = Value(2, label='a')\n",
    "b = Value(-3, label='b')\n",
    "c = Value(10, label='c')\n",
    "\n",
    "e = a*b; e.label='e'\n",
    "d = e+c; d.label='d'\n",
    "\n",
    "f = Value(-2.0, label='f')\n",
    "L = d*f; L.label='L'\n",
    "\n",
    "L"
   ]
  },
  {
   "cell_type": "code",
   "execution_count": 12,
   "id": "4fe6c8e2",
   "metadata": {},
   "outputs": [],
   "source": [
    "from graphviz import Digraph\n",
    "\n",
    "def trace(root):\n",
    "  # builds a set of all nodes and edges in a graph\n",
    "  nodes, edges = set(), set()\n",
    "  def build(v):\n",
    "    if v not in nodes:\n",
    "      nodes.add(v)\n",
    "      for child in v._prev:\n",
    "        edges.add((child, v))\n",
    "        build(child)\n",
    "  build(root)\n",
    "  return nodes, edges\n",
    "\n",
    "def draw_dot(root):\n",
    "  dot = Digraph(format='svg', graph_attr={'rankdir': 'LR'}) # LR = left to right\n",
    "  \n",
    "  nodes, edges = trace(root)\n",
    "  for n in nodes:\n",
    "    uid = str(id(n))\n",
    "    # for any value in the graph, create a rectangular ('record') node for it\n",
    "    dot.node(name = uid, label = \"{ %s | data %.4f | grad %.4f }\" % (n.label, n.data, n.grad), shape='record')\n",
    "    if n._op:\n",
    "      # if this value is a result of some operation, create an op node for it\n",
    "      dot.node(name = uid + n._op, label = n._op)\n",
    "      # and connect this node to it\n",
    "      dot.edge(uid + n._op, uid)\n",
    "\n",
    "  for n1, n2 in edges:\n",
    "    # connect n1 to the op node of n2\n",
    "    dot.edge(str(id(n1)), str(id(n2)) + n2._op)\n",
    "\n",
    "  return dot"
   ]
  },
  {
   "cell_type": "code",
   "execution_count": 14,
   "id": "b45fa4a5",
   "metadata": {},
   "outputs": [],
   "source": [
    "L.grad = 1"
   ]
  },
  {
   "cell_type": "code",
   "execution_count": 15,
   "id": "5115732b",
   "metadata": {},
   "outputs": [
    {
     "data": {
      "image/svg+xml": [
       "<?xml version=\"1.0\" encoding=\"UTF-8\" standalone=\"no\"?>\n",
       "<!DOCTYPE svg PUBLIC \"-//W3C//DTD SVG 1.1//EN\"\n",
       " \"http://www.w3.org/Graphics/SVG/1.1/DTD/svg11.dtd\">\n",
       "<!-- Generated by graphviz version 2.40.1 (20161225.0304)\n",
       " -->\n",
       "<!-- Title: %3 Pages: 1 -->\n",
       "<svg width=\"1158pt\" height=\"156pt\"\n",
       " viewBox=\"0.00 0.00 1158.00 156.00\" xmlns=\"http://www.w3.org/2000/svg\" xmlns:xlink=\"http://www.w3.org/1999/xlink\">\n",
       "<g id=\"graph0\" class=\"graph\" transform=\"scale(1 1) rotate(0) translate(4 152)\">\n",
       "<title>%3</title>\n",
       "<polygon fill=\"#ffffff\" stroke=\"transparent\" points=\"-4,4 -4,-152 1154,-152 1154,4 -4,4\"/>\n",
       "<!-- 140508255034912 -->\n",
       "<g id=\"node1\" class=\"node\">\n",
       "<title>140508255034912</title>\n",
       "<polygon fill=\"none\" stroke=\"#000000\" points=\"2.5,-111.5 2.5,-147.5 190.5,-147.5 190.5,-111.5 2.5,-111.5\"/>\n",
       "<text text-anchor=\"middle\" x=\"14\" y=\"-125.8\" font-family=\"Times,serif\" font-size=\"14.00\" fill=\"#000000\">a</text>\n",
       "<polyline fill=\"none\" stroke=\"#000000\" points=\"25.5,-111.5 25.5,-147.5 \"/>\n",
       "<text text-anchor=\"middle\" x=\"66.5\" y=\"-125.8\" font-family=\"Times,serif\" font-size=\"14.00\" fill=\"#000000\">data 2.0000</text>\n",
       "<polyline fill=\"none\" stroke=\"#000000\" points=\"107.5,-111.5 107.5,-147.5 \"/>\n",
       "<text text-anchor=\"middle\" x=\"149\" y=\"-125.8\" font-family=\"Times,serif\" font-size=\"14.00\" fill=\"#000000\">grad 0.0000</text>\n",
       "</g>\n",
       "<!-- 140508255033952* -->\n",
       "<g id=\"node6\" class=\"node\">\n",
       "<title>140508255033952*</title>\n",
       "<ellipse fill=\"none\" stroke=\"#000000\" cx=\"256\" cy=\"-101.5\" rx=\"27\" ry=\"18\"/>\n",
       "<text text-anchor=\"middle\" x=\"256\" y=\"-97.8\" font-family=\"Times,serif\" font-size=\"14.00\" fill=\"#000000\">*</text>\n",
       "</g>\n",
       "<!-- 140508255034912&#45;&gt;140508255033952* -->\n",
       "<g id=\"edge5\" class=\"edge\">\n",
       "<title>140508255034912&#45;&gt;140508255033952*</title>\n",
       "<path fill=\"none\" stroke=\"#000000\" d=\"M190.665,-112.9695C200.9422,-111.1653 210.8889,-109.4192 219.7917,-107.8563\"/>\n",
       "<polygon fill=\"#000000\" stroke=\"#000000\" points=\"220.4763,-111.2897 229.7205,-106.1133 219.2659,-104.3952 220.4763,-111.2897\"/>\n",
       "</g>\n",
       "<!-- 140508255032368 -->\n",
       "<g id=\"node2\" class=\"node\">\n",
       "<title>140508255032368</title>\n",
       "<polygon fill=\"none\" stroke=\"#000000\" points=\"640.5,-55.5 640.5,-91.5 829.5,-91.5 829.5,-55.5 640.5,-55.5\"/>\n",
       "<text text-anchor=\"middle\" x=\"652.5\" y=\"-69.8\" font-family=\"Times,serif\" font-size=\"14.00\" fill=\"#000000\">d</text>\n",
       "<polyline fill=\"none\" stroke=\"#000000\" points=\"664.5,-55.5 664.5,-91.5 \"/>\n",
       "<text text-anchor=\"middle\" x=\"705.5\" y=\"-69.8\" font-family=\"Times,serif\" font-size=\"14.00\" fill=\"#000000\">data 4.0000</text>\n",
       "<polyline fill=\"none\" stroke=\"#000000\" points=\"746.5,-55.5 746.5,-91.5 \"/>\n",
       "<text text-anchor=\"middle\" x=\"788\" y=\"-69.8\" font-family=\"Times,serif\" font-size=\"14.00\" fill=\"#000000\">grad 0.0000</text>\n",
       "</g>\n",
       "<!-- 140508255031984* -->\n",
       "<g id=\"node8\" class=\"node\">\n",
       "<title>140508255031984*</title>\n",
       "<ellipse fill=\"none\" stroke=\"#000000\" cx=\"893\" cy=\"-45.5\" rx=\"27\" ry=\"18\"/>\n",
       "<text text-anchor=\"middle\" x=\"893\" y=\"-41.8\" font-family=\"Times,serif\" font-size=\"14.00\" fill=\"#000000\">*</text>\n",
       "</g>\n",
       "<!-- 140508255032368&#45;&gt;140508255031984* -->\n",
       "<g id=\"edge8\" class=\"edge\">\n",
       "<title>140508255032368&#45;&gt;140508255031984*</title>\n",
       "<path fill=\"none\" stroke=\"#000000\" d=\"M829.6457,-56.7273C839.1652,-55.0403 848.3689,-53.4093 856.6736,-51.9376\"/>\n",
       "<polygon fill=\"#000000\" stroke=\"#000000\" points=\"857.4325,-55.3577 866.6683,-50.1664 856.211,-48.4651 857.4325,-55.3577\"/>\n",
       "</g>\n",
       "<!-- 140508255032368+ -->\n",
       "<g id=\"node3\" class=\"node\">\n",
       "<title>140508255032368+</title>\n",
       "<ellipse fill=\"none\" stroke=\"#000000\" cx=\"577\" cy=\"-73.5\" rx=\"27\" ry=\"18\"/>\n",
       "<text text-anchor=\"middle\" x=\"577\" y=\"-69.8\" font-family=\"Times,serif\" font-size=\"14.00\" fill=\"#000000\">+</text>\n",
       "</g>\n",
       "<!-- 140508255032368+&#45;&gt;140508255032368 -->\n",
       "<g id=\"edge1\" class=\"edge\">\n",
       "<title>140508255032368+&#45;&gt;140508255032368</title>\n",
       "<path fill=\"none\" stroke=\"#000000\" d=\"M604.1612,-73.5C611.8883,-73.5 620.8001,-73.5 630.2653,-73.5\"/>\n",
       "<polygon fill=\"#000000\" stroke=\"#000000\" points=\"630.3028,-77.0001 640.3027,-73.5 630.3027,-70.0001 630.3028,-77.0001\"/>\n",
       "</g>\n",
       "<!-- 140508255031888 -->\n",
       "<g id=\"node4\" class=\"node\">\n",
       "<title>140508255031888</title>\n",
       "<polygon fill=\"none\" stroke=\"#000000\" points=\"319,-28.5 319,-64.5 514,-64.5 514,-28.5 319,-28.5\"/>\n",
       "<text text-anchor=\"middle\" x=\"330.5\" y=\"-42.8\" font-family=\"Times,serif\" font-size=\"14.00\" fill=\"#000000\">c</text>\n",
       "<polyline fill=\"none\" stroke=\"#000000\" points=\"342,-28.5 342,-64.5 \"/>\n",
       "<text text-anchor=\"middle\" x=\"386.5\" y=\"-42.8\" font-family=\"Times,serif\" font-size=\"14.00\" fill=\"#000000\">data 10.0000</text>\n",
       "<polyline fill=\"none\" stroke=\"#000000\" points=\"431,-28.5 431,-64.5 \"/>\n",
       "<text text-anchor=\"middle\" x=\"472.5\" y=\"-42.8\" font-family=\"Times,serif\" font-size=\"14.00\" fill=\"#000000\">grad 0.0000</text>\n",
       "</g>\n",
       "<!-- 140508255031888&#45;&gt;140508255032368+ -->\n",
       "<g id=\"edge7\" class=\"edge\">\n",
       "<title>140508255031888&#45;&gt;140508255032368+</title>\n",
       "<path fill=\"none\" stroke=\"#000000\" d=\"M514.0268,-62.9064C523.4423,-64.4903 532.5247,-66.0182 540.7217,-67.3971\"/>\n",
       "<polygon fill=\"#000000\" stroke=\"#000000\" points=\"540.1473,-70.8496 550.5894,-69.0571 541.3086,-63.9466 540.1473,-70.8496\"/>\n",
       "</g>\n",
       "<!-- 140508255033952 -->\n",
       "<g id=\"node5\" class=\"node\">\n",
       "<title>140508255033952</title>\n",
       "<polygon fill=\"none\" stroke=\"#000000\" points=\"320.5,-83.5 320.5,-119.5 512.5,-119.5 512.5,-83.5 320.5,-83.5\"/>\n",
       "<text text-anchor=\"middle\" x=\"332\" y=\"-97.8\" font-family=\"Times,serif\" font-size=\"14.00\" fill=\"#000000\">e</text>\n",
       "<polyline fill=\"none\" stroke=\"#000000\" points=\"343.5,-83.5 343.5,-119.5 \"/>\n",
       "<text text-anchor=\"middle\" x=\"386.5\" y=\"-97.8\" font-family=\"Times,serif\" font-size=\"14.00\" fill=\"#000000\">data &#45;6.0000</text>\n",
       "<polyline fill=\"none\" stroke=\"#000000\" points=\"429.5,-83.5 429.5,-119.5 \"/>\n",
       "<text text-anchor=\"middle\" x=\"471\" y=\"-97.8\" font-family=\"Times,serif\" font-size=\"14.00\" fill=\"#000000\">grad 0.0000</text>\n",
       "</g>\n",
       "<!-- 140508255033952&#45;&gt;140508255032368+ -->\n",
       "<g id=\"edge4\" class=\"edge\">\n",
       "<title>140508255033952&#45;&gt;140508255032368+</title>\n",
       "<path fill=\"none\" stroke=\"#000000\" d=\"M512.6433,-84.7273C522.6107,-82.9885 532.2373,-81.3091 540.8743,-79.8023\"/>\n",
       "<polygon fill=\"#000000\" stroke=\"#000000\" points=\"541.6256,-83.2242 550.8753,-78.0576 540.4225,-76.3283 541.6256,-83.2242\"/>\n",
       "</g>\n",
       "<!-- 140508255033952*&#45;&gt;140508255033952 -->\n",
       "<g id=\"edge2\" class=\"edge\">\n",
       "<title>140508255033952*&#45;&gt;140508255033952</title>\n",
       "<path fill=\"none\" stroke=\"#000000\" d=\"M283.2266,-101.5C291.2088,-101.5 300.4578,-101.5 310.2895,-101.5\"/>\n",
       "<polygon fill=\"#000000\" stroke=\"#000000\" points=\"310.29,-105.0001 320.2899,-101.5 310.2899,-98.0001 310.29,-105.0001\"/>\n",
       "</g>\n",
       "<!-- 140508255031984 -->\n",
       "<g id=\"node7\" class=\"node\">\n",
       "<title>140508255031984</title>\n",
       "<polygon fill=\"none\" stroke=\"#000000\" points=\"956,-27.5 956,-63.5 1150,-63.5 1150,-27.5 956,-27.5\"/>\n",
       "<text text-anchor=\"middle\" x=\"968.5\" y=\"-41.8\" font-family=\"Times,serif\" font-size=\"14.00\" fill=\"#000000\">L</text>\n",
       "<polyline fill=\"none\" stroke=\"#000000\" points=\"981,-27.5 981,-63.5 \"/>\n",
       "<text text-anchor=\"middle\" x=\"1024\" y=\"-41.8\" font-family=\"Times,serif\" font-size=\"14.00\" fill=\"#000000\">data &#45;8.0000</text>\n",
       "<polyline fill=\"none\" stroke=\"#000000\" points=\"1067,-27.5 1067,-63.5 \"/>\n",
       "<text text-anchor=\"middle\" x=\"1108.5\" y=\"-41.8\" font-family=\"Times,serif\" font-size=\"14.00\" fill=\"#000000\">grad 1.0000</text>\n",
       "</g>\n",
       "<!-- 140508255031984*&#45;&gt;140508255031984 -->\n",
       "<g id=\"edge3\" class=\"edge\">\n",
       "<title>140508255031984*&#45;&gt;140508255031984</title>\n",
       "<path fill=\"none\" stroke=\"#000000\" d=\"M920.1418,-45.5C927.6715,-45.5 936.3319,-45.5 945.5452,-45.5\"/>\n",
       "<polygon fill=\"#000000\" stroke=\"#000000\" points=\"945.7322,-49.0001 955.7322,-45.5 945.7322,-42.0001 945.7322,-49.0001\"/>\n",
       "</g>\n",
       "<!-- 140508255035152 -->\n",
       "<g id=\"node9\" class=\"node\">\n",
       "<title>140508255035152</title>\n",
       "<polygon fill=\"none\" stroke=\"#000000\" points=\"640,-.5 640,-36.5 830,-36.5 830,-.5 640,-.5\"/>\n",
       "<text text-anchor=\"middle\" x=\"650.5\" y=\"-14.8\" font-family=\"Times,serif\" font-size=\"14.00\" fill=\"#000000\">f</text>\n",
       "<polyline fill=\"none\" stroke=\"#000000\" points=\"661,-.5 661,-36.5 \"/>\n",
       "<text text-anchor=\"middle\" x=\"704\" y=\"-14.8\" font-family=\"Times,serif\" font-size=\"14.00\" fill=\"#000000\">data &#45;2.0000</text>\n",
       "<polyline fill=\"none\" stroke=\"#000000\" points=\"747,-.5 747,-36.5 \"/>\n",
       "<text text-anchor=\"middle\" x=\"788.5\" y=\"-14.8\" font-family=\"Times,serif\" font-size=\"14.00\" fill=\"#000000\">grad 0.0000</text>\n",
       "</g>\n",
       "<!-- 140508255035152&#45;&gt;140508255031984* -->\n",
       "<g id=\"edge9\" class=\"edge\">\n",
       "<title>140508255035152&#45;&gt;140508255031984*</title>\n",
       "<path fill=\"none\" stroke=\"#000000\" d=\"M830.1002,-34.7513C839.3706,-36.3355 848.332,-37.8669 856.4442,-39.2531\"/>\n",
       "<polygon fill=\"#000000\" stroke=\"#000000\" points=\"856.1271,-42.7496 866.5738,-40.9841 857.3063,-35.8496 856.1271,-42.7496\"/>\n",
       "</g>\n",
       "<!-- 140508255034144 -->\n",
       "<g id=\"node10\" class=\"node\">\n",
       "<title>140508255034144</title>\n",
       "<polygon fill=\"none\" stroke=\"#000000\" points=\"0,-56.5 0,-92.5 193,-92.5 193,-56.5 0,-56.5\"/>\n",
       "<text text-anchor=\"middle\" x=\"12\" y=\"-70.8\" font-family=\"Times,serif\" font-size=\"14.00\" fill=\"#000000\">b</text>\n",
       "<polyline fill=\"none\" stroke=\"#000000\" points=\"24,-56.5 24,-92.5 \"/>\n",
       "<text text-anchor=\"middle\" x=\"67\" y=\"-70.8\" font-family=\"Times,serif\" font-size=\"14.00\" fill=\"#000000\">data &#45;3.0000</text>\n",
       "<polyline fill=\"none\" stroke=\"#000000\" points=\"110,-56.5 110,-92.5 \"/>\n",
       "<text text-anchor=\"middle\" x=\"151.5\" y=\"-70.8\" font-family=\"Times,serif\" font-size=\"14.00\" fill=\"#000000\">grad 0.0000</text>\n",
       "</g>\n",
       "<!-- 140508255034144&#45;&gt;140508255033952* -->\n",
       "<g id=\"edge6\" class=\"edge\">\n",
       "<title>140508255034144&#45;&gt;140508255033952*</title>\n",
       "<path fill=\"none\" stroke=\"#000000\" d=\"M193.4192,-90.9064C202.672,-92.4727 211.6012,-93.9842 219.6759,-95.3511\"/>\n",
       "<polygon fill=\"#000000\" stroke=\"#000000\" points=\"219.31,-98.8389 229.754,-97.0571 220.4784,-91.9371 219.31,-98.8389\"/>\n",
       "</g>\n",
       "</g>\n",
       "</svg>\n"
      ],
      "text/plain": [
       "<graphviz.graphs.Digraph at 0x7fcac2ec6d30>"
      ]
     },
     "execution_count": 15,
     "metadata": {},
     "output_type": "execute_result"
    }
   ],
   "source": [
    "draw_dot(L)"
   ]
  },
  {
   "cell_type": "code",
   "execution_count": 104,
   "id": "3219f060",
   "metadata": {},
   "outputs": [
    {
     "name": "stdout",
     "output_type": "stream",
     "text": [
      "-2.000000000000668\n"
     ]
    }
   ],
   "source": [
    "def lol():\n",
    "    h = 0.001\n",
    "    a = Value(2.0, label='a')\n",
    "    b = Value(-3.0, label='b')\n",
    "    c = Value(10.0, label='c')\n",
    "    e = a*b; e.label = 'e'\n",
    "    d = e + c; d.label = 'd'\n",
    "    f = Value(-2.0, label='f')\n",
    "    L = d * f; L.label = 'L'\n",
    "    L1 = L.data\n",
    "\n",
    "    a = Value(2.0, label='a')\n",
    "    b = Value(-3.0, label='b')\n",
    "    c = Value(10.0, label='c')\n",
    "    e = a*b; e.label = 'e'\n",
    "    d = e + c; d.label = 'd'\n",
    "    d.data += h\n",
    "    f = Value(-2.0, label='f')\n",
    "    L = d * f; L.label = 'L'\n",
    "    L2 = L.data\n",
    "    print((L2 - L1)/h)\n",
    "  \n",
    "lol()"
   ]
  },
  {
   "cell_type": "code",
   "execution_count": null,
   "id": "2c4d5d0e",
   "metadata": {},
   "outputs": [],
   "source": []
  }
 ],
 "metadata": {
  "kernelspec": {
   "display_name": "Python 3 (ipykernel)",
   "language": "python",
   "name": "python3"
  },
  "language_info": {
   "codemirror_mode": {
    "name": "ipython",
    "version": 3
   },
   "file_extension": ".py",
   "mimetype": "text/x-python",
   "name": "python",
   "nbconvert_exporter": "python",
   "pygments_lexer": "ipython3",
   "version": "3.9.12"
  }
 },
 "nbformat": 4,
 "nbformat_minor": 5
}
