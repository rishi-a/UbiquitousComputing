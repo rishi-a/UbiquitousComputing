{
 "cells": [
  {
   "cell_type": "code",
   "execution_count": 1,
   "id": "e9925d56",
   "metadata": {},
   "outputs": [],
   "source": [
    "import numpy as np\n",
    "import sys\n",
    "try: \n",
    "    from rplidar import RPLidar\n",
    "except:\n",
    "    %pip install rplidar-roboticia\n",
    "    from rplidar import RPLidar\n",
    "    \n",
    "import latexify as lt\n",
    "import scipy.signal as signal"
   ]
  },
  {
   "cell_type": "markdown",
   "id": "e9b71f34",
   "metadata": {},
   "source": [
    "sleeping/4.csv"
   ]
  },
  {
   "cell_type": "code",
   "execution_count": 9,
   "id": "e30ce556",
   "metadata": {},
   "outputs": [
    {
     "name": "stdout",
     "output_type": "stream",
     "text": [
      "sleeping/6.csv\n",
      "Recording measurments... Press Crl+C to stop.\n",
      "Stoping.\n"
     ]
    }
   ],
   "source": [
    "#record measurements\n",
    "PORT_NAME = 'COM5'\n",
    "\n",
    "\n",
    "def run(path):\n",
    "    '''Main function'''\n",
    "    lidar = RPLidar(PORT_NAME)\n",
    "    outfile = open(path, 'w')\n",
    "    try:\n",
    "        print('Recording measurments... Press Crl+C to stop.')\n",
    "        for measurment in lidar.iter_measures():\n",
    "            line = '\\t'.join(str(v) for v in measurment)\n",
    "            outfile.write(line + '\\n')\n",
    "    except KeyboardInterrupt:\n",
    "        print('Stoping.')\n",
    "    lidar.stop()\n",
    "    lidar.disconnect()\n",
    "    outfile.close()\n",
    "\n",
    "if __name__ == '__main__':\n",
    "    run(input())"
   ]
  },
  {
   "cell_type": "code",
   "execution_count": null,
   "id": "01d264e5",
   "metadata": {},
   "outputs": [],
   "source": [
    "lidar = RPLidar('COM5')\n",
    "\n",
    "info = lidar.get_info()\n",
    "print(info)"
   ]
  },
  {
   "cell_type": "code",
   "execution_count": 2,
   "id": "9c3d9004",
   "metadata": {},
   "outputs": [
    {
     "name": "stdout",
     "output_type": "stream",
     "text": [
      "{'model': 24, 'firmware': (1, 29), 'hardware': 7, 'serialnumber': 'E3E0EDF9C7E29BD1A7E39EF27333431B'}\n",
      "('Good', 0)\n",
      "0: Got 11 measurments\n",
      "1: Got 206 measurments\n",
      "2: Got 211 measurments\n",
      "3: Got 207 measurments\n",
      "4: Got 207 measurments\n",
      "5: Got 209 measurments\n",
      "6: Got 212 measurments\n",
      "7: Got 209 measurments\n",
      "8: Got 211 measurments\n",
      "9: Got 208 measurments\n",
      "10: Got 206 measurments\n",
      "11: Got 210 measurments\n"
     ]
    }
   ],
   "source": [
    "lidar = RPLidar('COM5')\n",
    "\n",
    "info = lidar.get_info()\n",
    "print(info)\n",
    "\n",
    "health = lidar.get_health()\n",
    "print(health)\n",
    "\n",
    "for i, scan in enumerate(lidar.iter_scans()):\n",
    "    print('%d: Got %d measurments' % (i, len(scan)))\n",
    "    if i > 10:\n",
    "        break\n",
    "\n",
    "lidar.stop()\n",
    "lidar.stop_motor()\n",
    "lidar.disconnect()"
   ]
  },
  {
   "cell_type": "code",
   "execution_count": 5,
   "id": "97342d94",
   "metadata": {},
   "outputs": [
    {
     "ename": "NameError",
     "evalue": "name 'lidar' is not defined",
     "output_type": "error",
     "traceback": [
      "\u001b[1;31m---------------------------------------------------------------------------\u001b[0m",
      "\u001b[1;31mNameError\u001b[0m                                 Traceback (most recent call last)",
      "\u001b[1;32m~\\AppData\\Local\\Temp/ipykernel_16588/3760131019.py\u001b[0m in \u001b[0;36m<module>\u001b[1;34m\u001b[0m\n\u001b[1;32m----> 1\u001b[1;33m \u001b[0mlidar\u001b[0m\u001b[1;33m.\u001b[0m\u001b[0mdisconnect\u001b[0m\u001b[1;33m(\u001b[0m\u001b[1;33m)\u001b[0m\u001b[1;33m\u001b[0m\u001b[1;33m\u001b[0m\u001b[0m\n\u001b[0m",
      "\u001b[1;31mNameError\u001b[0m: name 'lidar' is not defined"
     ]
    }
   ],
   "source": [
    "lidar.disconnect()"
   ]
  },
  {
   "cell_type": "code",
   "execution_count": 100,
   "id": "2fd78b72",
   "metadata": {},
   "outputs": [],
   "source": [
    "\n",
    "lidar = RPLidar('COM5')"
   ]
  },
  {
   "cell_type": "code",
   "execution_count": 101,
   "id": "c2a75397",
   "metadata": {},
   "outputs": [
    {
     "ename": "RPLidarException",
     "evalue": "Descriptor length mismatch",
     "output_type": "error",
     "traceback": [
      "\u001b[1;31m---------------------------------------------------------------------------\u001b[0m",
      "\u001b[1;31mRPLidarException\u001b[0m                          Traceback (most recent call last)",
      "\u001b[1;32m~\\AppData\\Local\\Temp/ipykernel_10288/2100216110.py\u001b[0m in \u001b[0;36m<module>\u001b[1;34m\u001b[0m\n\u001b[0;32m      2\u001b[0m \u001b[0mdistance_data\u001b[0m \u001b[1;33m=\u001b[0m \u001b[1;33m[\u001b[0m\u001b[1;33m]\u001b[0m\u001b[1;33m\u001b[0m\u001b[1;33m\u001b[0m\u001b[0m\n\u001b[0;32m      3\u001b[0m \u001b[1;32mtry\u001b[0m\u001b[1;33m:\u001b[0m\u001b[1;33m\u001b[0m\u001b[1;33m\u001b[0m\u001b[0m\n\u001b[1;32m----> 4\u001b[1;33m     \u001b[1;32mfor\u001b[0m \u001b[0mn_scan\u001b[0m\u001b[1;33m,\u001b[0m \u001b[0mquality\u001b[0m\u001b[1;33m,\u001b[0m \u001b[0mangle\u001b[0m\u001b[1;33m,\u001b[0m \u001b[0mdist\u001b[0m \u001b[1;32min\u001b[0m \u001b[0mlidar\u001b[0m\u001b[1;33m.\u001b[0m\u001b[0miter_measures\u001b[0m\u001b[1;33m(\u001b[0m\u001b[1;33m)\u001b[0m\u001b[1;33m:\u001b[0m\u001b[1;33m\u001b[0m\u001b[1;33m\u001b[0m\u001b[0m\n\u001b[0m\u001b[0;32m      5\u001b[0m         \u001b[0mangle_data\u001b[0m\u001b[1;33m.\u001b[0m\u001b[0mappend\u001b[0m\u001b[1;33m(\u001b[0m\u001b[0mangle\u001b[0m\u001b[1;33m)\u001b[0m\u001b[1;33m\u001b[0m\u001b[1;33m\u001b[0m\u001b[0m\n\u001b[0;32m      6\u001b[0m         \u001b[0mdistance_data\u001b[0m\u001b[1;33m.\u001b[0m\u001b[0mappend\u001b[0m\u001b[1;33m(\u001b[0m\u001b[0mdist\u001b[0m\u001b[1;33m)\u001b[0m\u001b[1;33m\u001b[0m\u001b[1;33m\u001b[0m\u001b[0m\n",
      "\u001b[1;32mD:\\anaconda3\\lib\\site-packages\\rplidar.py\u001b[0m in \u001b[0;36miter_measures\u001b[1;34m(self, scan_type, max_buf_meas)\u001b[0m\n\u001b[0;32m    381\u001b[0m         \u001b[0mself\u001b[0m\u001b[1;33m.\u001b[0m\u001b[0mstart_motor\u001b[0m\u001b[1;33m(\u001b[0m\u001b[1;33m)\u001b[0m\u001b[1;33m\u001b[0m\u001b[1;33m\u001b[0m\u001b[0m\n\u001b[0;32m    382\u001b[0m         \u001b[1;32mif\u001b[0m \u001b[1;32mnot\u001b[0m \u001b[0mself\u001b[0m\u001b[1;33m.\u001b[0m\u001b[0mscanning\u001b[0m\u001b[1;33m[\u001b[0m\u001b[1;36m0\u001b[0m\u001b[1;33m]\u001b[0m\u001b[1;33m:\u001b[0m\u001b[1;33m\u001b[0m\u001b[1;33m\u001b[0m\u001b[0m\n\u001b[1;32m--> 383\u001b[1;33m             \u001b[0mself\u001b[0m\u001b[1;33m.\u001b[0m\u001b[0mstart\u001b[0m\u001b[1;33m(\u001b[0m\u001b[0mscan_type\u001b[0m\u001b[1;33m)\u001b[0m\u001b[1;33m\u001b[0m\u001b[1;33m\u001b[0m\u001b[0m\n\u001b[0m\u001b[0;32m    384\u001b[0m         \u001b[1;32mwhile\u001b[0m \u001b[1;32mTrue\u001b[0m\u001b[1;33m:\u001b[0m\u001b[1;33m\u001b[0m\u001b[1;33m\u001b[0m\u001b[0m\n\u001b[0;32m    385\u001b[0m             \u001b[0mdsize\u001b[0m \u001b[1;33m=\u001b[0m \u001b[0mself\u001b[0m\u001b[1;33m.\u001b[0m\u001b[0mscanning\u001b[0m\u001b[1;33m[\u001b[0m\u001b[1;36m1\u001b[0m\u001b[1;33m]\u001b[0m\u001b[1;33m\u001b[0m\u001b[1;33m\u001b[0m\u001b[0m\n",
      "\u001b[1;32mD:\\anaconda3\\lib\\site-packages\\rplidar.py\u001b[0m in \u001b[0;36mstart\u001b[1;34m(self, scan_type)\u001b[0m\n\u001b[0;32m    317\u001b[0m         '''Start the scanning process, enable laser diode and the\n\u001b[0;32m    318\u001b[0m         measurement system'''\n\u001b[1;32m--> 319\u001b[1;33m         \u001b[0mstatus\u001b[0m\u001b[1;33m,\u001b[0m \u001b[0merror_code\u001b[0m \u001b[1;33m=\u001b[0m \u001b[0mself\u001b[0m\u001b[1;33m.\u001b[0m\u001b[0mget_health\u001b[0m\u001b[1;33m(\u001b[0m\u001b[1;33m)\u001b[0m\u001b[1;33m\u001b[0m\u001b[1;33m\u001b[0m\u001b[0m\n\u001b[0m\u001b[0;32m    320\u001b[0m         \u001b[0mself\u001b[0m\u001b[1;33m.\u001b[0m\u001b[0mlogger\u001b[0m\u001b[1;33m.\u001b[0m\u001b[0mdebug\u001b[0m\u001b[1;33m(\u001b[0m\u001b[1;34m'Health status: %s [%d]'\u001b[0m\u001b[1;33m,\u001b[0m \u001b[0mstatus\u001b[0m\u001b[1;33m,\u001b[0m \u001b[0merror_code\u001b[0m\u001b[1;33m)\u001b[0m\u001b[1;33m\u001b[0m\u001b[1;33m\u001b[0m\u001b[0m\n\u001b[0;32m    321\u001b[0m         \u001b[1;32mif\u001b[0m \u001b[0mstatus\u001b[0m \u001b[1;33m==\u001b[0m \u001b[0m_HEALTH_STATUSES\u001b[0m\u001b[1;33m[\u001b[0m\u001b[1;36m2\u001b[0m\u001b[1;33m]\u001b[0m\u001b[1;33m:\u001b[0m\u001b[1;33m\u001b[0m\u001b[1;33m\u001b[0m\u001b[0m\n",
      "\u001b[1;32mD:\\anaconda3\\lib\\site-packages\\rplidar.py\u001b[0m in \u001b[0;36mget_health\u001b[1;34m(self)\u001b[0m\n\u001b[0;32m    277\u001b[0m         \u001b[0mself\u001b[0m\u001b[1;33m.\u001b[0m\u001b[0mlogger\u001b[0m\u001b[1;33m.\u001b[0m\u001b[0minfo\u001b[0m\u001b[1;33m(\u001b[0m\u001b[1;34m'Asking for health'\u001b[0m\u001b[1;33m)\u001b[0m\u001b[1;33m\u001b[0m\u001b[1;33m\u001b[0m\u001b[0m\n\u001b[0;32m    278\u001b[0m         \u001b[0mself\u001b[0m\u001b[1;33m.\u001b[0m\u001b[0m_send_cmd\u001b[0m\u001b[1;33m(\u001b[0m\u001b[0mGET_HEALTH_BYTE\u001b[0m\u001b[1;33m)\u001b[0m\u001b[1;33m\u001b[0m\u001b[1;33m\u001b[0m\u001b[0m\n\u001b[1;32m--> 279\u001b[1;33m         \u001b[0mdsize\u001b[0m\u001b[1;33m,\u001b[0m \u001b[0mis_single\u001b[0m\u001b[1;33m,\u001b[0m \u001b[0mdtype\u001b[0m \u001b[1;33m=\u001b[0m \u001b[0mself\u001b[0m\u001b[1;33m.\u001b[0m\u001b[0m_read_descriptor\u001b[0m\u001b[1;33m(\u001b[0m\u001b[1;33m)\u001b[0m\u001b[1;33m\u001b[0m\u001b[1;33m\u001b[0m\u001b[0m\n\u001b[0m\u001b[0;32m    280\u001b[0m         \u001b[1;32mif\u001b[0m \u001b[0mdsize\u001b[0m \u001b[1;33m!=\u001b[0m \u001b[0mHEALTH_LEN\u001b[0m\u001b[1;33m:\u001b[0m\u001b[1;33m\u001b[0m\u001b[1;33m\u001b[0m\u001b[0m\n\u001b[0;32m    281\u001b[0m             \u001b[1;32mraise\u001b[0m \u001b[0mRPLidarException\u001b[0m\u001b[1;33m(\u001b[0m\u001b[1;34m'Wrong get_info reply length'\u001b[0m\u001b[1;33m)\u001b[0m\u001b[1;33m\u001b[0m\u001b[1;33m\u001b[0m\u001b[0m\n",
      "\u001b[1;32mD:\\anaconda3\\lib\\site-packages\\rplidar.py\u001b[0m in \u001b[0;36m_read_descriptor\u001b[1;34m(self)\u001b[0m\n\u001b[0;32m    212\u001b[0m         \u001b[0mself\u001b[0m\u001b[1;33m.\u001b[0m\u001b[0mlogger\u001b[0m\u001b[1;33m.\u001b[0m\u001b[0mdebug\u001b[0m\u001b[1;33m(\u001b[0m\u001b[1;34m'Received descriptor: %s'\u001b[0m\u001b[1;33m,\u001b[0m \u001b[0m_showhex\u001b[0m\u001b[1;33m(\u001b[0m\u001b[0mdescriptor\u001b[0m\u001b[1;33m)\u001b[0m\u001b[1;33m)\u001b[0m\u001b[1;33m\u001b[0m\u001b[1;33m\u001b[0m\u001b[0m\n\u001b[0;32m    213\u001b[0m         \u001b[1;32mif\u001b[0m \u001b[0mlen\u001b[0m\u001b[1;33m(\u001b[0m\u001b[0mdescriptor\u001b[0m\u001b[1;33m)\u001b[0m \u001b[1;33m!=\u001b[0m \u001b[0mDESCRIPTOR_LEN\u001b[0m\u001b[1;33m:\u001b[0m\u001b[1;33m\u001b[0m\u001b[1;33m\u001b[0m\u001b[0m\n\u001b[1;32m--> 214\u001b[1;33m             \u001b[1;32mraise\u001b[0m \u001b[0mRPLidarException\u001b[0m\u001b[1;33m(\u001b[0m\u001b[1;34m'Descriptor length mismatch'\u001b[0m\u001b[1;33m)\u001b[0m\u001b[1;33m\u001b[0m\u001b[1;33m\u001b[0m\u001b[0m\n\u001b[0m\u001b[0;32m    215\u001b[0m         \u001b[1;32melif\u001b[0m \u001b[1;32mnot\u001b[0m \u001b[0mdescriptor\u001b[0m\u001b[1;33m.\u001b[0m\u001b[0mstartswith\u001b[0m\u001b[1;33m(\u001b[0m\u001b[0mSYNC_BYTE\u001b[0m \u001b[1;33m+\u001b[0m \u001b[0mSYNC_BYTE2\u001b[0m\u001b[1;33m)\u001b[0m\u001b[1;33m:\u001b[0m\u001b[1;33m\u001b[0m\u001b[1;33m\u001b[0m\u001b[0m\n\u001b[0;32m    216\u001b[0m             \u001b[1;32mraise\u001b[0m \u001b[0mRPLidarException\u001b[0m\u001b[1;33m(\u001b[0m\u001b[1;34m'Incorrect descriptor starting bytes'\u001b[0m\u001b[1;33m)\u001b[0m\u001b[1;33m\u001b[0m\u001b[1;33m\u001b[0m\u001b[0m\n",
      "\u001b[1;31mRPLidarException\u001b[0m: Descriptor length mismatch"
     ]
    }
   ],
   "source": [
    "angle_data = []\n",
    "distance_data = []\n",
    "try:\n",
    "    for n_scan, quality, angle, dist in lidar.iter_measures():\n",
    "        angle_data.append(angle)\n",
    "        distance_data.append(dist)\n",
    "except KeyboardInterrupt:\n",
    "    print('Stoping.')\n",
    "lidar.stop()\n",
    "lidar.disconnect()"
   ]
  },
  {
   "cell_type": "code",
   "execution_count": 65,
   "id": "fde4f89b",
   "metadata": {},
   "outputs": [
    {
     "name": "stdout",
     "output_type": "stream",
     "text": [
      "{'model': 24, 'firmware': (1, 29), 'hardware': 7, 'serialnumber': 'E3E0EDF9C7E29BD1A7E39EF27333431B'}\n",
      "('Good', 0)\n",
      "0: Got 151 measurments\n",
      "1: Got 147 measurments\n",
      "2: Got 151 measurments\n",
      "3: Got 149 measurments\n",
      "4: Got 150 measurments\n",
      "5: Got 157 measurments\n",
      "6: Got 147 measurments\n"
     ]
    }
   ],
   "source": [
    "lidar = RPLidar('COM5')\n",
    "\n",
    "info = lidar.get_info()\n",
    "print(info)\n",
    "\n",
    "health = lidar.get_health()\n",
    "print(health)\n",
    "\n",
    "lidar.stop_motor()\n",
    "\n",
    "for i, scan in enumerate(lidar.iter_scans()):\n",
    "    print('%d: Got %d measurments' % (i, len(scan)))\n",
    "    #print(scan)\n",
    "    if i > 5:\n",
    "        break\n",
    "\n",
    "lidar.stop()\n",
    "lidar.stop_motor()\n",
    "lidar.disconnect()"
   ]
  },
  {
   "cell_type": "code",
   "execution_count": 5,
   "id": "08c13548",
   "metadata": {},
   "outputs": [
    {
     "name": "stdout",
     "output_type": "stream",
     "text": [
      "breathing-4bpm.csv\n",
      "Recording measurments... Press Crl+C to stop.\n",
      "Stoping.\n"
     ]
    }
   ],
   "source": [
    "import sys\n",
    "#from rplidar import RPLidar\n",
    "\n",
    "\n",
    "PORT_NAME = 'COM5'\n",
    "\n",
    "\n",
    "def run(path):\n",
    "    '''Main function'''\n",
    "    lidar = RPLidar(PORT_NAME)\n",
    "    outfile = open(path, 'w')\n",
    "    try:\n",
    "        print('Recording measurments... Press Crl+C to stop.')\n",
    "        for measurment in lidar.iter_measures():\n",
    "            line = '\\t'.join(str(v) for v in measurment)\n",
    "            outfile.write(line + '\\n')\n",
    "    except KeyboardInterrupt:\n",
    "        print('Stoping.')\n",
    "    lidar.stop()\n",
    "    lidar.disconnect()\n",
    "    outfile.close()\n",
    "\n",
    "if __name__ == '__main__':\n",
    "    run(input())"
   ]
  },
  {
   "cell_type": "code",
   "execution_count": 63,
   "id": "abd84819",
   "metadata": {},
   "outputs": [],
   "source": [
    "PORT_NAME = 'COM5'\n",
    "lidar = RPLidar(PORT_NAME)\n",
    "\n",
    "#iter_measures() returns new_scan, quality, angle, distance\n",
    "\n",
    "try:\n",
    "    for measurment in lidar.iter_measures():\n",
    "        print(measurment)\n",
    "        print(\"\\n\")\n",
    "except:\n",
    "    lidar.stop()\n",
    "    lidar.disconnect()"
   ]
  },
  {
   "cell_type": "code",
   "execution_count": null,
   "id": "44be962c",
   "metadata": {},
   "outputs": [],
   "source": []
  }
 ],
 "metadata": {
  "hide_input": false,
  "kernelspec": {
   "display_name": "Python 3 (ipykernel)",
   "language": "python",
   "name": "python3"
  },
  "language_info": {
   "codemirror_mode": {
    "name": "ipython",
    "version": 3
   },
   "file_extension": ".py",
   "mimetype": "text/x-python",
   "name": "python",
   "nbconvert_exporter": "python",
   "pygments_lexer": "ipython3",
   "version": "3.9.7"
  }
 },
 "nbformat": 4,
 "nbformat_minor": 5
}
